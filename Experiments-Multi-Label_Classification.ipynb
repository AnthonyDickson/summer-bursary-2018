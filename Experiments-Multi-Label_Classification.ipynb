{
 "cells": [
  {
   "cell_type": "code",
   "execution_count": 1,
   "metadata": {},
   "outputs": [],
   "source": [
    "import matplotlib.pyplot as plt\n",
    "import matplotlib.patches as patches\n",
    "import numpy as np\n",
    "import seaborn as sns\n",
    "from sklearn.datasets import load_digits\n",
    "from sklearn.model_selection import train_test_split\n",
    "import torch\n",
    "\n",
    "from raytracerthing import RayTracerThing, Activations\n",
    "\n",
    "np.random.seed(42)"
   ]
  },
  {
   "cell_type": "code",
   "execution_count": 2,
   "metadata": {},
   "outputs": [
    {
     "name": "stdout",
     "output_type": "stream",
     "text": [
      "1797 (8, 8)\n",
      "[0 1 2 3 4]\n"
     ]
    }
   ],
   "source": [
    "digits = load_digits()\n",
    "y = digits['target']\n",
    "\n",
    "X = digits['images']\n",
    "X = X / X.max()\n",
    "N = X.shape[0]\n",
    "image_shape = X.shape[1:]\n",
    "\n",
    "print(N, image_shape)\n",
    "\n",
    "print(y[:5])"
   ]
  },
  {
   "cell_type": "code",
   "execution_count": 3,
   "metadata": {},
   "outputs": [
    {
     "data": {
      "text/plain": [
       "(array([0, 1, 2, 3, 4, 5, 6, 7, 8, 9]),\n",
       " array([178, 182, 177, 183, 181, 182, 181, 179, 174, 180]))"
      ]
     },
     "execution_count": 3,
     "metadata": {},
     "output_type": "execute_result"
    }
   ],
   "source": [
    "np.unique(y, return_counts=True)"
   ]
  },
  {
   "cell_type": "code",
   "execution_count": 4,
   "metadata": {},
   "outputs": [],
   "source": [
    "X_train, X_test, y_train, y_test = train_test_split(X, y, test_size=0.2, shuffle=True, random_state=42)"
   ]
  },
  {
   "cell_type": "code",
   "execution_count": null,
   "metadata": {},
   "outputs": [
    {
     "name": "stdout",
     "output_type": "stream",
     "text": [
      "CPU times: user 1.98 s, sys: 125 ms, total: 2.11 s\n",
      "Wall time: 2.12 s\n"
     ]
    }
   ],
   "source": [
    "%%time\n",
    "\n",
    "clf = RayTracerThing(input_shape=image_shape,\n",
    "                     hidden_layer_shape=(10, 10), \n",
    "                     n_hidden_layers=7,\n",
    "                     n_classes=10,\n",
    "                     activation_func=Activations.softmax,\n",
    "                     loss_func=torch.nn.functional.cross_entropy,\n",
    "                     learning_rate=1,\n",
    "                     pixel_density=16)"
   ]
  },
  {
   "cell_type": "code",
   "execution_count": null,
   "metadata": {
    "scrolled": true
   },
   "outputs": [
    {
     "name": "stdout",
     "output_type": "stream",
     "text": [
      "Epoch 1 of 1000 - train_loss: 2.2937 - train_acc: 0.1371 - val_loss: 2.2471 - val_acc: 0.2535\n",
      "Epoch 2 of 1000 - train_loss: 2.2105 - train_acc: 0.3091 - val_loss: 2.1561 - val_acc: 0.3785\n",
      "Epoch 3 of 1000 - train_loss: 2.1446 - train_acc: 0.3701 - val_loss: 2.1129 - val_acc: 0.4410\n",
      "Epoch 4 of 1000 - train_loss: 2.0772 - train_acc: 0.4760 - val_loss: 2.0588 - val_acc: 0.5069\n",
      "Epoch 5 of 1000 - train_loss: 2.0143 - train_acc: 0.5619 - val_loss: 2.0214 - val_acc: 0.5278\n",
      "Epoch 6 of 1000 - train_loss: 1.9745 - train_acc: 0.6105 - val_loss: 1.9742 - val_acc: 0.6042\n",
      "Epoch 7 of 1000 - train_loss: 1.9445 - train_acc: 0.6437 - val_loss: 1.9539 - val_acc: 0.6389\n",
      "Epoch 8 of 1000 - train_loss: 1.9277 - train_acc: 0.6515 - val_loss: 1.9396 - val_acc: 0.6354\n",
      "Epoch 9 of 1000 - train_loss: 1.9168 - train_acc: 0.6532 - val_loss: 1.9311 - val_acc: 0.6389\n",
      "Epoch 10 of 1000 - train_loss: 1.9092 - train_acc: 0.6550 - val_loss: 1.9235 - val_acc: 0.6424\n",
      "Epoch 11 of 1000 - train_loss: 1.9023 - train_acc: 0.6567 - val_loss: 1.9162 - val_acc: 0.6424\n",
      "Epoch 12 of 1000 - train_loss: 1.8976 - train_acc: 0.6595 - val_loss: 1.9122 - val_acc: 0.6458\n",
      "Epoch 13 of 1000 - train_loss: 1.8945 - train_acc: 0.6613 - val_loss: 1.9093 - val_acc: 0.6424\n",
      "Epoch 14 of 1000 - train_loss: 1.8928 - train_acc: 0.6613 - val_loss: 1.9077 - val_acc: 0.6458\n",
      "Epoch 15 of 1000 - 1072/1149 - train_loss: 1.8909 - train_acc: 0.6618\r"
     ]
    }
   ],
   "source": [
    "%time clf.fit(X_train, y_train, batch_size=16, n_epochs=1000, early_stopping_epsilon=1e-5)"
   ]
  },
  {
   "cell_type": "code",
   "execution_count": null,
   "metadata": {},
   "outputs": [],
   "source": [
    "clf.score(X_test, y_test)"
   ]
  },
  {
   "cell_type": "code",
   "execution_count": null,
   "metadata": {},
   "outputs": [],
   "source": [
    "from sklearn.metrics import classification_report, confusion_matrix\n",
    "\n",
    "y_pred = clf.predict(X_test)\n",
    "\n",
    "print(classification_report(y_test, y_pred))"
   ]
  },
  {
   "cell_type": "code",
   "execution_count": null,
   "metadata": {},
   "outputs": [],
   "source": [
    "cm = sns.heatmap(confusion_matrix(y_test, y_pred), annot=True, cmap='Blues')\n",
    "\n",
    "cm.yaxis.set_ticklabels(cm.yaxis.get_ticklabels(), rotation=0, ha='right')\n",
    "cm.xaxis.set_ticklabels(cm.xaxis.get_ticklabels(), rotation=0, ha='right')\n",
    "cm.xaxis.tick_top()\n",
    "cm.xaxis.set_label_position('top')\n",
    "\n",
    "plt.ylabel('True label')\n",
    "plt.xlabel('Predicted label')\n",
    "plt.title('Multi-Label Classification Confusion Matrix', y=1.15)\n",
    "plt.savefig('images/multi-label_classification_confusion_matrix.png')"
   ]
  },
  {
   "cell_type": "code",
   "execution_count": null,
   "metadata": {},
   "outputs": [],
   "source": [
    "n_rows = 2\n",
    "n_cols = 8\n",
    "n_total = n_rows * n_cols\n",
    "n_total = min(n_total, N)\n",
    "\n",
    "width_ratio = 2\n",
    "height_ratio = 2\n",
    "\n",
    "figsize = (int(width_ratio * n_cols), int(height_ratio * n_rows))\n",
    "fig, axes = plt.subplots(n_rows, n_cols, figsize=figsize)\n",
    "axes = axes.ravel()\n",
    "\n",
    "for ax, image, expected, actual in zip(axes, X_test[:n_total], y_test[:n_total], y_pred[:n_total]):\n",
    "    sns.heatmap(image, cbar=False, cmap='gray', ax=ax)\n",
    "    ax.set_axis_off()\n",
    "\n",
    "    color = 'green' if expected == actual else 'red'\n",
    "    ax.set_title('%d' % actual, color=color)\n",
    "\n",
    "plt.suptitle('Sample of Multi-Label Classification Predictions')\n",
    "plt.savefig('images/mutli-label_classification_prediction_sample.png')"
   ]
  },
  {
   "cell_type": "code",
   "execution_count": null,
   "metadata": {
    "scrolled": false
   },
   "outputs": [],
   "source": [
    "colors = plt.cm.rainbow(np.linspace(0, 1, clf.output_layer.n_rows * clf.output_layer.n_cols))\n",
    "\n",
    "n_layers = 2 + clf.n_hidden_layers\n",
    "n_cols = 2\n",
    "n_rows = n_layers // 2\n",
    "\n",
    "if n_layers % 2 > 0:\n",
    "    n_rows += 1\n",
    "\n",
    "fig, axes = plt.subplots(n_rows, n_cols, figsize=(12, 15))\n",
    "axes = axes.ravel()\n",
    "\n",
    "ax = sns.heatmap(X[0], cmap='gray', ax=axes[0])\n",
    "ax.set(title='Input Image')\n",
    "ax.set_axis_off()\n",
    "\n",
    "for (i, layer), ax in zip(enumerate(clf.hidden_layers), axes[1:-1]):\n",
    "    ax = sns.heatmap(layer.pixel_values, vmin=0, cmap='gray', ax=ax)\n",
    "        \n",
    "    for row in range(clf.output_layer.n_rows):\n",
    "        for col in range(clf.output_layer.n_cols):\n",
    "            trained_pixels = clf.grid_W_map[row][col][i].keys() \n",
    "\n",
    "            min_extent = clf.hidden_layer_shape\n",
    "            max_extent = (0, 0)\n",
    "\n",
    "            for grid_coord in trained_pixels:\n",
    "                grid_row, grid_col = grid_coord\n",
    "\n",
    "                if grid_row < min_extent[0]:\n",
    "                    min_extent = (grid_row, min_extent[1])\n",
    "\n",
    "                if grid_row > max_extent[0]:\n",
    "                    max_extent = (grid_row, max_extent[1])\n",
    "\n",
    "                if grid_col < min_extent[1]:\n",
    "                    min_extent = (min_extent[0], grid_col)\n",
    "\n",
    "                if grid_col > max_extent[1]:\n",
    "                    max_extent = (max_extent[0], grid_col)\n",
    "\n",
    "            height = (max_extent[0] - min_extent[0]) + 1\n",
    "            width = (max_extent[1] - min_extent[1]) + 1\n",
    "            \n",
    "            rect = patches.Rectangle((min_extent[1], min_extent[0]), width, height, \n",
    "                                     linewidth=3, alpha=0.6, edgecolor=colors[col], facecolor='none', \n",
    "                                     label='Trainable Area for Output Pixel %d' % (col + 1))\n",
    "\n",
    "            ax.add_patch(rect)\n",
    "            \n",
    "        ax.set_axis_off()\n",
    "        ax.set(title='Hidden Layer %d Pixel Transparency Values' % (i + 1))\n",
    "        \n",
    "ax.legend(title='Legend', loc='lower center', bbox_to_anchor=(0.5, -1.15))\n",
    "        \n",
    "ax = sns.heatmap(clf.predict_proba(X).detach().numpy()[0].reshape(1, -1), vmin=0, vmax=1, cmap='gray', ax=axes[n_layers - 1])\n",
    "ax.set(title='Output')\n",
    "ax.set_axis_off()\n",
    "\n",
    "if n_layers % 2 > 0:\n",
    "    fig.delaxes(axes[-1])\n",
    "\n",
    "plt.suptitle('Multi-Label Classification Hidden Layer Values', y=0.95)\n",
    "plt.savefig('images/multi-label_hidden_layer_values.png')"
   ]
  }
 ],
 "metadata": {
  "kernelspec": {
   "display_name": "Python 3",
   "language": "python",
   "name": "python3"
  },
  "language_info": {
   "codemirror_mode": {
    "name": "ipython",
    "version": 3
   },
   "file_extension": ".py",
   "mimetype": "text/x-python",
   "name": "python",
   "nbconvert_exporter": "python",
   "pygments_lexer": "ipython3",
   "version": "3.7.2"
  }
 },
 "nbformat": 4,
 "nbformat_minor": 2
}
