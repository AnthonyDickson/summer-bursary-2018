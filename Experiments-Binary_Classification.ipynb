{
 "cells": [
  {
   "cell_type": "code",
   "execution_count": 1,
   "metadata": {},
   "outputs": [],
   "source": [
    "import matplotlib.pyplot as plt\n",
    "import matplotlib.patches as patches\n",
    "import numpy as np\n",
    "import seaborn as sns\n",
    "from sklearn.datasets import load_digits\n",
    "import torch\n",
    "\n",
    "from raytracerthing import RayTracerThing, Activations\n",
    "\n",
    "np.random.seed(42)"
   ]
  },
  {
   "cell_type": "code",
   "execution_count": 2,
   "metadata": {},
   "outputs": [
    {
     "name": "stdout",
     "output_type": "stream",
     "text": [
      "360 (8, 8)\n",
      "[0 1 0 1 0]\n"
     ]
    }
   ],
   "source": [
    "digits = load_digits()\n",
    "digits.keys()\n",
    "\n",
    "y = digits['target']\n",
    "\n",
    "X = digits['images']\n",
    "X = X[y < 2]\n",
    "X = X / X.max()\n",
    "N = X.shape[0]\n",
    "image_shape = X.shape[1:]\n",
    "\n",
    "print(N, image_shape)\n",
    "\n",
    "y = y[y < 2]\n",
    "\n",
    "print(y[:5])"
   ]
  },
  {
   "cell_type": "code",
   "execution_count": 3,
   "metadata": {},
   "outputs": [
    {
     "data": {
      "text/plain": [
       "(array([0, 1]), array([178, 182]))"
      ]
     },
     "execution_count": 3,
     "metadata": {},
     "output_type": "execute_result"
    }
   ],
   "source": [
    "np.unique(y, return_counts=True)"
   ]
  },
  {
   "cell_type": "code",
   "execution_count": 4,
   "metadata": {},
   "outputs": [
    {
     "name": "stdout",
     "output_type": "stream",
     "text": [
      "CPU times: user 27.8 ms, sys: 449 µs, total: 28.3 ms\n",
      "Wall time: 25.5 ms\n"
     ]
    }
   ],
   "source": [
    "%%time\n",
    "\n",
    "layer_shape = image_shape\n",
    "\n",
    "clf = RayTracerThing(input_shape=image_shape,\n",
    "                     hidden_layer_shape=layer_shape, n_layers=3,\n",
    "                     activation_func=torch.sigmoid)"
   ]
  },
  {
   "cell_type": "code",
   "execution_count": 5,
   "metadata": {},
   "outputs": [],
   "source": [
    "def log_loss(true_label, predicted_prob):\n",
    "    if true_label == 1:\n",
    "        return -torch.log(predicted_prob)\n",
    "    else:\n",
    "        return -torch.log(1 - predicted_prob)\n",
    "    \n",
    "#     return torch.where(torch.tensor(true_label) == 1, -torch.log(predicted_prob), -torch.log(1 - predicted_prob))"
   ]
  },
  {
   "cell_type": "code",
   "execution_count": 6,
   "metadata": {},
   "outputs": [
    {
     "name": "stdout",
     "output_type": "stream",
     "text": [
      "Epoch 1000 of 1000 - Loss: 0.4023\n",
      "Elapsed time (wall): 03m 07s\n"
     ]
    }
   ],
   "source": [
    "from time import time\n",
    "\n",
    "start = time()\n",
    "\n",
    "eta = 0.1\n",
    "n_epochs = 1000\n",
    "\n",
    "# early stopping stuff\n",
    "best_loss = float('inf')\n",
    "n_epochs_no_improvement = 0\n",
    "patience = 20\n",
    "\n",
    "for epoch in range(n_epochs):\n",
    "    epoch_loss = torch.zeros(N)\n",
    "    epoch_grads = torch.zeros(N, clf.n_layers, *clf.layer_shape)\n",
    "\n",
    "    image_i = 0 \n",
    "\n",
    "    clf.zero_grad()\n",
    "    \n",
    "    for image, label in zip(X, y):    \n",
    "        out = clf.forward(image)        \n",
    "        loss = log_loss(label, out)\n",
    "\n",
    "        loss.backward()\n",
    "\n",
    "        for layer in range(clf.n_layers):        \n",
    "            epoch_grads[image_i][layer] = clf.W[layer].grad.clone()\n",
    "            \n",
    "        epoch_loss[image_i] = loss       \n",
    "        image_i += 1\n",
    "                \n",
    "    with torch.no_grad():\n",
    "        mean_grad = epoch_grads.mean(dim=0)\n",
    "        \n",
    "        for layer in range(clf.n_layers):\n",
    "            clf.W[layer] = clf.W[layer] - eta * mean_grad[layer]\n",
    "        \n",
    "        clf.broadcast_pixel_values()\n",
    "            \n",
    "    mean_loss = torch.mean(epoch_loss)\n",
    "        \n",
    "    print('Epoch %d of %d - Loss: %.4f' % (epoch + 1, n_epochs, mean_loss), end='\\r')\n",
    "    \n",
    "    if mean_loss < best_loss:\n",
    "        best_loss = mean_loss\n",
    "        n_epochs_no_improvement = 0\n",
    "    else:\n",
    "        n_epochs_no_improvement += 1\n",
    "\n",
    "    if n_epochs_no_improvement > patience:           \n",
    "        print('\\nStopping early.')\n",
    "        break\n",
    "        \n",
    "print()\n",
    "\n",
    "elapsed = time() - start\n",
    "\n",
    "minutes = elapsed // 60\n",
    "seconds = elapsed % 60\n",
    "\n",
    "print('Elapsed time (wall): %02dm %02ds' % (minutes, seconds))"
   ]
  },
  {
   "cell_type": "code",
   "execution_count": 7,
   "metadata": {},
   "outputs": [
    {
     "name": "stdout",
     "output_type": "stream",
     "text": [
      "\r",
      "Image 1 of 360\r",
      "Image 2 of 360\r",
      "Image 3 of 360\r",
      "Image 4 of 360\r",
      "Image 5 of 360\r",
      "Image 6 of 360\r",
      "Image 7 of 360\r",
      "Image 8 of 360\r",
      "Image 9 of 360\r",
      "Image 10 of 360\r",
      "Image 11 of 360\r",
      "Image 12 of 360\r",
      "Image 13 of 360\r",
      "Image 14 of 360\r",
      "Image 15 of 360\r",
      "Image 16 of 360\r",
      "Image 17 of 360\r",
      "Image 18 of 360\r",
      "Image 19 of 360\r",
      "Image 20 of 360\r",
      "Image 21 of 360\r",
      "Image 22 of 360\r",
      "Image 23 of 360\r",
      "Image 24 of 360\r",
      "Image 25 of 360\r",
      "Image 26 of 360\r",
      "Image 27 of 360\r",
      "Image 28 of 360\r",
      "Image 29 of 360\r",
      "Image 30 of 360\r",
      "Image 31 of 360\r",
      "Image 32 of 360\r",
      "Image 33 of 360\r",
      "Image 34 of 360\r",
      "Image 35 of 360\r",
      "Image 36 of 360\r",
      "Image 37 of 360\r",
      "Image 38 of 360\r",
      "Image 39 of 360\r",
      "Image 40 of 360\r",
      "Image 41 of 360\r",
      "Image 42 of 360\r",
      "Image 43 of 360\r",
      "Image 44 of 360\r",
      "Image 45 of 360\r",
      "Image 46 of 360\r",
      "Image 47 of 360\r",
      "Image 48 of 360\r",
      "Image 49 of 360\r",
      "Image 50 of 360\r",
      "Image 51 of 360\r",
      "Image 52 of 360\r",
      "Image 53 of 360\r",
      "Image 54 of 360\r",
      "Image 55 of 360\r",
      "Image 56 of 360\r",
      "Image 57 of 360\r",
      "Image 58 of 360\r",
      "Image 59 of 360\r",
      "Image 60 of 360\r",
      "Image 61 of 360\r",
      "Image 62 of 360\r",
      "Image 63 of 360\r",
      "Image 64 of 360\r",
      "Image 65 of 360\r",
      "Image 66 of 360\r",
      "Image 67 of 360\r",
      "Image 68 of 360\r",
      "Image 69 of 360\r",
      "Image 70 of 360\r",
      "Image 71 of 360\r",
      "Image 72 of 360\r",
      "Image 73 of 360\r",
      "Image 74 of 360\r",
      "Image 75 of 360\r",
      "Image 76 of 360\r",
      "Image 77 of 360\r",
      "Image 78 of 360\r",
      "Image 79 of 360\r",
      "Image 80 of 360\r",
      "Image 81 of 360\r",
      "Image 82 of 360\r",
      "Image 83 of 360\r",
      "Image 84 of 360\r",
      "Image 85 of 360\r",
      "Image 86 of 360\r",
      "Image 87 of 360\r",
      "Image 88 of 360\r",
      "Image 89 of 360\r",
      "Image 90 of 360\r",
      "Image 91 of 360\r",
      "Image 92 of 360\r",
      "Image 93 of 360\r",
      "Image 94 of 360\r",
      "Image 95 of 360\r",
      "Image 96 of 360\r",
      "Image 97 of 360\r",
      "Image 98 of 360\r",
      "Image 99 of 360\r",
      "Image 100 of 360\r",
      "Image 101 of 360\r",
      "Image 102 of 360\r",
      "Image 103 of 360\r",
      "Image 104 of 360\r",
      "Image 105 of 360\r",
      "Image 106 of 360\r",
      "Image 107 of 360\r",
      "Image 108 of 360\r",
      "Image 109 of 360\r",
      "Image 110 of 360\r",
      "Image 111 of 360\r",
      "Image 112 of 360\r",
      "Image 113 of 360\r",
      "Image 114 of 360\r",
      "Image 115 of 360\r",
      "Image 116 of 360\r",
      "Image 117 of 360\r",
      "Image 118 of 360\r",
      "Image 119 of 360\r",
      "Image 120 of 360\r",
      "Image 121 of 360\r",
      "Image 122 of 360\r",
      "Image 123 of 360\r",
      "Image 124 of 360\r",
      "Image 125 of 360\r",
      "Image 126 of 360\r",
      "Image 127 of 360\r",
      "Image 128 of 360\r",
      "Image 129 of 360\r",
      "Image 130 of 360\r",
      "Image 131 of 360\r",
      "Image 132 of 360\r",
      "Image 133 of 360\r",
      "Image 134 of 360\r",
      "Image 135 of 360\r",
      "Image 136 of 360\r",
      "Image 137 of 360\r",
      "Image 138 of 360\r",
      "Image 139 of 360\r",
      "Image 140 of 360\r",
      "Image 141 of 360\r",
      "Image 142 of 360\r",
      "Image 143 of 360\r",
      "Image 144 of 360\r",
      "Image 145 of 360\r",
      "Image 146 of 360\r",
      "Image 147 of 360\r",
      "Image 148 of 360\r",
      "Image 149 of 360\r",
      "Image 150 of 360\r",
      "Image 151 of 360\r",
      "Image 152 of 360\r",
      "Image 153 of 360\r",
      "Image 154 of 360\r",
      "Image 155 of 360\r",
      "Image 156 of 360\r",
      "Image 157 of 360\r",
      "Image 158 of 360\r",
      "Image 159 of 360\r",
      "Image 160 of 360\r",
      "Image 161 of 360\r",
      "Image 162 of 360\r",
      "Image 163 of 360\r",
      "Image 164 of 360\r",
      "Image 165 of 360\r",
      "Image 166 of 360\r",
      "Image 167 of 360\r",
      "Image 168 of 360\r",
      "Image 169 of 360\r",
      "Image 170 of 360\r",
      "Image 171 of 360\r",
      "Image 172 of 360\r",
      "Image 173 of 360\r",
      "Image 174 of 360\r",
      "Image 175 of 360\r",
      "Image 176 of 360\r",
      "Image 177 of 360\r",
      "Image 178 of 360\r",
      "Image 179 of 360\r",
      "Image 180 of 360\r",
      "Image 181 of 360\r",
      "Image 182 of 360\r",
      "Image 183 of 360\r",
      "Image 184 of 360\r",
      "Image 185 of 360\r",
      "Image 186 of 360\r",
      "Image 187 of 360\r",
      "Image 188 of 360\r",
      "Image 189 of 360\r",
      "Image 190 of 360\r",
      "Image 191 of 360\r",
      "Image 192 of 360\r",
      "Image 193 of 360\r",
      "Image 194 of 360\r",
      "Image 195 of 360\r",
      "Image 196 of 360\r",
      "Image 197 of 360\r",
      "Image 198 of 360\r",
      "Image 199 of 360\r",
      "Image 200 of 360\r",
      "Image 201 of 360\r",
      "Image 202 of 360\r",
      "Image 203 of 360\r",
      "Image 204 of 360\r",
      "Image 205 of 360\r",
      "Image 206 of 360\r",
      "Image 207 of 360\r",
      "Image 208 of 360\r",
      "Image 209 of 360\r",
      "Image 210 of 360\r",
      "Image 211 of 360\r",
      "Image 212 of 360\r",
      "Image 213 of 360\r",
      "Image 214 of 360\r",
      "Image 215 of 360\r",
      "Image 216 of 360\r",
      "Image 217 of 360\r",
      "Image 218 of 360\r",
      "Image 219 of 360\r",
      "Image 220 of 360\r",
      "Image 221 of 360\r",
      "Image 222 of 360\r",
      "Image 223 of 360\r",
      "Image 224 of 360\r",
      "Image 225 of 360\r",
      "Image 226 of 360\r",
      "Image 227 of 360\r",
      "Image 228 of 360\r",
      "Image 229 of 360\r",
      "Image 230 of 360\r",
      "Image 231 of 360\r",
      "Image 232 of 360\r",
      "Image 233 of 360\r",
      "Image 234 of 360\r",
      "Image 235 of 360\r",
      "Image 236 of 360\r",
      "Image 237 of 360\r",
      "Image 238 of 360\r",
      "Image 239 of 360\r",
      "Image 240 of 360\r",
      "Image 241 of 360\r",
      "Image 242 of 360\r",
      "Image 243 of 360\r",
      "Image 244 of 360\r",
      "Image 245 of 360\r",
      "Image 246 of 360\r",
      "Image 247 of 360\r",
      "Image 248 of 360\r",
      "Image 249 of 360\r",
      "Image 250 of 360\r",
      "Image 251 of 360\r",
      "Image 252 of 360\r",
      "Image 253 of 360\r",
      "Image 254 of 360\r",
      "Image 255 of 360\r",
      "Image 256 of 360\r",
      "Image 257 of 360\r",
      "Image 258 of 360\r",
      "Image 259 of 360\r",
      "Image 260 of 360\r",
      "Image 261 of 360\r",
      "Image 262 of 360\r",
      "Image 263 of 360\r",
      "Image 264 of 360\r",
      "Image 265 of 360\r",
      "Image 266 of 360\r",
      "Image 267 of 360\r",
      "Image 268 of 360\r",
      "Image 269 of 360\r",
      "Image 270 of 360\r",
      "Image 271 of 360\r",
      "Image 272 of 360\r",
      "Image 273 of 360\r",
      "Image 274 of 360\r",
      "Image 275 of 360\r",
      "Image 276 of 360\r",
      "Image 277 of 360\r",
      "Image 278 of 360\r",
      "Image 279 of 360\r",
      "Image 280 of 360\r",
      "Image 281 of 360\r",
      "Image 282 of 360\r",
      "Image 283 of 360\r",
      "Image 284 of 360\r",
      "Image 285 of 360\r",
      "Image 286 of 360\r",
      "Image 287 of 360\r",
      "Image 288 of 360\r",
      "Image 289 of 360\r",
      "Image 290 of 360\r",
      "Image 291 of 360\r",
      "Image 292 of 360\r",
      "Image 293 of 360\r",
      "Image 294 of 360\r",
      "Image 295 of 360\r",
      "Image 296 of 360\r",
      "Image 297 of 360\r",
      "Image 298 of 360\r",
      "Image 299 of 360\r",
      "Image 300 of 360\r",
      "Image 301 of 360\r",
      "Image 302 of 360\r",
      "Image 303 of 360\r",
      "Image 304 of 360\r",
      "Image 305 of 360\r",
      "Image 306 of 360\r",
      "Image 307 of 360\r",
      "Image 308 of 360\r",
      "Image 309 of 360\r",
      "Image 310 of 360\r",
      "Image 311 of 360\r",
      "Image 312 of 360\r",
      "Image 313 of 360\r",
      "Image 314 of 360\r",
      "Image 315 of 360\r",
      "Image 316 of 360\r",
      "Image 317 of 360\r",
      "Image 318 of 360\r",
      "Image 319 of 360\r",
      "Image 320 of 360\r",
      "Image 321 of 360\r",
      "Image 322 of 360\r",
      "Image 323 of 360\r",
      "Image 324 of 360\r",
      "Image 325 of 360\r",
      "Image 326 of 360\r",
      "Image 327 of 360\r",
      "Image 328 of 360\r",
      "Image 329 of 360\r",
      "Image 330 of 360\r",
      "Image 331 of 360\r",
      "Image 332 of 360\r",
      "Image 333 of 360\r",
      "Image 334 of 360\r",
      "Image 335 of 360\r",
      "Image 336 of 360\r",
      "Image 337 of 360\r",
      "Image 338 of 360\r",
      "Image 339 of 360\r",
      "Image 340 of 360\r",
      "Image 341 of 360\r",
      "Image 342 of 360\r",
      "Image 343 of 360\r",
      "Image 344 of 360\r",
      "Image 345 of 360\r",
      "Image 346 of 360\r",
      "Image 347 of 360\r",
      "Image 348 of 360\r",
      "Image 349 of 360\r",
      "Image 350 of 360\r",
      "Image 351 of 360\r",
      "Image 352 of 360\r",
      "Image 353 of 360\r",
      "Image 354 of 360\r",
      "Image 355 of 360\r",
      "Image 356 of 360\r",
      "Image 357 of 360\r",
      "Image 358 of 360\r",
      "Image 359 of 360\r",
      "Image 360 of 360\n"
     ]
    }
   ],
   "source": [
    "outputs = []\n",
    "\n",
    "with torch.no_grad():\n",
    "    for i, image in enumerate(X):\n",
    "        print('\\rImage %d of %d' % (i + 1, N), end='')\n",
    "        outputs.append(clf.forward(image))\n",
    "\n",
    "print()"
   ]
  },
  {
   "cell_type": "code",
   "execution_count": 8,
   "metadata": {},
   "outputs": [
    {
     "data": {
      "text/plain": [
       "(0.5, 0.9898338035765769, 0.731144580447656, 0.21153037440485908)"
      ]
     },
     "execution_count": 8,
     "metadata": {},
     "output_type": "execute_result"
    }
   ],
   "source": [
    "np.min(outputs), np.max(outputs), np.mean(outputs), np.std(outputs)"
   ]
  },
  {
   "cell_type": "code",
   "execution_count": 9,
   "metadata": {},
   "outputs": [],
   "source": [
    "def accuracy(y, y_hat, threshold=0.5):\n",
    "    y_hat = np.array(list(map(lambda x: 0 if x < threshold else 1, y_hat)))\n",
    "    \n",
    "    return 1 - np.abs(y - y_hat).mean()"
   ]
  },
  {
   "cell_type": "code",
   "execution_count": 10,
   "metadata": {},
   "outputs": [],
   "source": [
    "thetas = np.linspace(0, 1, 21)\n",
    "accuracy_scores = [accuracy(y, outputs, threshold=theta) for theta in thetas]"
   ]
  },
  {
   "cell_type": "code",
   "execution_count": 11,
   "metadata": {},
   "outputs": [
    {
     "data": {
      "text/plain": [
       "Text(0, 0.5, 'Accuracy')"
      ]
     },
     "execution_count": 11,
     "metadata": {},
     "output_type": "execute_result"
    },
    {
     "data": {
      "image/png": "[encoded data removed]",
      "text/plain": [
       "<Figure size 432x288 with 1 Axes>"
      ]
     },
     "metadata": {
      "needs_background": "light"
     },
     "output_type": "display_data"
    }
   ],
   "source": [
    "import matplotlib.pyplot as plt\n",
    " \n",
    "plt.plot(thetas, accuracy_scores)\n",
    "plt.ylim(0)\n",
    "plt.xlabel('Threshold')\n",
    "plt.ylabel('Accuracy')"
   ]
  },
  {
   "cell_type": "code",
   "execution_count": 12,
   "metadata": {},
   "outputs": [
    {
     "data": {
      "text/plain": [
       "0.75"
      ]
     },
     "execution_count": 12,
     "metadata": {},
     "output_type": "execute_result"
    }
   ],
   "source": [
    "threshold = thetas[np.argmax(accuracy_scores)]\n",
    "threshold"
   ]
  },
  {
   "cell_type": "code",
   "execution_count": 13,
   "metadata": {},
   "outputs": [
    {
     "data": {
      "text/plain": [
       "0.9916666666666667"
      ]
     },
     "execution_count": 13,
     "metadata": {},
     "output_type": "execute_result"
    }
   ],
   "source": [
    "np.max(accuracy_scores)"
   ]
  },
  {
   "cell_type": "code",
   "execution_count": 14,
   "metadata": {},
   "outputs": [
    {
     "data": {
      "image/png": "[encoded data removed]",
      "text/plain": [
       "<Figure size 720x1152 with 64 Axes>"
      ]
     },
     "metadata": {
      "needs_background": "light"
     },
     "output_type": "display_data"
    }
   ],
   "source": [
    "n_rows = 8\n",
    "n_cols = 4\n",
    "n_total = n_rows * n_cols\n",
    "n_total = min(n_total, N)\n",
    "\n",
    "width_ratio = 2.7\n",
    "height_ratio = 2\n",
    "\n",
    "figsize = (int(width_ratio * n_cols), int(height_ratio * n_rows))\n",
    "\n",
    "fig, axes = plt.subplots(n_rows, n_cols, figsize=figsize)\n",
    "axes = axes.ravel()\n",
    "\n",
    "for ax, image, expected, actual in zip(axes, X[:n_total], y[:n_total], outputs[:n_total]):\n",
    "    sns.heatmap(image, vmin=0.0, vmax=1.0, cmap='gray', ax=ax)\n",
    "    ax.set_axis_off()\n",
    "\n",
    "    actual = 0 if actual < threshold else 1\n",
    "\n",
    "    color = 'green' if expected == actual else 'red'\n",
    "    ax.set_title('Predicted %d' % actual, color=color)\n",
    "\n",
    "plt.show()"
   ]
  },
  {
   "cell_type": "code",
   "execution_count": 15,
   "metadata": {},
   "outputs": [
    {
     "data": {
      "image/png": "[encoded data removed]",
      "text/plain": [
       "<Figure size 432x288 with 2 Axes>"
      ]
     },
     "metadata": {
      "needs_background": "light"
     },
     "output_type": "display_data"
    },
    {
     "data": {
      "image/png": "[encoded data removed]",
      "text/plain": [
       "<Figure size 432x288 with 2 Axes>"
      ]
     },
     "metadata": {
      "needs_background": "light"
     },
     "output_type": "display_data"
    },
    {
     "data": {
      "image/png": "[encoded data removed]",
      "text/plain": [
       "<Figure size 432x288 with 2 Axes>"
      ]
     },
     "metadata": {
      "needs_background": "light"
     },
     "output_type": "display_data"
    }
   ],
   "source": [
    "for i, layer in enumerate(clf.hidden_layers):  \n",
    "    trained_pixels = clf.grid_W_map[i].keys() \n",
    "    \n",
    "    min_extent = clf.layer_shape\n",
    "    max_extent = (0, 0)\n",
    "    \n",
    "    for grid_coord in trained_pixels:\n",
    "        row, col = grid_coord\n",
    "        \n",
    "        if row < min_extent[0]:\n",
    "            min_extent = (row, min_extent[1])\n",
    "            \n",
    "        if row > max_extent[0]:\n",
    "            max_extent = (row, max_extent[1])\n",
    "            \n",
    "        if col < min_extent[1]:\n",
    "            min_extent = (min_extent[0], col)\n",
    "            \n",
    "        if col > max_extent[1]:\n",
    "            max_extent = (max_extent[0], col)\n",
    "            \n",
    "    height = (max_extent[0] - min_extent[0]) + 1\n",
    "    width = (max_extent[1] - min_extent[1]) + 1\n",
    "\n",
    "    ax = sns.heatmap(layer.pixel_values, cmap='gray')\n",
    "    ax.set_axis_off()\n",
    "    ax.set(title='Hidden Layer %d Pixel Transparency Values' % i)\n",
    "        \n",
    "    rect = patches.Rectangle(min_extent, width, height, linewidth=1, edgecolor='r', facecolor='none', label='Trainable Area')\n",
    "\n",
    "    ax.add_patch(rect)\n",
    "    ax.legend()\n",
    "    plt.show()"
   ]
  }
 ],
 "metadata": {
  "kernelspec": {
   "display_name": "Python 3",
   "language": "python",
   "name": "python3"
  },
  "language_info": {
   "codemirror_mode": {
    "name": "ipython",
    "version": 3
   },
   "file_extension": ".py",
   "mimetype": "text/x-python",
   "name": "python",
   "nbconvert_exporter": "python",
   "pygments_lexer": "ipython3",
   "version": "3.6.8"
  }
 },
 "nbformat": 4,
 "nbformat_minor": 2
}
