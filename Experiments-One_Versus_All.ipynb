{
 "cells": [
  {
   "cell_type": "code",
   "execution_count": 1,
   "metadata": {},
   "outputs": [],
   "source": [
    "import matplotlib.pyplot as plt\n",
    "import matplotlib.patches as patches\n",
    "import numpy as np\n",
    "import seaborn as sns\n",
    "from sklearn.datasets import load_digits\n",
    "from sklearn.model_selection import train_test_split\n",
    "import torch\n",
    "\n",
    "from raytracerthing import RayTracerThing, Activations\n",
    "\n",
    "np.random.seed(42)"
   ]
  },
  {
   "cell_type": "code",
   "execution_count": 2,
   "metadata": {},
   "outputs": [
    {
     "name": "stdout",
     "output_type": "stream",
     "text": [
      "1797 (8, 8)\n",
      "[1 0 0 0 0]\n"
     ]
    }
   ],
   "source": [
    "digits = load_digits()\n",
    "digits.keys()\n",
    "\n",
    "y = digits['target']\n",
    "y = np.array(y==0, dtype=int)\n",
    "\n",
    "X = digits['images']\n",
    "X = X / X.max()\n",
    "N = X.shape[0]\n",
    "image_shape = X.shape[1:]\n",
    "\n",
    "print(N, image_shape)\n",
    "\n",
    "print(y[:5])"
   ]
  },
  {
   "cell_type": "code",
   "execution_count": 3,
   "metadata": {},
   "outputs": [
    {
     "data": {
      "text/plain": [
       "(array([0, 1]), array([1619,  178]))"
      ]
     },
     "execution_count": 3,
     "metadata": {},
     "output_type": "execute_result"
    }
   ],
   "source": [
    "np.unique(y, return_counts=True)"
   ]
  },
  {
   "cell_type": "code",
   "execution_count": 4,
   "metadata": {},
   "outputs": [],
   "source": [
    "X_train, X_test, y_train, y_test = train_test_split(X, y, test_size=0.2, shuffle=True, random_state=42)"
   ]
  },
  {
   "cell_type": "code",
   "execution_count": 5,
   "metadata": {},
   "outputs": [
    {
     "name": "stdout",
     "output_type": "stream",
     "text": [
      "CPU times: user 109 ms, sys: 0 ns, total: 109 ms\n",
      "Wall time: 117 ms\n"
     ]
    }
   ],
   "source": [
    "%%time\n",
    "\n",
    "clf = RayTracerThing(input_shape=image_shape,\n",
    "                     hidden_layer_shape=image_shape, \n",
    "                     n_hidden_layers=3,\n",
    "                     n_classes=2,\n",
    "                     activation_func=Activations.softmax,\n",
    "                     loss_func=torch.nn.functional.cross_entropy,\n",
    "                     learning_rate=1)"
   ]
  },
  {
   "cell_type": "code",
   "execution_count": 6,
   "metadata": {
    "scrolled": true
   },
   "outputs": [
    {
     "name": "stdout",
     "output_type": "stream",
     "text": [
      "Epoch 1 of 1000 - train_loss: 0.3914 - train_acc: 0.9332 - val_loss: 0.3496 - val_acc: 0.9896\n",
      "Epoch 2 of 1000 - train_loss: 0.3456 - train_acc: 0.9896 - val_loss: 0.3423 - val_acc: 0.9896\n",
      "Epoch 3 of 1000 - train_loss: 0.3405 - train_acc: 0.9913 - val_loss: 0.3396 - val_acc: 0.9931\n",
      "Epoch 4 of 1000 - train_loss: 0.3381 - train_acc: 0.9922 - val_loss: 0.3383 - val_acc: 0.9931\n",
      "Epoch 5 of 1000 - train_loss: 0.3367 - train_acc: 0.9931 - val_loss: 0.3372 - val_acc: 0.9931\n",
      "Epoch 6 of 1000 - train_loss: 0.3356 - train_acc: 0.9948 - val_loss: 0.3364 - val_acc: 0.9931\n",
      "Epoch 7 of 1000 - train_loss: 0.3347 - train_acc: 0.9948 - val_loss: 0.3358 - val_acc: 0.9931\n",
      "Epoch 8 of 1000 - train_loss: 0.3340 - train_acc: 0.9948 - val_loss: 0.3353 - val_acc: 0.9931\n",
      "Epoch 9 of 1000 - train_loss: 0.3334 - train_acc: 0.9948 - val_loss: 0.3349 - val_acc: 0.9931\n",
      "Epoch 10 of 1000 - train_loss: 0.3330 - train_acc: 0.9965 - val_loss: 0.3347 - val_acc: 0.9931\n",
      "Epoch 11 of 1000 - train_loss: 0.3327 - train_acc: 0.9983 - val_loss: 0.3345 - val_acc: 0.9931\n",
      "Epoch 12 of 1000 - train_loss: 0.3325 - train_acc: 0.9974 - val_loss: 0.3343 - val_acc: 0.9931\n",
      "Epoch 13 of 1000 - train_loss: 0.3324 - train_acc: 0.9974 - val_loss: 0.3342 - val_acc: 0.9931\n",
      "Epoch 14 of 1000 - train_loss: 0.3323 - train_acc: 0.9974 - val_loss: 0.3341 - val_acc: 0.9931\n",
      "Epoch 15 of 1000 - train_loss: 0.3322 - train_acc: 0.9974 - val_loss: 0.3340 - val_acc: 0.9931\n",
      "Epoch 16 of 1000 - train_loss: 0.3321 - train_acc: 0.9974 - val_loss: 0.3339 - val_acc: 0.9931\n",
      "Epoch 17 of 1000 - train_loss: 0.3320 - train_acc: 0.9974 - val_loss: 0.3339 - val_acc: 0.9931\n",
      "Epoch 18 of 1000 - train_loss: 0.3319 - train_acc: 0.9974 - val_loss: 0.3338 - val_acc: 0.9931\n",
      "Epoch 19 of 1000 - train_loss: 0.3319 - train_acc: 0.9974 - val_loss: 0.3338 - val_acc: 0.9931\n",
      "Epoch 20 of 1000 - train_loss: 0.3318 - train_acc: 0.9974 - val_loss: 0.3337 - val_acc: 0.9931\n",
      "Epoch 21 of 1000 - train_loss: 0.3318 - train_acc: 0.9974 - val_loss: 0.3337 - val_acc: 0.9931\n",
      "Epoch 22 of 1000 - train_loss: 0.3317 - train_acc: 0.9974 - val_loss: 0.3337 - val_acc: 0.9931\n",
      "Epoch 23 of 1000 - train_loss: 0.3317 - train_acc: 0.9974 - val_loss: 0.3336 - val_acc: 0.9931\n",
      "Epoch 24 of 1000 - train_loss: 0.3317 - train_acc: 0.9974 - val_loss: 0.3336 - val_acc: 0.9931\n",
      "Epoch 25 of 1000 - train_loss: 0.3316 - train_acc: 0.9974 - val_loss: 0.3336 - val_acc: 0.9931\n",
      "Epoch 26 of 1000 - train_loss: 0.3316 - train_acc: 0.9974 - val_loss: 0.3336 - val_acc: 0.9931\n",
      "Epoch 27 of 1000 - train_loss: 0.3316 - train_acc: 0.9974 - val_loss: 0.3335 - val_acc: 0.9931\n",
      "Epoch 28 of 1000 - train_loss: 0.3316 - train_acc: 0.9974 - val_loss: 0.3335 - val_acc: 0.9931\n",
      "Epoch 29 of 1000 - train_loss: 0.3316 - train_acc: 0.9974 - val_loss: 0.3335 - val_acc: 0.9931\n",
      "Epoch 30 of 1000 - train_loss: 0.3315 - train_acc: 0.9974 - val_loss: 0.3335 - val_acc: 0.9931\n",
      "Epoch 31 of 1000 - train_loss: 0.3315 - train_acc: 0.9974 - val_loss: 0.3334 - val_acc: 0.9931\n",
      "Epoch 32 of 1000 - train_loss: 0.3315 - train_acc: 0.9974 - val_loss: 0.3334 - val_acc: 0.9931\n",
      "Epoch 33 of 1000 - train_loss: 0.3315 - train_acc: 0.9974 - val_loss: 0.3334 - val_acc: 0.9931\n",
      "Epoch 34 of 1000 - train_loss: 0.3315 - train_acc: 0.9974 - val_loss: 0.3334 - val_acc: 0.9931\n",
      "Epoch 35 of 1000 - train_loss: 0.3314 - train_acc: 0.9974 - val_loss: 0.3334 - val_acc: 0.9931\n",
      "Epoch 36 of 1000 - train_loss: 0.3314 - train_acc: 0.9974 - val_loss: 0.3333 - val_acc: 0.9931\n",
      "Epoch 37 of 1000 - train_loss: 0.3314 - train_acc: 0.9974 - val_loss: 0.3333 - val_acc: 0.9931\n",
      "Epoch 38 of 1000 - train_loss: 0.3314 - train_acc: 0.9974 - val_loss: 0.3333 - val_acc: 0.9931\n",
      "Epoch 39 of 1000 - train_loss: 0.3314 - train_acc: 0.9974 - val_loss: 0.3333 - val_acc: 0.9931\n",
      "Epoch 40 of 1000 - train_loss: 0.3314 - train_acc: 0.9974 - val_loss: 0.3333 - val_acc: 0.9931\n",
      "Epoch 41 of 1000 - train_loss: 0.3314 - train_acc: 0.9974 - val_loss: 0.3333 - val_acc: 0.9931\n",
      "Epoch 42 of 1000 - train_loss: 0.3314 - train_acc: 0.9974 - val_loss: 0.3332 - val_acc: 0.9931\n",
      "Epoch 43 of 1000 - train_loss: 0.3314 - train_acc: 0.9974 - val_loss: 0.3332 - val_acc: 0.9931\n",
      "Epoch 44 of 1000 - train_loss: 0.3313 - train_acc: 0.9974 - val_loss: 0.3332 - val_acc: 0.9931\n",
      "Epoch 45 of 1000 - train_loss: 0.3313 - train_acc: 0.9974 - val_loss: 0.3332 - val_acc: 0.9931\n",
      "Epoch 46 of 1000 - train_loss: 0.3313 - train_acc: 0.9974 - val_loss: 0.3332 - val_acc: 0.9931\n",
      "Epoch 47 of 1000 - train_loss: 0.3313 - train_acc: 0.9974 - val_loss: 0.3332 - val_acc: 0.9931\n",
      "Epoch 48 of 1000 - train_loss: 0.3313 - train_acc: 0.9974 - val_loss: 0.3332 - val_acc: 0.9931\n",
      "Epoch 49 of 1000 - train_loss: 0.3313 - train_acc: 0.9974 - val_loss: 0.3332 - val_acc: 0.9931\n",
      "Epoch 50 of 1000 - train_loss: 0.3313 - train_acc: 0.9974 - val_loss: 0.3331 - val_acc: 0.9931\n",
      "Epoch 51 of 1000 - train_loss: 0.3313 - train_acc: 0.9974 - val_loss: 0.3331 - val_acc: 0.9931\n",
      "Epoch 52 of 1000 - train_loss: 0.3313 - train_acc: 0.9974 - val_loss: 0.3331 - val_acc: 0.9931\n",
      "Epoch 53 of 1000 - train_loss: 0.3313 - train_acc: 0.9974 - val_loss: 0.3331 - val_acc: 0.9931\n",
      "Epoch 54 of 1000 - train_loss: 0.3313 - train_acc: 0.9974 - val_loss: 0.3331 - val_acc: 0.9931\n",
      "Epoch 55 of 1000 - train_loss: 0.3313 - train_acc: 0.9974 - val_loss: 0.3331 - val_acc: 0.9931\n",
      "Epoch 56 of 1000 - train_loss: 0.3313 - train_acc: 0.9974 - val_loss: 0.3331 - val_acc: 0.9931\n",
      "Epoch 57 of 1000 - train_loss: 0.3313 - train_acc: 0.9974 - val_loss: 0.3331 - val_acc: 0.9931\n",
      "Epoch 58 of 1000 - train_loss: 0.3312 - train_acc: 0.9974 - val_loss: 0.3331 - val_acc: 0.9931\n",
      "Epoch 59 of 1000 - train_loss: 0.3312 - train_acc: 0.9974 - val_loss: 0.3331 - val_acc: 0.9931\n",
      "Epoch 60 of 1000 - train_loss: 0.3312 - train_acc: 0.9974 - val_loss: 0.3331 - val_acc: 0.9931\n",
      "Epoch 61 of 1000 - train_loss: 0.3312 - train_acc: 0.9974 - val_loss: 0.3331 - val_acc: 0.9931\n",
      "Epoch 62 of 1000 - train_loss: 0.3312 - train_acc: 0.9974 - val_loss: 0.3331 - val_acc: 0.9931\n",
      "Epoch 63 of 1000 - train_loss: 0.3312 - train_acc: 0.9974 - val_loss: 0.3330 - val_acc: 0.9931\n",
      "Epoch 64 of 1000 - train_loss: 0.3312 - train_acc: 0.9974 - val_loss: 0.3330 - val_acc: 0.9931\n",
      "Epoch 65 of 1000 - train_loss: 0.3312 - train_acc: 0.9974 - val_loss: 0.3330 - val_acc: 0.9931\n",
      "Epoch 66 of 1000 - train_loss: 0.3312 - train_acc: 0.9974 - val_loss: 0.3330 - val_acc: 0.9931\n",
      "Epoch 67 of 1000 - train_loss: 0.3312 - train_acc: 0.9974 - val_loss: 0.3330 - val_acc: 0.9931\n",
      "Epoch 68 of 1000 - train_loss: 0.3312 - train_acc: 0.9974 - val_loss: 0.3330 - val_acc: 0.9931\n",
      "Epoch 69 of 1000 - train_loss: 0.3312 - train_acc: 0.9974 - val_loss: 0.3330 - val_acc: 0.9931\n",
      "Epoch 70 of 1000 - train_loss: 0.3312 - train_acc: 0.9974 - val_loss: 0.3330 - val_acc: 0.9931\n",
      "Epoch 71 of 1000 - train_loss: 0.3312 - train_acc: 0.9974 - val_loss: 0.3330 - val_acc: 0.9931\n",
      "Epoch 72 of 1000 - train_loss: 0.3312 - train_acc: 0.9974 - val_loss: 0.3330 - val_acc: 0.9931\n",
      "Epoch 73 of 1000 - train_loss: 0.3312 - train_acc: 0.9974 - val_loss: 0.3330 - val_acc: 0.9931\n",
      "Epoch 74 of 1000 - train_loss: 0.3312 - train_acc: 0.9974 - val_loss: 0.3330 - val_acc: 0.9931\n",
      "Epoch 75 of 1000 - train_loss: 0.3312 - train_acc: 0.9974 - val_loss: 0.3330 - val_acc: 0.9931\n",
      "Epoch 76 of 1000 - train_loss: 0.3312 - train_acc: 0.9974 - val_loss: 0.3330 - val_acc: 0.9931\n",
      "Epoch 77 of 1000 - train_loss: 0.3312 - train_acc: 0.9974 - val_loss: 0.3330 - val_acc: 0.9931\n",
      "Epoch 78 of 1000 - train_loss: 0.3312 - train_acc: 0.9974 - val_loss: 0.3330 - val_acc: 0.9931\n",
      "Epoch 79 of 1000 - train_loss: 0.3312 - train_acc: 0.9974 - val_loss: 0.3330 - val_acc: 0.9931\n",
      "Epoch 80 of 1000 - train_loss: 0.3312 - train_acc: 0.9974 - val_loss: 0.3330 - val_acc: 0.9931\n",
      "Epoch 81 of 1000 - train_loss: 0.3312 - train_acc: 0.9974 - val_loss: 0.3330 - val_acc: 0.9931\n",
      "Epoch 82 of 1000 - train_loss: 0.3312 - train_acc: 0.9974 - val_loss: 0.3330 - val_acc: 0.9931\n",
      "Epoch 83 of 1000 - train_loss: 0.3311 - train_acc: 0.9974 - val_loss: 0.3330 - val_acc: 0.9931\n",
      "Epoch 84 of 1000 - train_loss: 0.3311 - train_acc: 0.9974 - val_loss: 0.3330 - val_acc: 0.9931\n",
      "Epoch 85 of 1000 - train_loss: 0.3311 - train_acc: 0.9974 - val_loss: 0.3330 - val_acc: 0.9931\n",
      "Epoch 86 of 1000 - train_loss: 0.3311 - train_acc: 0.9974 - val_loss: 0.3330 - val_acc: 0.9931\n"
     ]
    },
    {
     "name": "stdout",
     "output_type": "stream",
     "text": [
      "Epoch 87 of 1000 - train_loss: 0.3311 - train_acc: 0.9974 - val_loss: 0.3330 - val_acc: 0.9931\n",
      "Epoch 88 of 1000 - train_loss: 0.3311 - train_acc: 0.9974 - val_loss: 0.3330 - val_acc: 0.9931\n",
      "Epoch 89 of 1000 - train_loss: 0.3311 - train_acc: 0.9974 - val_loss: 0.3329 - val_acc: 0.9931\n",
      "Epoch 90 of 1000 - train_loss: 0.3311 - train_acc: 0.9974 - val_loss: 0.3329 - val_acc: 0.9931\n",
      "Epoch 91 of 1000 - train_loss: 0.3311 - train_acc: 0.9974 - val_loss: 0.3329 - val_acc: 0.9931\n",
      "Epoch 92 of 1000 - train_loss: 0.3311 - train_acc: 0.9974 - val_loss: 0.3329 - val_acc: 0.9931\n",
      "Epoch 93 of 1000 - train_loss: 0.3311 - train_acc: 0.9974 - val_loss: 0.3329 - val_acc: 0.9931\n",
      "Epoch 94 of 1000 - train_loss: 0.3311 - train_acc: 0.9974 - val_loss: 0.3329 - val_acc: 0.9931\n",
      "Epoch 95 of 1000 - train_loss: 0.3311 - train_acc: 0.9974 - val_loss: 0.3329 - val_acc: 0.9931\n",
      "Epoch 96 of 1000 - train_loss: 0.3311 - train_acc: 0.9974 - val_loss: 0.3329 - val_acc: 0.9931\n",
      "Epoch 97 of 1000 - train_loss: 0.3311 - train_acc: 0.9974 - val_loss: 0.3329 - val_acc: 0.9931\n",
      "Epoch 98 of 1000 - train_loss: 0.3311 - train_acc: 0.9974 - val_loss: 0.3329 - val_acc: 0.9931\n",
      "Epoch 99 of 1000 - train_loss: 0.3311 - train_acc: 0.9974 - val_loss: 0.3329 - val_acc: 0.9931\n",
      "Epoch 100 of 1000 - train_loss: 0.3311 - train_acc: 0.9974 - val_loss: 0.3329 - val_acc: 0.9931\n",
      "Epoch 101 of 1000 - train_loss: 0.3311 - train_acc: 0.9974 - val_loss: 0.3329 - val_acc: 0.9931\n",
      "Epoch 102 of 1000 - train_loss: 0.3311 - train_acc: 0.9974 - val_loss: 0.3329 - val_acc: 0.9931\n",
      "Epoch 103 of 1000 - train_loss: 0.3311 - train_acc: 0.9974 - val_loss: 0.3329 - val_acc: 0.9931\n",
      "Epoch 104 of 1000 - train_loss: 0.3311 - train_acc: 0.9974 - val_loss: 0.3329 - val_acc: 0.9931\n",
      "Epoch 105 of 1000 - train_loss: 0.3311 - train_acc: 0.9974 - val_loss: 0.3329 - val_acc: 0.9931\n",
      "Epoch 106 of 1000 - train_loss: 0.3311 - train_acc: 0.9974 - val_loss: 0.3329 - val_acc: 0.9931\n",
      "Epoch 107 of 1000 - train_loss: 0.3311 - train_acc: 0.9974 - val_loss: 0.3329 - val_acc: 0.9931\n",
      "Epoch 108 of 1000 - train_loss: 0.3311 - train_acc: 0.9974 - val_loss: 0.3329 - val_acc: 0.9931\n",
      "Epoch 109 of 1000 - train_loss: 0.3311 - train_acc: 0.9974 - val_loss: 0.3329 - val_acc: 0.9931\n",
      "Decreasing learning rate to 0.1000\n",
      "Epoch 110 of 1000 - train_loss: 0.3306 - train_acc: 0.9974 - val_loss: 0.3327 - val_acc: 0.9931\n",
      "Epoch 111 of 1000 - train_loss: 0.3305 - train_acc: 0.9974 - val_loss: 0.3326 - val_acc: 0.9931\n",
      "Epoch 112 of 1000 - train_loss: 0.3305 - train_acc: 0.9974 - val_loss: 0.3326 - val_acc: 0.9931\n",
      "Epoch 113 of 1000 - train_loss: 0.3305 - train_acc: 0.9974 - val_loss: 0.3326 - val_acc: 0.9931\n",
      "Epoch 114 of 1000 - train_loss: 0.3305 - train_acc: 0.9974 - val_loss: 0.3326 - val_acc: 0.9931\n",
      "Epoch 115 of 1000 - train_loss: 0.3305 - train_acc: 0.9974 - val_loss: 0.3326 - val_acc: 0.9931\n",
      "Epoch 116 of 1000 - train_loss: 0.3305 - train_acc: 0.9974 - val_loss: 0.3326 - val_acc: 0.9931\n",
      "Epoch 117 of 1000 - train_loss: 0.3305 - train_acc: 0.9974 - val_loss: 0.3326 - val_acc: 0.9931\n",
      "Epoch 118 of 1000 - train_loss: 0.3305 - train_acc: 0.9974 - val_loss: 0.3326 - val_acc: 0.9931\n",
      "Epoch 119 of 1000 - train_loss: 0.3305 - train_acc: 0.9974 - val_loss: 0.3326 - val_acc: 0.9931\n",
      "Epoch 120 of 1000 - train_loss: 0.3305 - train_acc: 0.9974 - val_loss: 0.3326 - val_acc: 0.9931\n",
      "Epoch 121 of 1000 - train_loss: 0.3305 - train_acc: 0.9974 - val_loss: 0.3326 - val_acc: 0.9931\n",
      "Epoch 122 of 1000 - train_loss: 0.3305 - train_acc: 0.9974 - val_loss: 0.3326 - val_acc: 0.9931\n",
      "Decreasing learning rate to 0.0100\n",
      "Epoch 123 of 1000 - train_loss: 0.3305 - train_acc: 0.9974 - val_loss: 0.3326 - val_acc: 0.9931\n",
      "Epoch 124 of 1000 - train_loss: 0.3304 - train_acc: 0.9974 - val_loss: 0.3326 - val_acc: 0.9931\n",
      "Epoch 125 of 1000 - train_loss: 0.3304 - train_acc: 0.9974 - val_loss: 0.3326 - val_acc: 0.9931\n",
      "Epoch 126 of 1000 - train_loss: 0.3304 - train_acc: 0.9974 - val_loss: 0.3326 - val_acc: 0.9931\n",
      "Epoch 127 of 1000 - train_loss: 0.3304 - train_acc: 0.9974 - val_loss: 0.3326 - val_acc: 0.9931\n",
      "Epoch 128 of 1000 - train_loss: 0.3304 - train_acc: 0.9974 - val_loss: 0.3326 - val_acc: 0.9931\n",
      "Epoch 129 of 1000 - train_loss: 0.3304 - train_acc: 0.9974 - val_loss: 0.3326 - val_acc: 0.9931\n",
      "Epoch 130 of 1000 - train_loss: 0.3304 - train_acc: 0.9974 - val_loss: 0.3326 - val_acc: 0.9931\n",
      "Epoch 131 of 1000 - train_loss: 0.3304 - train_acc: 0.9974 - val_loss: 0.3326 - val_acc: 0.9931\n",
      "Epoch 132 of 1000 - train_loss: 0.3304 - train_acc: 0.9974 - val_loss: 0.3326 - val_acc: 0.9931\n",
      "Epoch 133 of 1000 - train_loss: 0.3304 - train_acc: 0.9974 - val_loss: 0.3326 - val_acc: 0.9931\n",
      "Epoch 134 of 1000 - train_loss: 0.3304 - train_acc: 0.9974 - val_loss: 0.3326 - val_acc: 0.9931\n",
      "Epoch 135 of 1000 - train_loss: 0.3304 - train_acc: 0.9974 - val_loss: 0.3326 - val_acc: 0.9931\n",
      "Epoch 136 of 1000 - train_loss: 0.3304 - train_acc: 0.9974 - val_loss: 0.3326 - val_acc: 0.9931\n",
      "Epoch 137 of 1000 - train_loss: 0.3304 - train_acc: 0.9974 - val_loss: 0.3326 - val_acc: 0.9931\n",
      "Epoch 138 of 1000 - train_loss: 0.3304 - train_acc: 0.9974 - val_loss: 0.3326 - val_acc: 0.9931\n",
      "Epoch 139 of 1000 - train_loss: 0.3304 - train_acc: 0.9974 - val_loss: 0.3326 - val_acc: 0.9931\n",
      "Epoch 140 of 1000 - train_loss: 0.3304 - train_acc: 0.9974 - val_loss: 0.3326 - val_acc: 0.9931\n",
      "Epoch 141 of 1000 - train_loss: 0.3304 - train_acc: 0.9974 - val_loss: 0.3326 - val_acc: 0.9931\n",
      "Epoch 142 of 1000 - train_loss: 0.3304 - train_acc: 0.9974 - val_loss: 0.3326 - val_acc: 0.9931\n",
      "Decreasing learning rate to 0.0010\n",
      "Epoch 143 of 1000 - train_loss: 0.3304 - train_acc: 0.9974 - val_loss: 0.3326 - val_acc: 0.9931\n",
      "Epoch 144 of 1000 - train_loss: 0.3304 - train_acc: 0.9974 - val_loss: 0.3326 - val_acc: 0.9931\n",
      "Epoch 145 of 1000 - train_loss: 0.3304 - train_acc: 0.9974 - val_loss: 0.3326 - val_acc: 0.9931\n",
      "Epoch 146 of 1000 - train_loss: 0.3304 - train_acc: 0.9974 - val_loss: 0.3326 - val_acc: 0.9931\n",
      "Epoch 147 of 1000 - train_loss: 0.3304 - train_acc: 0.9974 - val_loss: 0.3326 - val_acc: 0.9931\n",
      "Epoch 148 of 1000 - train_loss: 0.3304 - train_acc: 0.9974 - val_loss: 0.3326 - val_acc: 0.9931\n",
      "Epoch 149 of 1000 - train_loss: 0.3304 - train_acc: 0.9974 - val_loss: 0.3326 - val_acc: 0.9931\n",
      "Epoch 150 of 1000 - train_loss: 0.3304 - train_acc: 0.9974 - val_loss: 0.3326 - val_acc: 0.9931\n",
      "Epoch 151 of 1000 - train_loss: 0.3304 - train_acc: 0.9974 - val_loss: 0.3326 - val_acc: 0.9931\n",
      "Epoch 152 of 1000 - train_loss: 0.3304 - train_acc: 0.9974 - val_loss: 0.3326 - val_acc: 0.9931\n",
      "Epoch 153 of 1000 - train_loss: 0.3304 - train_acc: 0.9974 - val_loss: 0.3326 - val_acc: 0.9931\n",
      "Epoch 154 of 1000 - train_loss: 0.3304 - train_acc: 0.9974 - val_loss: 0.3326 - val_acc: 0.9931\n",
      "Epoch 155 of 1000 - train_loss: 0.3304 - train_acc: 0.9974 - val_loss: 0.3326 - val_acc: 0.9931\n",
      "Epoch 156 of 1000 - train_loss: 0.3304 - train_acc: 0.9974 - val_loss: 0.3326 - val_acc: 0.9931\n",
      "Epoch 157 of 1000 - train_loss: 0.3304 - train_acc: 0.9974 - val_loss: 0.3326 - val_acc: 0.9931\n",
      "Epoch 158 of 1000 - train_loss: 0.3304 - train_acc: 0.9974 - val_loss: 0.3326 - val_acc: 0.9931\n",
      "Decreasing learning rate to 0.0001\n",
      "Epoch 159 of 1000 - train_loss: 0.3304 - train_acc: 0.9974 - val_loss: 0.3326 - val_acc: 0.9931\n",
      "Epoch 160 of 1000 - train_loss: 0.3304 - train_acc: 0.9974 - val_loss: 0.3326 - val_acc: 0.9931\n",
      "Epoch 161 of 1000 - train_loss: 0.3304 - train_acc: 0.9974 - val_loss: 0.3326 - val_acc: 0.9931\n",
      "Epoch 162 of 1000 - train_loss: 0.3304 - train_acc: 0.9974 - val_loss: 0.3326 - val_acc: 0.9931\n",
      "Epoch 163 of 1000 - train_loss: 0.3304 - train_acc: 0.9974 - val_loss: 0.3326 - val_acc: 0.9931\n",
      "Epoch 164 of 1000 - train_loss: 0.3304 - train_acc: 0.9974 - val_loss: 0.3326 - val_acc: 0.9931\n",
      "Epoch 165 of 1000 - train_loss: 0.3304 - train_acc: 0.9974 - val_loss: 0.3326 - val_acc: 0.9931\n",
      "Epoch 166 of 1000 - train_loss: 0.3304 - train_acc: 0.9974 - val_loss: 0.3326 - val_acc: 0.9931\n",
      "Epoch 167 of 1000 - train_loss: 0.3304 - train_acc: 0.9974 - val_loss: 0.3326 - val_acc: 0.9931\n",
      "Epoch 168 of 1000 - train_loss: 0.3304 - train_acc: 0.9974 - val_loss: 0.3326 - val_acc: 0.9931\n",
      "Epoch 169 of 1000 - train_loss: 0.3304 - train_acc: 0.9974 - val_loss: 0.3326 - val_acc: 0.9931\n",
      "\n",
      "Stopping early.\n",
      "\n",
      "CPU times: user 2min 30s, sys: 1.23 s, total: 2min 31s\n",
      "Wall time: 2min 31s\n"
     ]
    }
   ],
   "source": [
    "%time clf.fit(X_train, y_train, batch_size=16, n_epochs=1000, early_stopping_epsilon=1e-5)"
   ]
  },
  {
   "cell_type": "code",
   "execution_count": 7,
   "metadata": {},
   "outputs": [
    {
     "data": {
      "text/plain": [
       "tensor(0.9917)"
      ]
     },
     "execution_count": 7,
     "metadata": {},
     "output_type": "execute_result"
    }
   ],
   "source": [
    "clf.score(X_test, y_test)"
   ]
  },
  {
   "cell_type": "code",
   "execution_count": 8,
   "metadata": {},
   "outputs": [
    {
     "name": "stdout",
     "output_type": "stream",
     "text": [
      "             precision    recall  f1-score   support\n",
      "\n",
      "          0       0.99      1.00      1.00       327\n",
      "          1       1.00      0.91      0.95        33\n",
      "\n",
      "avg / total       0.99      0.99      0.99       360\n",
      "\n"
     ]
    }
   ],
   "source": [
    "from sklearn.metrics import classification_report, confusion_matrix\n",
    "\n",
    "y_pred = clf.predict(X_test)\n",
    "\n",
    "print(classification_report(y_test, y_pred))"
   ]
  },
  {
   "cell_type": "code",
   "execution_count": 9,
   "metadata": {},
   "outputs": [
    {
     "data": {
      "image/png": "[encoded data removed]",
      "text/plain": [
       "<Figure size 432x288 with 2 Axes>"
      ]
     },
     "metadata": {
      "needs_background": "light"
     },
     "output_type": "display_data"
    }
   ],
   "source": [
    "cm = sns.heatmap(confusion_matrix(y_test, y_pred), annot=True, cmap='Blues')\n",
    "\n",
    "cm.yaxis.set_ticklabels(cm.yaxis.get_ticklabels(), rotation=0, ha='right')\n",
    "cm.xaxis.set_ticklabels(cm.xaxis.get_ticklabels(), rotation=0, ha='right')\n",
    "cm.xaxis.tick_top()\n",
    "cm.xaxis.set_label_position('top')\n",
    "\n",
    "plt.ylabel('True label')\n",
    "plt.xlabel('Predicted label')\n",
    "plt.title('One-Versus-All Classification Confusion Matrix', y=1.15)\n",
    "plt.savefig('images/one-versus-all_confusion_matrix.png')\n",
    "plt.show()"
   ]
  },
  {
   "cell_type": "code",
   "execution_count": 10,
   "metadata": {},
   "outputs": [
    {
     "data": {
      "image/png": "[encoded data removed]",
      "text/plain": [
       "<Figure size 1152x288 with 16 Axes>"
      ]
     },
     "metadata": {
      "needs_background": "light"
     },
     "output_type": "display_data"
    }
   ],
   "source": [
    "n_rows = 2\n",
    "n_cols = 8\n",
    "n_total = n_rows * n_cols\n",
    "n_total = min(n_total, N)\n",
    "\n",
    "width_ratio = 2\n",
    "height_ratio = 2\n",
    "\n",
    "figsize = (int(width_ratio * n_cols), int(height_ratio * n_rows))\n",
    "\n",
    "fig, axes = plt.subplots(n_rows, n_cols, figsize=figsize)\n",
    "axes = axes.ravel()\n",
    "\n",
    "for ax, image, expected, actual in zip(axes, X_test[:n_total], y_test[:n_total], y_pred[:n_total]):\n",
    "    sns.heatmap(image, cbar=False, cmap='gray', ax=ax)\n",
    "    ax.set_axis_off()\n",
    "\n",
    "    color = 'green' if expected == actual else 'red'\n",
    "    ax.set_title('%s%d' % ('' if actual == 1 else 'Not ', 0), color=color)\n",
    "\n",
    "plt.suptitle('Sample of One-Versus-All Classification Predictions')\n",
    "plt.savefig('images/one-versus-all_classification_prediction_sample.png')"
   ]
  },
  {
   "cell_type": "code",
   "execution_count": 11,
   "metadata": {},
   "outputs": [
    {
     "data": {
      "image/png": "[encoded data removed]",
      "text/plain": [
       "<Figure size 864x1080 with 10 Axes>"
      ]
     },
     "metadata": {
      "needs_background": "light"
     },
     "output_type": "display_data"
    }
   ],
   "source": [
    "colors = plt.cm.rainbow(np.linspace(0, 1, clf.output_layer.n_rows * clf.output_layer.n_cols))\n",
    "\n",
    "n_layers = 2 + clf.n_hidden_layers\n",
    "n_cols = 2\n",
    "n_rows = n_layers // 2\n",
    "\n",
    "if n_layers % 2 > 0:\n",
    "    n_rows += 1\n",
    "\n",
    "fig, axes = plt.subplots(n_rows, n_cols, figsize=(12, 15))\n",
    "axes = axes.ravel()\n",
    "\n",
    "ax = sns.heatmap(X[0], cmap='gray', ax=axes[0])\n",
    "ax.set(title='Input Image')\n",
    "ax.set_axis_off()\n",
    "\n",
    "for (i, layer), ax in zip(enumerate(clf.hidden_layers), axes[1:-1]):\n",
    "    ax = sns.heatmap(layer.pixel_values, vmin=0, cmap='gray', ax=ax)\n",
    "        \n",
    "    for row in range(clf.output_layer.n_rows):\n",
    "        for col in range(clf.output_layer.n_cols):\n",
    "            trained_pixels = clf.grid_W_map[row][col][i].keys() \n",
    "\n",
    "            min_extent = clf.hidden_layer_shape\n",
    "            max_extent = (0, 0)\n",
    "\n",
    "            for grid_coord in trained_pixels:\n",
    "                grid_row, grid_col = grid_coord\n",
    "\n",
    "                if grid_row < min_extent[0]:\n",
    "                    min_extent = (grid_row, min_extent[1])\n",
    "\n",
    "                if grid_row > max_extent[0]:\n",
    "                    max_extent = (grid_row, max_extent[1])\n",
    "\n",
    "                if grid_col < min_extent[1]:\n",
    "                    min_extent = (min_extent[0], grid_col)\n",
    "\n",
    "                if grid_col > max_extent[1]:\n",
    "                    max_extent = (max_extent[0], grid_col)\n",
    "\n",
    "            height = (max_extent[0] - min_extent[0]) + 1\n",
    "            width = (max_extent[1] - min_extent[1]) + 1\n",
    "            \n",
    "            rect = patches.Rectangle((min_extent[1], min_extent[0]), width, height, \n",
    "                                     linewidth=3, alpha=0.6, edgecolor=colors[col], facecolor='none', \n",
    "                                     label='Trainable Area for Output Pixel %d' % (col + 1))\n",
    "\n",
    "            ax.add_patch(rect)\n",
    "            \n",
    "        ax.set_axis_off()\n",
    "        ax.set(title='Hidden Layer %d Pixel Transparency Values' % (i + 1))\n",
    "        ax.legend()\n",
    "        \n",
    "ax = sns.heatmap(clf.predict_proba(X).detach().numpy()[0].reshape(1, -1), vmin=0, vmax=1, cmap='gray', ax=axes[n_layers - 1])\n",
    "ax.set(title='Output')\n",
    "ax.set_axis_off()\n",
    "\n",
    "if n_layers % 2 > 0:\n",
    "    fig.delaxes(axes[-1])\n",
    "\n",
    "plt.suptitle('One-Versus-All Classification Hidden Layer Values')\n",
    "plt.tight_layout(rect=(0, 0, 1, 0.95))\n",
    "plt.savefig('images/one-versus-all_classification_hidden_layer_values.png')"
   ]
  }
 ],
 "metadata": {
  "kernelspec": {
   "display_name": "Python 3",
   "language": "python",
   "name": "python3"
  },
  "language_info": {
   "codemirror_mode": {
    "name": "ipython",
    "version": 3
   },
   "file_extension": ".py",
   "mimetype": "text/x-python",
   "name": "python",
   "nbconvert_exporter": "python",
   "pygments_lexer": "ipython3",
   "version": "3.7.2"
  }
 },
 "nbformat": 4,
 "nbformat_minor": 2
}
