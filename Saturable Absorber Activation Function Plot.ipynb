{
 "cells": [
  {
   "cell_type": "code",
   "execution_count": 1,
   "metadata": {},
   "outputs": [],
   "source": [
    "import numpy as np\n",
    "import matplotlib.pyplot as plt"
   ]
  },
  {
   "cell_type": "code",
   "execution_count": 2,
   "metadata": {},
   "outputs": [],
   "source": [
    "def softplus(x):\n",
    "    return np.log(1 + np.exp(x))"
   ]
  },
  {
   "cell_type": "code",
   "execution_count": 3,
   "metadata": {},
   "outputs": [
    {
     "data": {
      "text/plain": [
       "array([-2.5, -2.4, -2.3, -2.2, -2.1, -2. , -1.9, -1.8, -1.7, -1.6, -1.5,\n",
       "       -1.4, -1.3, -1.2, -1.1, -1. , -0.9, -0.8, -0.7, -0.6, -0.5, -0.4,\n",
       "       -0.3, -0.2, -0.1,  0. ,  0.1,  0.2,  0.3,  0.4,  0.5,  0.6,  0.7,\n",
       "        0.8,  0.9,  1. ,  1.1,  1.2,  1.3,  1.4,  1.5,  1.6,  1.7,  1.8,\n",
       "        1.9,  2. ,  2.1,  2.2,  2.3,  2.4,  2.5,  2.6,  2.7,  2.8,  2.9,\n",
       "        3. ,  3.1,  3.2,  3.3,  3.4,  3.5,  3.6,  3.7,  3.8,  3.9,  4. ,\n",
       "        4.1,  4.2,  4.3,  4.4,  4.5,  4.6,  4.7,  4.8,  4.9,  5. ,  5.1,\n",
       "        5.2,  5.3,  5.4,  5.5,  5.6,  5.7,  5.8,  5.9,  6. ,  6.1,  6.2,\n",
       "        6.3,  6.4,  6.5,  6.6,  6.7,  6.8,  6.9,  7. ,  7.1,  7.2,  7.3,\n",
       "        7.4,  7.5,  7.6,  7.7,  7.8,  7.9,  8. ,  8.1,  8.2,  8.3,  8.4,\n",
       "        8.5,  8.6,  8.7,  8.8,  8.9,  9. ,  9.1,  9.2,  9.3,  9.4,  9.5,\n",
       "        9.6,  9.7,  9.8,  9.9, 10. , 10.1, 10.2, 10.3, 10.4, 10.5, 10.6,\n",
       "       10.7, 10.8, 10.9, 11. , 11.1, 11.2, 11.3, 11.4, 11.5, 11.6, 11.7,\n",
       "       11.8, 11.9, 12. , 12.1, 12.2, 12.3, 12.4, 12.5, 12.6, 12.7, 12.8,\n",
       "       12.9, 13. , 13.1, 13.2, 13.3, 13.4, 13.5, 13.6, 13.7, 13.8, 13.9,\n",
       "       14. , 14.1, 14.2, 14.3, 14.4, 14.5, 14.6, 14.7, 14.8, 14.9, 15. ,\n",
       "       15.1, 15.2, 15.3, 15.4, 15.5, 15.6, 15.7, 15.8, 15.9, 16. , 16.1,\n",
       "       16.2, 16.3, 16.4, 16.5, 16.6, 16.7, 16.8, 16.9, 17. , 17.1, 17.2,\n",
       "       17.3, 17.4, 17.5])"
      ]
     },
     "execution_count": 3,
     "metadata": {},
     "output_type": "execute_result"
    }
   ],
   "source": [
    "data = np.linspace(-2.5, 17.5, 201)\n",
    "data"
   ]
  },
  {
   "cell_type": "code",
   "execution_count": 4,
   "metadata": {},
   "outputs": [],
   "source": [
    "activation = np.array([softplus(x) for x in data])"
   ]
  },
  {
   "cell_type": "code",
   "execution_count": 5,
   "metadata": {},
   "outputs": [
    {
     "data": {
      "text/plain": [
       "[<matplotlib.lines.Line2D at 0x7fe1abbf7f98>]"
      ]
     },
     "execution_count": 5,
     "metadata": {},
     "output_type": "execute_result"
    },
    {
     "data": {
      "image/png": "[encoded data removed]",
      "text/plain": [
       "<Figure size 432x288 with 1 Axes>"
      ]
     },
     "metadata": {
      "needs_background": "light"
     },
     "output_type": "display_data"
    }
   ],
   "source": [
    "plt.plot(data + 2.5, activation)"
   ]
  },
  {
   "cell_type": "code",
   "execution_count": 6,
   "metadata": {},
   "outputs": [
    {
     "data": {
      "text/plain": [
       "array([ -0. ,  -0.1,  -0.2,  -0.3,  -0.4,  -0.5,  -0.6,  -0.7,  -0.8,\n",
       "        -0.9,  -1. ,  -1.1,  -1.2,  -1.3,  -1.4,  -1.5,  -1.6,  -1.7,\n",
       "        -1.8,  -1.9,  -2. ,  -2.1,  -2.2,  -2.3,  -2.4,  -2.5,  -2.6,\n",
       "        -2.7,  -2.8,  -2.9,  -3. ,  -3.1,  -3.2,  -3.3,  -3.4,  -3.5,\n",
       "        -3.6,  -3.7,  -3.8,  -3.9,  -4. ,  -4.1,  -4.2,  -4.3,  -4.4,\n",
       "        -4.5,  -4.6,  -4.7,  -4.8,  -4.9,  -5. ,  -5.1,  -5.2,  -5.3,\n",
       "        -5.4,  -5.5,  -5.6,  -5.7,  -5.8,  -5.9,  -6. ,  -6.1,  -6.2,\n",
       "        -6.3,  -6.4,  -6.5,  -6.6,  -6.7,  -6.8,  -6.9,  -7. ,  -7.1,\n",
       "        -7.2,  -7.3,  -7.4,  -7.5,  -7.6,  -7.7,  -7.8,  -7.9,  -8. ,\n",
       "        -8.1,  -8.2,  -8.3,  -8.4,  -8.5,  -8.6,  -8.7,  -8.8,  -8.9,\n",
       "        -9. ,  -9.1,  -9.2,  -9.3,  -9.4,  -9.5,  -9.6,  -9.7,  -9.8,\n",
       "        -9.9, -10. , -10.1, -10.2, -10.3, -10.4, -10.5, -10.6, -10.7,\n",
       "       -10.8, -10.9, -11. , -11.1, -11.2, -11.3, -11.4, -11.5, -11.6,\n",
       "       -11.7, -11.8, -11.9, -12. , -12.1, -12.2, -12.3, -12.4, -12.5,\n",
       "       -12.6, -12.7, -12.8, -12.9, -13. , -13.1, -13.2, -13.3, -13.4,\n",
       "       -13.5, -13.6, -13.7, -13.8, -13.9, -14. , -14.1, -14.2, -14.3,\n",
       "       -14.4, -14.5, -14.6, -14.7, -14.8, -14.9, -15. , -15.1, -15.2,\n",
       "       -15.3, -15.4, -15.5, -15.6, -15.7, -15.8, -15.9, -16. , -16.1,\n",
       "       -16.2, -16.3, -16.4, -16.5, -16.6, -16.7, -16.8, -16.9, -17. ,\n",
       "       -17.1, -17.2, -17.3, -17.4, -17.5, -17.6, -17.7, -17.8, -17.9,\n",
       "       -18. , -18.1, -18.2, -18.3, -18.4, -18.5, -18.6, -18.7, -18.8,\n",
       "       -18.9, -19. , -19.1, -19.2, -19.3, -19.4, -19.5, -19.6, -19.7,\n",
       "       -19.8, -19.9, -20. ])"
      ]
     },
     "execution_count": 6,
     "metadata": {},
     "output_type": "execute_result"
    }
   ],
   "source": [
    "-(data + 2.5)"
   ]
  },
  {
   "cell_type": "code",
   "execution_count": 7,
   "metadata": {},
   "outputs": [
    {
     "data": {
      "text/plain": [
       "array([-20. , -19.9, -19.8, -19.7, -19.6, -19.5, -19.4, -19.3, -19.2,\n",
       "       -19.1, -19. , -18.9, -18.8, -18.7, -18.6, -18.5, -18.4, -18.3,\n",
       "       -18.2, -18.1, -18. , -17.9, -17.8, -17.7, -17.6, -17.5, -17.4,\n",
       "       -17.3, -17.2, -17.1, -17. , -16.9, -16.8, -16.7, -16.6, -16.5,\n",
       "       -16.4, -16.3, -16.2, -16.1, -16. , -15.9, -15.8, -15.7, -15.6,\n",
       "       -15.5, -15.4, -15.3, -15.2, -15.1, -15. , -14.9, -14.8, -14.7,\n",
       "       -14.6, -14.5, -14.4, -14.3, -14.2, -14.1, -14. , -13.9, -13.8,\n",
       "       -13.7, -13.6, -13.5, -13.4, -13.3, -13.2, -13.1, -13. , -12.9,\n",
       "       -12.8, -12.7, -12.6, -12.5, -12.4, -12.3, -12.2, -12.1, -12. ,\n",
       "       -11.9, -11.8, -11.7, -11.6, -11.5, -11.4, -11.3, -11.2, -11.1,\n",
       "       -11. , -10.9, -10.8, -10.7, -10.6, -10.5, -10.4, -10.3, -10.2,\n",
       "       -10.1, -10. ,  -9.9,  -9.8,  -9.7,  -9.6,  -9.5,  -9.4,  -9.3,\n",
       "        -9.2,  -9.1,  -9. ,  -8.9,  -8.8,  -8.7,  -8.6,  -8.5,  -8.4,\n",
       "        -8.3,  -8.2,  -8.1,  -8. ,  -7.9,  -7.8,  -7.7,  -7.6,  -7.5,\n",
       "        -7.4,  -7.3,  -7.2,  -7.1,  -7. ,  -6.9,  -6.8,  -6.7,  -6.6,\n",
       "        -6.5,  -6.4,  -6.3,  -6.2,  -6.1,  -6. ,  -5.9,  -5.8,  -5.7,\n",
       "        -5.6,  -5.5,  -5.4,  -5.3,  -5.2,  -5.1,  -5. ,  -4.9,  -4.8,\n",
       "        -4.7,  -4.6,  -4.5,  -4.4,  -4.3,  -4.2,  -4.1,  -4. ,  -3.9,\n",
       "        -3.8,  -3.7,  -3.6,  -3.5,  -3.4,  -3.3,  -3.2,  -3.1,  -3. ,\n",
       "        -2.9,  -2.8,  -2.7,  -2.6,  -2.5,  -2.4,  -2.3,  -2.2,  -2.1,\n",
       "        -2. ,  -1.9,  -1.8,  -1.7,  -1.6,  -1.5,  -1.4,  -1.3,  -1.2,\n",
       "        -1.1,  -1. ,  -0.9,  -0.8,  -0.7,  -0.6,  -0.5,  -0.4,  -0.3,\n",
       "        -0.2,  -0.1,   0. ,   0.1,   0.2,   0.3,   0.4,   0.5,   0.6,\n",
       "         0.7,   0.8,   0.9,   1. ,   1.1,   1.2,   1.3,   1.4,   1.5,\n",
       "         1.6,   1.7,   1.8,   1.9,   2. ,   2.1,   2.2,   2.3,   2.4,\n",
       "         2.5,   2.6,   2.7,   2.8,   2.9,   3. ,   3.1,   3.2,   3.3,\n",
       "         3.4,   3.5,   3.6,   3.7,   3.8,   3.9,   4. ,   4.1,   4.2,\n",
       "         4.3,   4.4,   4.5,   4.6,   4.7,   4.8,   4.9,   5. ,   5.1,\n",
       "         5.2,   5.3,   5.4,   5.5,   5.6,   5.7,   5.8,   5.9,   6. ,\n",
       "         6.1,   6.2,   6.3,   6.4,   6.5,   6.6,   6.7,   6.8,   6.9,\n",
       "         7. ,   7.1,   7.2,   7.3,   7.4,   7.5,   7.6,   7.7,   7.8,\n",
       "         7.9,   8. ,   8.1,   8.2,   8.3,   8.4,   8.5,   8.6,   8.7,\n",
       "         8.8,   8.9,   9. ,   9.1,   9.2,   9.3,   9.4,   9.5,   9.6,\n",
       "         9.7,   9.8,   9.9,  10. ,  10.1,  10.2,  10.3,  10.4,  10.5,\n",
       "        10.6,  10.7,  10.8,  10.9,  11. ,  11.1,  11.2,  11.3,  11.4,\n",
       "        11.5,  11.6,  11.7,  11.8,  11.9,  12. ,  12.1,  12.2,  12.3,\n",
       "        12.4,  12.5,  12.6,  12.7,  12.8,  12.9,  13. ,  13.1,  13.2,\n",
       "        13.3,  13.4,  13.5,  13.6,  13.7,  13.8,  13.9,  14. ,  14.1,\n",
       "        14.2,  14.3,  14.4,  14.5,  14.6,  14.7,  14.8,  14.9,  15. ,\n",
       "        15.1,  15.2,  15.3,  15.4,  15.5,  15.6,  15.7,  15.8,  15.9,\n",
       "        16. ,  16.1,  16.2,  16.3,  16.4,  16.5,  16.6,  16.7,  16.8,\n",
       "        16.9,  17. ,  17.1,  17.2,  17.3,  17.4,  17.5,  17.6,  17.7,\n",
       "        17.8,  17.9,  18. ,  18.1,  18.2,  18.3,  18.4,  18.5,  18.6,\n",
       "        18.7,  18.8,  18.9,  19. ,  19.1,  19.2,  19.3,  19.4,  19.5,\n",
       "        19.6,  19.7,  19.8,  19.9,  20. ,  20.1])"
      ]
     },
     "execution_count": 7,
     "metadata": {},
     "output_type": "execute_result"
    }
   ],
   "source": [
    "x_data = np.linspace(-20, 20.1, 402)\n",
    "x_data"
   ]
  },
  {
   "cell_type": "code",
   "execution_count": 8,
   "metadata": {},
   "outputs": [
    {
     "data": {
      "text/plain": [
       "175"
      ]
     },
     "execution_count": 8,
     "metadata": {},
     "output_type": "execute_result"
    }
   ],
   "source": [
    "i_neg = np.where(x_data == -2.5)[0][0]\n",
    "i_neg"
   ]
  },
  {
   "cell_type": "code",
   "execution_count": 9,
   "metadata": {},
   "outputs": [
    {
     "data": {
      "text/plain": [
       "225"
      ]
     },
     "execution_count": 9,
     "metadata": {},
     "output_type": "execute_result"
    }
   ],
   "source": [
    "i_pos = np.where(x_data == 2.5)[0][0]\n",
    "i_pos"
   ]
  },
  {
   "cell_type": "code",
   "execution_count": 10,
   "metadata": {},
   "outputs": [
    {
     "data": {
      "text/plain": [
       "array([-17.50000003, -17.40000003, -17.30000003, -17.20000003,\n",
       "       -17.10000004, -17.00000004, -16.90000005, -16.80000005,\n",
       "       -16.70000006, -16.60000006, -16.50000007, -16.40000008,\n",
       "       -16.30000008, -16.20000009, -16.1000001 , -16.00000011,\n",
       "       -15.90000012, -15.80000014, -15.70000015, -15.60000017,\n",
       "       -15.50000019, -15.40000021, -15.30000023, -15.20000025,\n",
       "       -15.10000028, -15.00000031, -14.90000034, -14.80000037,\n",
       "       -14.70000041, -14.60000046, -14.5000005 , -14.40000056,\n",
       "       -14.30000062, -14.20000068, -14.10000075, -14.00000083,\n",
       "       -13.90000092, -13.80000102, -13.70000112, -13.60000124,\n",
       "       -13.50000137, -13.40000152, -13.30000167, -13.20000185,\n",
       "       -13.10000205, -13.00000226, -12.9000025 , -12.80000276,\n",
       "       -12.70000305, -12.60000337, -12.50000373, -12.40000412,\n",
       "       -12.30000455, -12.20000503, -12.10000556, -12.00000614,\n",
       "       -11.90000679, -11.8000075 , -11.70000829, -11.60000917,\n",
       "       -11.50001013, -11.4000112 , -11.30001237, -11.20001367,\n",
       "       -11.10001511, -11.0000167 , -10.90001846, -10.8000204 ,\n",
       "       -10.70002254, -10.60002492, -10.50002754, -10.40003043,\n",
       "       -10.30003363, -10.20003717, -10.10004108, -10.0000454 ,\n",
       "        -9.90005017,  -9.80005545,  -9.70006128,  -9.60006773,\n",
       "        -9.50007485,  -9.40008272,  -9.30009142,  -9.20010103,\n",
       "        -9.10011166,  -9.0001234 ,  -8.90013638,  -8.80015072,\n",
       "        -8.70016657,  -8.60018409,  -8.50020345,  -8.40022484,\n",
       "        -8.30024849,  -8.20027462,  -8.10030349,  -8.00033541,\n",
       "        -7.90037067,  -7.80040965,  -7.70045272,  -7.60050033,\n",
       "        -7.50055293,  -7.40061107,  -7.30067531,  -7.20074631,\n",
       "        -7.10082476,  -7.00091147,  -6.90100728,  -6.80111316,\n",
       "        -6.70123015,  -6.60135944,  -6.50150231,  -6.40166018,\n",
       "        -6.30183462,  -6.20202737,  -6.10224036,  -6.00247569,\n",
       "        -5.9027357 ,  -5.80302298,  -5.70334038,  -5.60369104,\n",
       "        -5.50407844,  -5.40450641,  -5.30497918,  -5.2055014 ,\n",
       "        -5.10607824,  -5.00671535,  -4.90741899,  -4.80819607,\n",
       "        -4.70905416,  -4.61000165,  -4.51104774,  -4.41220258,\n",
       "        -4.31347733,  -4.21488425,  -4.11643685,  -4.01814993,\n",
       "        -3.92003977,  -3.82212422,  -3.72442285,  -3.62695709,\n",
       "        -3.52975042,  -3.43282847,  -3.33621926,  -3.23995333,\n",
       "        -3.14406397,  -3.04858735,  -2.95356278,  -2.85903283,\n",
       "        -2.76504356,  -2.67164469,  -2.57888973,  -2.48683615,\n",
       "        -2.39554546,  -2.30508332,  -2.21551952,  -2.12692801,\n",
       "        -2.03938676,  -1.95297761,  -1.86778603,  -1.78390074,\n",
       "        -1.70141328,  -1.62041741,  -1.54100845,  -1.46328247,\n",
       "        -1.38733533,  -1.31326169,  -1.24115387,  -1.17110067,\n",
       "        -1.10318605,  -1.03748795,  -0.97407698,  -0.91301525,\n",
       "        -0.85435524,  -0.79813887,  -0.74439666,  -0.69314718,\n",
       "        -0.64439666,  -0.59813887,  -0.55435524,  -0.51301525,\n",
       "        -0.47407698,  -0.43748795,  -0.40318605,  -0.37110067,\n",
       "        -0.34115387,  -0.31326169,  -0.28733533,  -0.26328247,\n",
       "        -0.24100845,  -0.22041741,  -0.20141328,  -0.18390074,\n",
       "        -0.16778603,  -0.15297761,  -0.13938676,  -0.12692801,\n",
       "        -0.11551952,  -0.10508332,  -0.09554546,  -0.08683615,\n",
       "        -0.07888973,   0.07888973,   0.08683615,   0.09554546,\n",
       "         0.10508332,   0.11551952,   0.12692801,   0.13938676,\n",
       "         0.15297761,   0.16778603,   0.18390074,   0.20141328,\n",
       "         0.22041741,   0.24100845,   0.26328247,   0.28733533,\n",
       "         0.31326169,   0.34115387,   0.37110067,   0.40318605,\n",
       "         0.43748795,   0.47407698,   0.51301525,   0.55435524,\n",
       "         0.59813887,   0.64439666,   0.69314718,   0.74439666,\n",
       "         0.79813887,   0.85435524,   0.91301525,   0.97407698,\n",
       "         1.03748795,   1.10318605,   1.17110067,   1.24115387,\n",
       "         1.31326169,   1.38733533,   1.46328247,   1.54100845,\n",
       "         1.62041741,   1.70141328,   1.78390074,   1.86778603,\n",
       "         1.95297761,   2.03938676,   2.12692801,   2.21551952,\n",
       "         2.30508332,   2.39554546,   2.48683615,   2.57888973,\n",
       "         2.67164469,   2.76504356,   2.85903283,   2.95356278,\n",
       "         3.04858735,   3.14406397,   3.23995333,   3.33621926,\n",
       "         3.43282847,   3.52975042,   3.62695709,   3.72442285,\n",
       "         3.82212422,   3.92003977,   4.01814993,   4.11643685,\n",
       "         4.21488425,   4.31347733,   4.41220258,   4.51104774,\n",
       "         4.61000165,   4.70905416,   4.80819607,   4.90741899,\n",
       "         5.00671535,   5.10607824,   5.2055014 ,   5.30497918,\n",
       "         5.40450641,   5.50407844,   5.60369104,   5.70334038,\n",
       "         5.80302298,   5.9027357 ,   6.00247569,   6.10224036,\n",
       "         6.20202737,   6.30183462,   6.40166018,   6.50150231,\n",
       "         6.60135944,   6.70123015,   6.80111316,   6.90100728,\n",
       "         7.00091147,   7.10082476,   7.20074631,   7.30067531,\n",
       "         7.40061107,   7.50055293,   7.60050033,   7.70045272,\n",
       "         7.80040965,   7.90037067,   8.00033541,   8.10030349,\n",
       "         8.20027462,   8.30024849,   8.40022484,   8.50020345,\n",
       "         8.60018409,   8.70016657,   8.80015072,   8.90013638,\n",
       "         9.0001234 ,   9.10011166,   9.20010103,   9.30009142,\n",
       "         9.40008272,   9.50007485,   9.60006773,   9.70006128,\n",
       "         9.80005545,   9.90005017,  10.0000454 ,  10.10004108,\n",
       "        10.20003717,  10.30003363,  10.40003043,  10.50002754,\n",
       "        10.60002492,  10.70002254,  10.8000204 ,  10.90001846,\n",
       "        11.0000167 ,  11.10001511,  11.20001367,  11.30001237,\n",
       "        11.4000112 ,  11.50001013,  11.60000917,  11.70000829,\n",
       "        11.8000075 ,  11.90000679,  12.00000614,  12.10000556,\n",
       "        12.20000503,  12.30000455,  12.40000412,  12.50000373,\n",
       "        12.60000337,  12.70000305,  12.80000276,  12.9000025 ,\n",
       "        13.00000226,  13.10000205,  13.20000185,  13.30000167,\n",
       "        13.40000152,  13.50000137,  13.60000124,  13.70000112,\n",
       "        13.80000102,  13.90000092,  14.00000083,  14.10000075,\n",
       "        14.20000068,  14.30000062,  14.40000056,  14.5000005 ,\n",
       "        14.60000046,  14.70000041,  14.80000037,  14.90000034,\n",
       "        15.00000031,  15.10000028,  15.20000025,  15.30000023,\n",
       "        15.40000021,  15.50000019,  15.60000017,  15.70000015,\n",
       "        15.80000014,  15.90000012,  16.00000011,  16.1000001 ,\n",
       "        16.20000009,  16.30000008,  16.40000008,  16.50000007,\n",
       "        16.60000006,  16.70000006,  16.80000005,  16.90000005,\n",
       "        17.00000004,  17.10000004,  17.20000003,  17.30000003,\n",
       "        17.40000003,  17.50000003])"
      ]
     },
     "execution_count": 10,
     "metadata": {},
     "output_type": "execute_result"
    }
   ],
   "source": [
    "activation_both_sides = np.concatenate((np.sort(-activation), activation))\n",
    "activation_both_sides"
   ]
  },
  {
   "cell_type": "code",
   "execution_count": 11,
   "metadata": {},
   "outputs": [
    {
     "name": "stdout",
     "output_type": "stream",
     "text": [
      "(402,)\n",
      "(402,)\n"
     ]
    }
   ],
   "source": [
    "print(x_data.shape)\n",
    "print(activation_both_sides.shape)"
   ]
  },
  {
   "cell_type": "code",
   "execution_count": 12,
   "metadata": {},
   "outputs": [
    {
     "data": {
      "image/png": "[encoded data removed]",
      "text/plain": [
       "<Figure size 864x576 with 1 Axes>"
      ]
     },
     "metadata": {
      "needs_background": "light"
     },
     "output_type": "display_data"
    }
   ],
   "source": [
    "plt.figure(figsize=(12, 8))\n",
    "plt.plot(x_data, activation_both_sides)\n",
    "plt.title('Estimation of Activation Using Saturable Absorbers')\n",
    "plt.xlabel('Input')\n",
    "plt.ylabel('Activation Value')\n",
    "plt.savefig('saturable_absorber_activation.png')"
   ]
  }
 ],
 "metadata": {
  "kernelspec": {
   "display_name": "Python [conda env:tensorflow]",
   "language": "python",
   "name": "conda-env-tensorflow-py"
  },
  "language_info": {
   "codemirror_mode": {
    "name": "ipython",
    "version": 3
   },
   "file_extension": ".py",
   "mimetype": "text/x-python",
   "name": "python",
   "nbconvert_exporter": "python",
   "pygments_lexer": "ipython3",
   "version": "3.6.6"
  }
 },
 "nbformat": 4,
 "nbformat_minor": 2
}
