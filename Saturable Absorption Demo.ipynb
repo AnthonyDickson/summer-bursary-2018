{
 "cells": [
  {
   "cell_type": "markdown",
   "metadata": {},
   "source": [
    "# Saturable Absorption Demo\n",
    "In this notebook I will try to simulate the property called saturable absorption that is present in some materials like dyes and semiconductors. \n",
    "\n",
    "## What is Saturable Absorption?\n",
    "Essentially, this is the property where the rate of absorption slows as the incident light becomes more intense. In other words, as the light entering the material becomes brighter, the amount of light that makes it through to the other side of the material per unit of light becomes less. So in short, you get diminishing returns.\n",
    "\n",
    "## Importance\n",
    "So why do we care about this property? Well, it turns out that this property introduces a nonlinearity - something that is vital to the operation of Multi-Layer Perceptron neural networks. This enables us to implement an activation function using light. Neat, right?\n",
    "\n",
    "## Applications\n",
    "Recently there has been some interest in photonic computing - basically computers that use light instead of electrons to do their computations. The benefits of photonic computing are appealing, it offers significant speedup and lowered power consumption over conventional computers. However, current applications of photonic seems to be rather limited, and the applications that I have seen so far have been very specific. \n",
    "\n",
    "One application that is of much interest to those who dabble in deep learning is the optical neural network (ONN). An ONN has been implemented using a nanophotonic prossesor by a group of researchers at MIT. The chip that they used is made up of a few key components: waveguides, phase shifters, and saturable absorbers. The first two are used to perform matrix multiplication and the saturable\n",
    "\n",
    "## The Effect of Saturable Absorption\n",
    "The effect of saturable absoption can be expressed as:\n",
    "$$\\sigma\\tau_sI_0=\\frac{1}{2}\\frac{ln(\\frac{T_m}{T_0})}{1-T_m}$$\n",
    "where $\\sigma$ is the absorption cross section per molecule, $\\tau_s$ is the lifetime of molecules in the excited state, $I_0$ is the peak incident intensity, $T_m$ is the maximum transmittance, and $T_0$ is the initial transmittance.\n",
    "\n",
    "## Some Values\n",
    "In order to simulate saturable absorption, I need two things: the mathematical model that describes it, and some values to plug into said model. If you have read this, then you will have noticed that we already have the model, so now it is just a matter of finding some suitable values.\n",
    "\n",
    "The supplementary for the paper titled 'Deep learning with coherent nanophotonic circuits' provides us with some ballpark figures for the $\\sigma$ and $\\tau_s$ terms of the equation. Those values are:\n",
    "$$\\sigma\\approx10^{-15} \\:\\text{(cm)}^2$$\n",
    "$$\\tau_s=10^{-9} \\:\\text{(sec)}$$\n",
    "\n",
    "Some digging into the paper titled 'Monolayer Graphene as a Saturable Absorber in a Mode-Locked Laser' provides us with a few more values from their experiments (these are the best estimates I could manage with my current understanding):\n",
    "$$T_0=-35.1 \\:\\text{dBm}$$\n",
    "$$T_m=-2.64 \\:\\text{dBm}$$\n",
    "Note that $T_0$ is roughly equivalent to 309 nW and $T_m$ is roughly equivalent to 0.55 mW.\n",
    "\n",
    "These values were achieved using a femtosecond Ti:sapphire laser system with an incident intensity in the closed interval $[-30 \\:\\text{dBm}, -2.5 \\:\\text{dBm}]$.\n",
    "\n",
    "With all these values, I think I have enough to reproduce the graph in the supplementary of 'Deep learning with coherent nanophotonic circuits' (Figure S3)."
   ]
  }
 ],
 "metadata": {
  "kernelspec": {
   "display_name": "Python [conda env:tensorflow]",
   "language": "python",
   "name": "conda-env-tensorflow-py"
  },
  "language_info": {
   "codemirror_mode": {
    "name": "ipython",
    "version": 3
   },
   "file_extension": ".py",
   "mimetype": "text/x-python",
   "name": "python",
   "nbconvert_exporter": "python",
   "pygments_lexer": "ipython3",
   "version": "3.6.6"
  }
 },
 "nbformat": 4,
 "nbformat_minor": 2
}
