{
 "cells": [
  {
   "cell_type": "code",
   "execution_count": null,
   "metadata": {
    "colab": {},
    "colab_type": "code",
    "id": "THlHq-DyPpIe"
   },
   "outputs": [],
   "source": [
    "import tensorflow as tf\n",
    "from tensorflow import keras\n",
    "from tensorflow.keras.layers import Dense, Activation, Flatten\n",
    "\n",
    "from sklearn.preprocessing import OneHotEncoder"
   ]
  },
  {
   "cell_type": "markdown",
   "metadata": {},
   "source": [
    "# Load & Preprocess Data"
   ]
  },
  {
   "cell_type": "code",
   "execution_count": null,
   "metadata": {
    "colab": {},
    "colab_type": "code",
    "id": "I7Cf6-_rP2mR"
   },
   "outputs": [],
   "source": [
    "(X_train, y_train), (X_test, y_test) = keras.datasets.fashion_mnist.load_data()"
   ]
  },
  {
   "cell_type": "code",
   "execution_count": null,
   "metadata": {
    "colab": {},
    "colab_type": "code",
    "id": "GSFxoEY5VS62"
   },
   "outputs": [],
   "source": [
    "label_dict = {\n",
    "  0: 'T-shirt/top',\n",
    "  1: 'Trouser',\n",
    "  2: 'Pullover',\n",
    "  3: 'Dress',\n",
    "  4: 'Coat',\n",
    "  5: 'Sandal',\n",
    "  6: 'Shirt',\n",
    "  7: 'Sneaker',\n",
    "  8: 'Bag',\n",
    "  9: 'Ankle boot'\n",
    "}"
   ]
  },
  {
   "cell_type": "markdown",
   "metadata": {},
   "source": [
    "## Normalise Image Data"
   ]
  },
  {
   "cell_type": "code",
   "execution_count": null,
   "metadata": {},
   "outputs": [],
   "source": [
    "X_train = X_train / 255.0\n",
    "X_test = X_test / 255.0"
   ]
  },
  {
   "cell_type": "markdown",
   "metadata": {},
   "source": [
    "## One-Hot Encode Labels"
   ]
  },
  {
   "cell_type": "code",
   "execution_count": null,
   "metadata": {},
   "outputs": [],
   "source": [
    "ohe = OneHotEncoder(categories='auto')\n",
    "ohe.fit(y_train.reshape(-1, 1))\n",
    "y_train = ohe.transform(y_train.reshape(-1, 1))\n",
    "y_test = ohe.transform(y_test.reshape(-1, 1))"
   ]
  },
  {
   "cell_type": "markdown",
   "metadata": {},
   "source": [
    "# Basic Exploratory Data Analysis"
   ]
  },
  {
   "cell_type": "code",
   "execution_count": null,
   "metadata": {
    "colab": {},
    "colab_type": "code",
    "id": "3fr2hbY5QVbn"
   },
   "outputs": [],
   "source": [
    "import matplotlib.pyplot as plt\n",
    "%matplotlib inline"
   ]
  },
  {
   "cell_type": "code",
   "execution_count": null,
   "metadata": {
    "colab": {
     "base_uri": "https://localhost:8080/",
     "height": 51
    },
    "colab_type": "code",
    "id": "cBDNxgt0QgSc",
    "outputId": "badf0ae6-419b-462d-a544-096d10e90633"
   },
   "outputs": [],
   "source": [
    "print('train data shape: {}; target shape: {}'.format(X_train.shape, y_train.shape))\n",
    "print('test data shape: {}; target shape: {}'.format(X_test.shape, y_test.shape))"
   ]
  },
  {
   "cell_type": "code",
   "execution_count": null,
   "metadata": {
    "colab": {
     "base_uri": "https://localhost:8080/",
     "height": 282
    },
    "colab_type": "code",
    "id": "PqyjI95SQ7r5",
    "outputId": "8f773441-0428-4278-bd3d-a1ed32a96b8a"
   },
   "outputs": [],
   "source": [
    "sample = X_train[0]\n",
    "plt.imshow(sample, cmap='gray')"
   ]
  },
  {
   "cell_type": "code",
   "execution_count": null,
   "metadata": {
    "colab": {
     "base_uri": "https://localhost:8080/",
     "height": 916
    },
    "colab_type": "code",
    "id": "W7oAULQzSNm-",
    "outputId": "bd75b880-ed80-4c3b-9bea-1b9f7e9786b1"
   },
   "outputs": [],
   "source": [
    "nrows = 4\n",
    "ncols = 4\n",
    "\n",
    "fig, axes = plt.subplots(nrows, ncols)\n",
    "fig.set_size_inches(16, 16)\n",
    "\n",
    "i = 0\n",
    "\n",
    "for row in range(nrows):\n",
    "    for col in range(ncols):\n",
    "        img = X_train[i]\n",
    "        label = label_dict[y_train[i].argmax()]\n",
    "\n",
    "        axis = axes[row, col]\n",
    "        axis.imshow(img, cmap='gray')\n",
    "        axis.get_xaxis().set_visible(False)\n",
    "        axis.get_yaxis().set_visible(False)\n",
    "        axis.set_title(label)\n",
    "        \n",
    "        i += 1"
   ]
  },
  {
   "cell_type": "markdown",
   "metadata": {},
   "source": [
    "# Building the Model"
   ]
  },
  {
   "cell_type": "code",
   "execution_count": null,
   "metadata": {
    "colab": {
     "base_uri": "https://localhost:8080/",
     "height": 34
    },
    "colab_type": "code",
    "id": "iYpXo6f8WDuU",
    "outputId": "243078fd-6479-4584-8a6b-e5e20951ab77"
   },
   "outputs": [],
   "source": [
    "batch_size = 32\n",
    "img_dim = X_train[0].shape\n",
    "\n",
    "print('Image Dimensions: {}'.format(img_dim))"
   ]
  },
  {
   "cell_type": "code",
   "execution_count": null,
   "metadata": {
    "colab": {},
    "colab_type": "code",
    "id": "bllaaoIEXzyq"
   },
   "outputs": [],
   "source": [
    "model = keras.models.Sequential([\n",
    "    Flatten(input_shape=img_dim),\n",
    "    Dense(512),\n",
    "    Activation('relu'),\n",
    "    Dense(10),\n",
    "    Activation('softmax')\n",
    "])\n",
    "\n",
    "model.compile(optimizer='rmsprop',\n",
    "              loss='categorical_crossentropy',\n",
    "              metrics=['accuracy'])"
   ]
  },
  {
   "cell_type": "markdown",
   "metadata": {},
   "source": [
    "# Training and Evaluating the Model"
   ]
  },
  {
   "cell_type": "code",
   "execution_count": null,
   "metadata": {
    "colab": {
     "base_uri": "https://localhost:8080/",
     "height": 374
    },
    "colab_type": "code",
    "id": "w26YmcTWX4B5",
    "outputId": "bfcb3fa1-55cd-44c2-a322-4ee86120daea"
   },
   "outputs": [],
   "source": [
    "model.fit(X_train, y_train, batch_size=batch_size, epochs=10)"
   ]
  },
  {
   "cell_type": "code",
   "execution_count": null,
   "metadata": {
    "colab": {
     "base_uri": "https://localhost:8080/",
     "height": 51
    },
    "colab_type": "code",
    "id": "4O8vGXmNa63J",
    "outputId": "3ea46652-d84c-4120-dd89-52dc66d7285a"
   },
   "outputs": [],
   "source": [
    "test_loss, test_acc = model.evaluate(X_test, y_test)\n",
    "\n",
    "print('Test accuracy:', test_acc)"
   ]
  },
  {
   "cell_type": "code",
   "execution_count": null,
   "metadata": {},
   "outputs": [],
   "source": [
    "nrows = 6\n",
    "ncols = 6\n",
    "ntotal = nrows * ncols\n",
    "i = 0\n",
    "\n",
    "fig, axes = plt.subplots(nrows, ncols)\n",
    "fig.set_size_inches(20, 16)\n",
    "\n",
    "predictions = model.predict_proba(X_test[:ntotal])\n",
    "\n",
    "for row in range(nrows):\n",
    "    for col in range(ncols):\n",
    "        img = X_test[i]        \n",
    "        predicted_label = label_dict[predictions[i].argmax()]\n",
    "        probability = predictions[i].max() * 100\n",
    "        actual_label = label_dict[y_test[i].argmax()]\n",
    "        title_colour = 'green' if predicted_label == actual_label else 'red'\n",
    "\n",
    "        axis = axes[row, col]\n",
    "        axis.imshow(img, cmap='gray')\n",
    "        axis.get_xaxis().set_visible(False)\n",
    "        axis.get_yaxis().set_visible(False)\n",
    "        axis.set_title('{} {:.2f}% ({})'.format(predicted_label, probability, actual_label), color=title_colour)\n",
    "        \n",
    "        i += 1"
   ]
  },
  {
   "cell_type": "markdown",
   "metadata": {},
   "source": [
    "# CNN"
   ]
  },
  {
   "cell_type": "code",
   "execution_count": null,
   "metadata": {},
   "outputs": [],
   "source": [
    "from tensorflow.keras.layers import Conv2D, MaxPool2D, Dropout\n",
    "import numpy as np"
   ]
  },
  {
   "cell_type": "markdown",
   "metadata": {},
   "source": [
    "## Expand Data Dimensions\n",
    "\n",
    "Add in an extra dimension for channels.\n",
    "The images in the Fashion MNIST dataset are grayscale so there is only one channel."
   ]
  },
  {
   "cell_type": "code",
   "execution_count": null,
   "metadata": {},
   "outputs": [],
   "source": [
    "print(img_dim)\n",
    "print(X_train.shape)\n",
    "print(X_test.shape)"
   ]
  },
  {
   "cell_type": "code",
   "execution_count": null,
   "metadata": {},
   "outputs": [],
   "source": [
    "X_train_with_channels = np.expand_dims(X_train, axis=3)\n",
    "X_test_with_channels = np.expand_dims(X_test, axis=3)\n",
    "cnn_input_shape = X_train_with_channels[0].shape\n",
    "\n",
    "print(img_dim)\n",
    "print(X_train_with_channels.shape)\n",
    "print(X_test_with_channels.shape)"
   ]
  },
  {
   "cell_type": "markdown",
   "metadata": {},
   "source": [
    "## CNN Model"
   ]
  },
  {
   "cell_type": "code",
   "execution_count": null,
   "metadata": {},
   "outputs": [],
   "source": [
    "cnn = keras.models.Sequential([\n",
    "    Conv2D(32, (3, 3), activation='relu', padding='same', input_shape=cnn_input_shape),\n",
    "    MaxPool2D(pool_size=(2, 2)),\n",
    "    Dropout(0.25),\n",
    "    \n",
    "    Conv2D(64, (3, 3), activation='relu', padding='same'),\n",
    "    MaxPool2D(pool_size=(2, 2)),\n",
    "    Dropout(0.25),\n",
    "    \n",
    "    Flatten(),\n",
    "    Dense(256, activation='relu'),\n",
    "    Dropout(0.5),\n",
    "    \n",
    "    Dense(10, activation='softmax')\n",
    "])"
   ]
  },
  {
   "cell_type": "code",
   "execution_count": null,
   "metadata": {},
   "outputs": [],
   "source": [
    "cnn.summary()"
   ]
  },
  {
   "cell_type": "code",
   "execution_count": null,
   "metadata": {},
   "outputs": [],
   "source": [
    "cnn.compile(optimizer='rmsprop',\n",
    "           loss=keras.losses.categorical_crossentropy,\n",
    "           metrics=['accuracy'])"
   ]
  },
  {
   "cell_type": "markdown",
   "metadata": {},
   "source": [
    "## Train & Evaluate Model"
   ]
  },
  {
   "cell_type": "code",
   "execution_count": null,
   "metadata": {},
   "outputs": [],
   "source": [
    "history = cnn.fit(X_train_with_channels, y_train, \n",
    "                  validation_data=(X_test_with_channels, y_test), \n",
    "                  batch_size=batch_size, \n",
    "                  epochs=10)"
   ]
  },
  {
   "cell_type": "code",
   "execution_count": null,
   "metadata": {},
   "outputs": [],
   "source": [
    "plt.figure(figsize=[8,6])\n",
    "plt.plot(history.history['acc'],'r',linewidth=3.0)\n",
    "plt.plot(history.history['val_acc'],'b',linewidth=3.0)\n",
    "plt.legend(['Training Accuracy', 'Validation Accuracy'],fontsize=18)\n",
    "plt.xlabel('Epochs ',fontsize=16)\n",
    "plt.ylabel('Accuracy',fontsize=16)\n",
    "plt.title('Accuracy Curves',fontsize=16)"
   ]
  },
  {
   "cell_type": "code",
   "execution_count": null,
   "metadata": {},
   "outputs": [],
   "source": [
    "%%time\n",
    "\n",
    "from sklearn.metrics import confusion_matrix, classification_report\n",
    "\n",
    "predictions = cnn.predict(X_test_with_channels)\n",
    "predictions = predictions.argmax(axis=1)\n",
    "ground_truth = y_test.argmax(axis=1)\n",
    "\n",
    "print(confusion_matrix(ground_truth, predictions))\n",
    "print(classification_report(ground_truth, predictions))"
   ]
  },
  {
   "cell_type": "code",
   "execution_count": null,
   "metadata": {},
   "outputs": [],
   "source": [
    "nrows = 6\n",
    "ncols = 6\n",
    "ntotal = nrows * ncols\n",
    "i = 0\n",
    "\n",
    "fig, axes = plt.subplots(nrows, ncols)\n",
    "fig.set_size_inches(20, 16)\n",
    "\n",
    "predictions = cnn.predict_proba(X_test_with_channels[:ntotal])\n",
    "\n",
    "for row in range(nrows):\n",
    "    for col in range(ncols):\n",
    "        img = X_test[i]        \n",
    "        predicted_label = label_dict[predictions[i].argmax()]\n",
    "        probability = predictions[i].max() * 100\n",
    "        actual_label = label_dict[y_test[i].argmax()]\n",
    "        title_colour = 'green' if predicted_label == actual_label else 'red'\n",
    "\n",
    "        axis = axes[row, col]\n",
    "        axis.imshow(img, cmap='gray')\n",
    "        axis.get_xaxis().set_visible(False)\n",
    "        axis.get_yaxis().set_visible(False)\n",
    "        axis.set_title('{} {:.2f}% ({})'.format(predicted_label, probability, actual_label), color=title_colour)\n",
    "        \n",
    "        i += 1"
   ]
  }
 ],
 "metadata": {
  "accelerator": "GPU",
  "colab": {
   "name": "Fashion MNIST",
   "provenance": [],
   "version": "0.3.2"
  },
  "kernelspec": {
   "display_name": "Python [conda env:tensorflow]",
   "language": "python",
   "name": "conda-env-tensorflow-py"
  },
  "language_info": {
   "codemirror_mode": {
    "name": "ipython",
    "version": 3
   },
   "file_extension": ".py",
   "mimetype": "text/x-python",
   "name": "python",
   "nbconvert_exporter": "python",
   "pygments_lexer": "ipython3",
   "version": "3.6.6"
  }
 },
 "nbformat": 4,
 "nbformat_minor": 1
}
