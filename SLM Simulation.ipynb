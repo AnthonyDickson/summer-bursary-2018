{
 "cells": [
  {
   "cell_type": "markdown",
   "metadata": {},
   "source": [
    "# About\n",
    "In this notebook I will attempt to simulate matrix multiplication using spatial light modulators (SLM).\n",
    "\n",
    "## Data Representation\n",
    "Data is stored as some attribute of light (e.g. amplitude) so we will need some way of representing this in code."
   ]
  },
  {
   "cell_type": "code",
   "execution_count": 51,
   "metadata": {},
   "outputs": [],
   "source": [
    "import numpy as np\n",
    "import matplotlib.pyplot as plt"
   ]
  },
  {
   "cell_type": "code",
   "execution_count": 88,
   "metadata": {},
   "outputs": [],
   "source": [
    "class LightWave:\n",
    "    \"\"\"A 1-dimensional light wave.\"\"\"\n",
    "    velocity = 3e8  # speed of light\n",
    "    \n",
    "    def __init__(self, amplitude=1, center_amplitude=0, phase=0, frequency=1, period=None,\n",
    "                wavelength=None):\n",
    "        \"\"\"Initialise a light wave.\n",
    "        \n",
    "        Arguments:\n",
    "            amplitude: the maximum amplitude of the wave.\n",
    "            center_amplitude: offset on the y-axis.\n",
    "            phase: a real-valued number in the interval [0, 2pi] that \n",
    "                   represents the phase of the wave. \n",
    "            frequency: the frequency of the wave in Hz. Ignored if period\n",
    "                       or wavelength is set.\n",
    "            period: the period of the wave. Ignored if either frequency\n",
    "                    or wavelength are set.\n",
    "            wavelength: the wavelength in meters. Ignored if either\n",
    "                        frequency or period are set.\n",
    "        \"\"\"\n",
    "        self.amplitude = amplitude\n",
    "        self.phase = phase\n",
    "        \n",
    "        if wavelength is not None:\n",
    "            self.wavelength = wavelength\n",
    "            self.frequency = LightWave.velocity / wavelength\n",
    "            self.period = 1 / self.frequency\n",
    "        elif period is not None:\n",
    "            self.period = period\n",
    "            self.frequency = 1 / period\n",
    "            self.wavelength = LightWave.velocity / self.frequency\n",
    "        else:\n",
    "            self.frequency = frequency\n",
    "            self.period = 1 / frequency\n",
    "            self.wavelength = LightWave.velocity / frequency\n",
    "            \n",
    "        self.angular_frequency = 2 * np.pi * self.frequency\n",
    "        self.wavenumber = 2 * np.pi / self.wavelength\n",
    "        \n",
    "    def copy(self):\n",
    "        \"\"\"Create a copy of this wave.\"\"\"\n",
    "        return LightWave(self.amplitude, self.phase, self.frequency)\n",
    "        \n",
    "    def phase_shift(self, by):\n",
    "        \"\"\"Shift the phase of the wave by a given amount.\n",
    "        \n",
    "        Arguments:\n",
    "            by: a multiple of pi representing how much to shift the phase \n",
    "                by.\n",
    "                    \n",
    "        Returns: a new wave with its phase shifted. Phase is clipped into \n",
    "                 the interval [0, 2pi].\n",
    "        \"\"\"\n",
    "        result = self.copy()\n",
    "        result.phase = np.abs((result.phase + by) % (2 * np.pi))\n",
    "        \n",
    "        return result\n",
    "    \n",
    "    def modulated_amplitude(self, x=0, t=0):\n",
    "        \"\"\"Get the modulated amplitude.\n",
    "        \n",
    "        Arguments:\n",
    "            x: space coordinate.\n",
    "            t: time coordinate.\n",
    "        \n",
    "        Returns: the amplitude of the wave based on its current state.\n",
    "        \"\"\"\n",
    "        return self.amplitude * np.sin(self.wavenumber * x - \n",
    "                                       self.angular_frequency * t + \n",
    "                                       self.phase)"
   ]
  },
  {
   "cell_type": "code",
   "execution_count": 89,
   "metadata": {
    "scrolled": false
   },
   "outputs": [
    {
     "name": "stderr",
     "output_type": "stream",
     "text": [
      "....\n",
      "----------------------------------------------------------------------\n",
      "Ran 4 tests in 0.006s\n",
      "\n",
      "OK\n"
     ]
    },
    {
     "data": {
      "text/plain": [
       "<unittest.main.TestProgram at 0x7f868d2b1780>"
      ]
     },
     "execution_count": 89,
     "metadata": {},
     "output_type": "execute_result"
    }
   ],
   "source": [
    "import unittest\n",
    "\n",
    "class TestLightWave(unittest.TestCase):\n",
    "    def get_test_vars(self):\n",
    "        a = LightWave(frequency=3e8) # 300 MHz\n",
    "        b = LightWave(period=1/3e8) # 3 1/3 ns\n",
    "        c = LightWave(wavelength=1) # 1 meter\n",
    "        \n",
    "        return a, b, c\n",
    "    \n",
    "    def test_computed_frequency(self):\n",
    "        a, b, c = self.get_test_vars()\n",
    "        \n",
    "        self.assertEqual(a.frequency, b.frequency)\n",
    "        self.assertEqual(b.frequency, c.frequency)\n",
    "\n",
    "    def test_computed_period(self):\n",
    "        a, b, c = self.get_test_vars()\n",
    "        \n",
    "        self.assertEqual(a.period, b.period)\n",
    "        self.assertEqual(b.period, c.period)\n",
    "\n",
    "    def test_computed_wavelength(self):\n",
    "        a, b, c = self.get_test_vars()\n",
    "        \n",
    "        self.assertEqual(a.wavelength, b.wavelength)\n",
    "        self.assertEqual(b.wavelength, c.wavelength)\n",
    "        \n",
    "    def test_phase_shift(self):\n",
    "        a, _, _ = self.get_test_vars()        \n",
    "        a.phase = 0        \n",
    "        \n",
    "        b = a.phase_shift(by=-np.pi)        \n",
    "        self.assertEqual(b.phase, np.pi)\n",
    "        \n",
    "        b = a.phase_shift(by=np.pi)        \n",
    "        self.assertEqual(b.phase, np.pi)\n",
    "        \n",
    "        b = a.phase_shift(by=-3 * np.pi)\n",
    "        self.assertEqual(b.phase, np.pi)\n",
    "        \n",
    "        b = a.phase_shift(by=3 * np.pi)\n",
    "        self.assertEqual(b.phase, np.pi)\n",
    "            \n",
    "unittest.main(argv=['first-arg-is-ignored'], exit=False)"
   ]
  },
  {
   "cell_type": "code",
   "execution_count": 148,
   "metadata": {},
   "outputs": [
    {
     "data": {
      "text/plain": [
       "Text(0, 0.5, 'Amplitude')"
      ]
     },
     "execution_count": 148,
     "metadata": {},
     "output_type": "execute_result"
    },
    {
     "data": {
      "image/png": "[encoded data removed]",
      "text/plain": [
       "<Figure size 432x288 with 1 Axes>"
      ]
     },
     "metadata": {
      "needs_background": "light"
     },
     "output_type": "display_data"
    }
   ],
   "source": [
    "a = LightWave(frequency=3e8) # 300 MHz\n",
    "\n",
    "T = np.linspace(0, 1/3e8, 1001)\n",
    "plt.plot(T, [a.modulated_amplitude(t=t) for t in T])\n",
    "plt.xlabel('t (s)')\n",
    "plt.ylabel('Amplitude')"
   ]
  },
  {
   "cell_type": "code",
   "execution_count": 142,
   "metadata": {},
   "outputs": [
    {
     "data": {
      "text/plain": [
       "Text(0, 0.5, 'Amplitude')"
      ]
     },
     "execution_count": 142,
     "metadata": {},
     "output_type": "execute_result"
    },
    {
     "data": {
      "image/png": "[encoded data removed]",
      "text/plain": [
       "<Figure size 432x288 with 1 Axes>"
      ]
     },
     "metadata": {
      "needs_background": "light"
     },
     "output_type": "display_data"
    }
   ],
   "source": [
    "T = np.linspace(0, 1, 201)\n",
    "plt.plot(T, [a.modulated_amplitude(x=t) for t in T])\n",
    "plt.xlabel('x (m)')\n",
    "plt.ylabel('Amplitude')"
   ]
  },
  {
   "cell_type": "code",
   "execution_count": null,
   "metadata": {},
   "outputs": [],
   "source": []
  }
 ],
 "metadata": {
  "kernelspec": {
   "display_name": "Python [conda env:tensorflow]",
   "language": "python",
   "name": "conda-env-tensorflow-py"
  },
  "language_info": {
   "codemirror_mode": {
    "name": "ipython",
    "version": 3
   },
   "file_extension": ".py",
   "mimetype": "text/x-python",
   "name": "python",
   "nbconvert_exporter": "python",
   "pygments_lexer": "ipython3",
   "version": "3.6.6"
  }
 },
 "nbformat": 4,
 "nbformat_minor": 2
}
