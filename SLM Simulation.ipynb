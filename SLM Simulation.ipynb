{
 "cells": [
  {
   "cell_type": "markdown",
   "metadata": {},
   "source": [
    "# About\n",
    "In this notebook I will attempt to simulate matrix multiplication using spatial light modulators (SLM).\n",
    "\n",
    "## Data Representation\n",
    "Data is stored as some attribute of light (e.g. amplitude) so we will need some way of representing this in code."
   ]
  },
  {
   "cell_type": "code",
   "execution_count": 1,
   "metadata": {},
   "outputs": [],
   "source": [
    "import numpy as np\n",
    "import matplotlib.pyplot as plt"
   ]
  },
  {
   "cell_type": "code",
   "execution_count": 2,
   "metadata": {},
   "outputs": [],
   "source": [
    "class LightWave:\n",
    "    \"\"\"A 1-dimensional light wave.\"\"\"\n",
    "    velocity = 3e8  # speed of light\n",
    "    \n",
    "    def __init__(self, amplitude=1, center_amplitude=0, phase=0, frequency=1, period=None,\n",
    "                wavelength=None):\n",
    "        \"\"\"Initialise a light wave.\n",
    "        \n",
    "        Arguments:\n",
    "            amplitude: the maximum amplitude of the wave.\n",
    "            center_amplitude: offset on the y-axis.\n",
    "            phase: a real-valued number in the interval [0, 2pi] that \n",
    "                   represents the phase of the wave. \n",
    "            frequency: the frequency of the wave in Hz. Ignored if period\n",
    "                       or wavelength is set.\n",
    "            period: the period of the wave. Ignored if either frequency\n",
    "                    or wavelength are set.\n",
    "            wavelength: the wavelength in meters. Ignored if either\n",
    "                        frequency or period are set.\n",
    "        \"\"\"\n",
    "        self.amplitude = amplitude\n",
    "        self.phase = phase\n",
    "        \n",
    "        if wavelength is not None:\n",
    "            self.wavelength = wavelength\n",
    "            self.frequency = LightWave.velocity / wavelength\n",
    "            self.period = 1 / self.frequency\n",
    "        elif period is not None:\n",
    "            self.period = period\n",
    "            self.frequency = 1 / period\n",
    "            self.wavelength = LightWave.velocity / self.frequency\n",
    "        else:\n",
    "            self.frequency = frequency\n",
    "            self.period = 1 / frequency\n",
    "            self.wavelength = LightWave.velocity / frequency\n",
    "            \n",
    "        self.angular_frequency = 2 * np.pi * self.frequency\n",
    "        self.wavenumber = 2 * np.pi / self.wavelength\n",
    "        \n",
    "    def copy(self):\n",
    "        \"\"\"Create a copy of this wave.\"\"\"\n",
    "        return LightWave(self.amplitude, self.phase, self.frequency)\n",
    "        \n",
    "    def phase_shift(self, by):\n",
    "        \"\"\"Shift the phase of the wave by a given amount.\n",
    "        \n",
    "        Arguments:\n",
    "            by: a multiple of pi representing how much to shift the phase \n",
    "                by.\n",
    "                    \n",
    "        Returns: a new wave with its phase shifted. Phase is clipped into \n",
    "                 the interval [0, 2pi].\n",
    "        \"\"\"\n",
    "        result = self.copy()\n",
    "        result.phase = np.abs((result.phase + by) % (2 * np.pi))\n",
    "        \n",
    "        return result\n",
    "    \n",
    "    def modulated_amplitude(self, x=0, t=0):\n",
    "        \"\"\"Get the modulated amplitude.\n",
    "        \n",
    "        Arguments:\n",
    "            x: space coordinate.\n",
    "            t: time coordinate.\n",
    "        \n",
    "        Returns: the amplitude of the wave based on its current state.\n",
    "        \"\"\"\n",
    "        return self.amplitude * np.sin(self.wavenumber * x - \n",
    "                                       self.angular_frequency * t + \n",
    "                                       self.phase)"
   ]
  },
  {
   "cell_type": "code",
   "execution_count": 3,
   "metadata": {
    "scrolled": false
   },
   "outputs": [
    {
     "name": "stderr",
     "output_type": "stream",
     "text": [
      "...F\n",
      "======================================================================\n",
      "FAIL: test_phase_shift (__main__.TestLightWave)\n",
      "----------------------------------------------------------------------\n",
      "Traceback (most recent call last):\n",
      "  File \"<ipython-input-3-73027b088cd5>\", line 34, in test_phase_shift\n",
      "    self.assertEqual(b.phase, np.pi)\n",
      "AssertionError: 2.68649273379863 != 3.141592653589793\n",
      "\n",
      "----------------------------------------------------------------------\n",
      "Ran 4 tests in 0.005s\n",
      "\n",
      "FAILED (failures=1)\n"
     ]
    },
    {
     "data": {
      "text/plain": [
       "<unittest.main.TestProgram at 0x7f35ecb32278>"
      ]
     },
     "execution_count": 3,
     "metadata": {},
     "output_type": "execute_result"
    }
   ],
   "source": [
    "import unittest\n",
    "\n",
    "class TestLightWave(unittest.TestCase):\n",
    "    def get_test_vars(self):\n",
    "        a = LightWave(frequency=3e8) # 300 MHz\n",
    "        b = LightWave(period=1/3e8) # 3 1/3 ns\n",
    "        c = LightWave(wavelength=1) # 1 meter\n",
    "        \n",
    "        return a, b, c\n",
    "    \n",
    "    def test_computed_frequency(self):\n",
    "        a, b, c = self.get_test_vars()\n",
    "        \n",
    "        self.assertEqual(a.frequency, b.frequency)\n",
    "        self.assertEqual(b.frequency, c.frequency)\n",
    "\n",
    "    def test_computed_period(self):\n",
    "        a, b, c = self.get_test_vars()\n",
    "        \n",
    "        self.assertEqual(a.period, b.period)\n",
    "        self.assertEqual(b.period, c.period)\n",
    "\n",
    "    def test_computed_wavelength(self):\n",
    "        a, b, c = self.get_test_vars()\n",
    "        \n",
    "        self.assertEqual(a.wavelength, b.wavelength)\n",
    "        self.assertEqual(b.wavelength, c.wavelength)\n",
    "        \n",
    "    def test_phase_shift(self):\n",
    "        a, _, _ = self.get_test_vars()        \n",
    "        a.phase = 0        \n",
    "        \n",
    "        b = a.phase_shift(by=-np.pi)        \n",
    "        self.assertEqual(b.phase, np.pi)\n",
    "        \n",
    "        b = a.phase_shift(by=np.pi)        \n",
    "        self.assertEqual(b.phase, np.pi)\n",
    "        \n",
    "        b = a.phase_shift(by=-3 * np.pi)\n",
    "        self.assertEqual(b.phase, np.pi)\n",
    "        \n",
    "        b = a.phase_shift(by=3 * np.pi)\n",
    "        self.assertEqual(b.phase, np.pi)\n",
    "            \n",
    "unittest.main(argv=['first-arg-is-ignored'], exit=False)"
   ]
  },
  {
   "cell_type": "code",
   "execution_count": 4,
   "metadata": {},
   "outputs": [
    {
     "data": {
      "text/plain": [
       "Text(0, 0.5, 'Amplitude')"
      ]
     },
     "execution_count": 4,
     "metadata": {},
     "output_type": "execute_result"
    },
    {
     "data": {
      "image/png": "[encoded data removed]",
      "text/plain": [
       "<Figure size 432x288 with 1 Axes>"
      ]
     },
     "metadata": {
      "needs_background": "light"
     },
     "output_type": "display_data"
    }
   ],
   "source": [
    "a = LightWave(frequency=3e8) # 300 MHz\n",
    "\n",
    "T = np.linspace(0, 1/3e8, 1001)\n",
    "plt.plot(T, [a.modulated_amplitude(t=t) for t in T])\n",
    "plt.xlabel('t (s)')\n",
    "plt.ylabel('Amplitude')"
   ]
  },
  {
   "cell_type": "code",
   "execution_count": 5,
   "metadata": {},
   "outputs": [
    {
     "data": {
      "text/plain": [
       "Text(0, 0.5, 'Amplitude')"
      ]
     },
     "execution_count": 5,
     "metadata": {},
     "output_type": "execute_result"
    },
    {
     "data": {
      "image/png": "[encoded data removed]",
      "text/plain": [
       "<Figure size 432x288 with 1 Axes>"
      ]
     },
     "metadata": {
      "needs_background": "light"
     },
     "output_type": "display_data"
    }
   ],
   "source": [
    "T = np.linspace(0, 1, 201)\n",
    "plt.plot(T, [a.modulated_amplitude(x=t) for t in T])\n",
    "plt.xlabel('x (m)')\n",
    "plt.ylabel('Amplitude')"
   ]
  },
  {
   "cell_type": "markdown",
   "metadata": {},
   "source": [
    "## Matrix Encoding\n",
    "There are multiple possible ways of encoding a matrix as light. Some methods that come to mind are:\n",
    "1. normalising the input space to [0, 1] then scale so that the new range of values lies in the interval $[0, 2\\pi]$ in the case of phase modulation, or scale and shift to the interval $[-minifloat.max, minifloat.max]$ in the case of amplitude modulation.\n",
    "2. squishing the input with a tanh activation function and scaling by $\\frac{minifloat.max}{2}$ for amplitude modulation\n",
    "3. squishing the input with a sigmoid activation function and scaling by $2\\pi$ for phase modulation\n",
    "4. standardising the data such that X~N(0, 1) for amplitude modulation\n",
    "5. similar to above except X~N($\\pi$, $\\frac{\\pi}{3}$)"
   ]
  },
  {
   "cell_type": "markdown",
   "metadata": {},
   "source": [
    "### Normalisation"
   ]
  },
  {
   "cell_type": "code",
   "execution_count": null,
   "metadata": {},
   "outputs": [],
   "source": [
    "class Normaliser"
   ]
  },
  {
   "cell_type": "markdown",
   "metadata": {},
   "source": [
    "### Basic Encoding/Decoding"
   ]
  },
  {
   "cell_type": "code",
   "execution_count": 6,
   "metadata": {},
   "outputs": [],
   "source": [
    "import pandas as pd\n",
    "\n",
    "x = np.random.normal(0, 1, (128, 128))\n",
    "w = np.random.normal(0, 1, (128, 128))"
   ]
  },
  {
   "cell_type": "code",
   "execution_count": 7,
   "metadata": {},
   "outputs": [],
   "source": [
    "def encode(x):\n",
    "    assert len(x.shape) == 2\n",
    "    \n",
    "    y = []\n",
    "    m, n = x.shape\n",
    "    red_laser_wavelength = 6.71e-7\n",
    "    \n",
    "    for row in range(m):\n",
    "        y.append([])\n",
    "        \n",
    "        for col in range(n):\n",
    "            cell_value = LightWave(amplitude=x[row, col], wavelength=red_laser_wavelength)\n",
    "            y[row].append(cell_value)\n",
    "            \n",
    "    return y\n",
    "            "
   ]
  },
  {
   "cell_type": "code",
   "execution_count": 8,
   "metadata": {},
   "outputs": [],
   "source": [
    "x_light = encode(x)"
   ]
  },
  {
   "cell_type": "code",
   "execution_count": 9,
   "metadata": {},
   "outputs": [
    {
     "data": {
      "text/plain": [
       "Text(0, 0.5, 'Amplitude')"
      ]
     },
     "execution_count": 9,
     "metadata": {},
     "output_type": "execute_result"
    },
    {
     "data": {
      "image/png": "[encoded data removed]",
      "text/plain": [
       "<Figure size 432x288 with 1 Axes>"
      ]
     },
     "metadata": {
      "needs_background": "light"
     },
     "output_type": "display_data"
    }
   ],
   "source": [
    "dist = np.linspace(0, 1e-6, 201)\n",
    "plt.plot(dist, [x_light[0][0].modulated_amplitude(x=x) for x in dist])\n",
    "plt.xlabel('x (m)')\n",
    "plt.ylabel('Amplitude')"
   ]
  },
  {
   "cell_type": "code",
   "execution_count": 10,
   "metadata": {},
   "outputs": [],
   "source": [
    "def decode(x):\n",
    "    x = np.array(x)\n",
    "    assert len(x.shape) == 2\n",
    "    \n",
    "    y = []\n",
    "    m, n = x.shape\n",
    "    \n",
    "    for row in range(m):\n",
    "        y.append([])\n",
    "        \n",
    "        for col in range(n):\n",
    "            cell_value = x[row, col].amplitude\n",
    "            y[row].append(cell_value)\n",
    "            \n",
    "    return y"
   ]
  },
  {
   "cell_type": "code",
   "execution_count": 11,
   "metadata": {},
   "outputs": [],
   "source": [
    "assert np.array_equal(decode(x_light), x)"
   ]
  },
  {
   "cell_type": "code",
   "execution_count": 18,
   "metadata": {},
   "outputs": [],
   "source": [
    "class Coder:\n",
    "    def __init__(self, strategy: Strategy):\n",
    "        self.strategy = strategy\n",
    "        \n",
    "    def encode(self, a: np.array):\n",
    "        assert len(a.shape) == 2\n",
    "    \n",
    "        encoded = []\n",
    "        m, n = a.shape\n",
    "\n",
    "        for row in range(m):\n",
    "            encoded.append([])\n",
    "\n",
    "            for col in range(n):\n",
    "                cell_value = self.strategy.encode(a[row, col])\n",
    "                encoded[row].append(cell_value)\n",
    "\n",
    "        return np.array(encoded)\n",
    "        \n",
    "    def decode(self, a: np.array):\n",
    "        assert len(a.shape) == 2\n",
    "    \n",
    "        decoded = []\n",
    "        m, n = a.shape\n",
    "\n",
    "        for row in range(m):\n",
    "            decoded.append([])\n",
    "\n",
    "            for col in range(n):\n",
    "                cell_value = self.strategy.decode(a[row, col])\n",
    "                decoded[row].append(cell_value)\n",
    "\n",
    "        return np.array(decoded)\n",
    "    \n",
    "    \n",
    "class Strategy: \n",
    "    def __init__(self, wavelength=6.71e-7):\n",
    "        \"\"\"constructor.\n",
    "        \n",
    "        Arguments:\n",
    "            wavelength: the wavelength of the light wave. Defaults to the wavelength of a generic red laser.\n",
    "        \"\"\"\n",
    "        self.wavelength = wavelength\n",
    "        \n",
    "    def encode(self, x):\n",
    "        return x\n",
    "    \n",
    "    def decode(self, x):\n",
    "        return x\n",
    "    \n",
    "class AmplitudeEncoding(Strategy):    \n",
    "    def encode(self, x):\n",
    "        return LightWave(amplitude=x, wavelength=self.wavelength)\n",
    "    \n",
    "    def decode(self, x):\n",
    "        return x.amplitude\n",
    "    \n",
    "class PhaseEncoding(Strategy):\n",
    "    def encode(self, x):\n",
    "        return LightWave(phase=x, wavelength=self.wavelength)\n",
    "    \n",
    "    def decode(self, x):\n",
    "        return x.phase"
   ]
  },
  {
   "cell_type": "code",
   "execution_count": 16,
   "metadata": {},
   "outputs": [],
   "source": [
    "coder = Coder(strategy=AmplitudeEncoding())\n",
    "\n",
    "assert np.array_equal(coder.decode(coder.encode(x)), x)"
   ]
  },
  {
   "cell_type": "code",
   "execution_count": 19,
   "metadata": {},
   "outputs": [],
   "source": [
    "coder = Coder(strategy=PhaseEncoding())\n",
    "\n",
    "assert np.array_equal(coder.decode(coder.encode(x)), x)"
   ]
  }
 ],
 "metadata": {
  "kernelspec": {
   "display_name": "Python [conda env:tensorflow]",
   "language": "python",
   "name": "conda-env-tensorflow-py"
  },
  "language_info": {
   "codemirror_mode": {
    "name": "ipython",
    "version": 3
   },
   "file_extension": ".py",
   "mimetype": "text/x-python",
   "name": "python",
   "nbconvert_exporter": "python",
   "pygments_lexer": "ipython3",
   "version": "3.6.6"
  }
 },
 "nbformat": 4,
 "nbformat_minor": 2
}
