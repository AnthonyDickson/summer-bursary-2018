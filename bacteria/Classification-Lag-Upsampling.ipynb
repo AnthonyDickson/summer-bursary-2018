{
 "cells": [
  {
   "cell_type": "markdown",
   "metadata": {},
   "source": [
    "Classification of the bacteria data using three different classifiers:\n",
    "1. SVM\n",
    "2. RandomForest with decision stumps\n",
    "3. AdaBoost with decision stumps.\n",
    "\n",
    "The data is each replicate of each species along the rows, and the fluorescense spectra readings at the lag growth phase along the columns. \n",
    "\n",
    "A synthetic training dataset is created while the model is tested on the original dataset. The synthesised dataset is created from the original dataset by sampling with replacement from each class and adding some gaussian noise. This is done such that each class is equally represented in the training dataset, and that no exact copies of the original data points appear in the training dataset."
   ]
  },
  {
   "cell_type": "code",
   "execution_count": 1,
   "metadata": {},
   "outputs": [],
   "source": [
    "import os\n",
    "\n",
    "import numpy as np\n",
    "import pandas as pd"
   ]
  },
  {
   "cell_type": "code",
   "execution_count": 2,
   "metadata": {},
   "outputs": [
    {
     "data": {
      "text/plain": [
       "'/home/anthony/summer-bursary-2018/bacteria'"
      ]
     },
     "execution_count": 2,
     "metadata": {},
     "output_type": "execute_result"
    }
   ],
   "source": [
    "os.getcwd()"
   ]
  },
  {
   "cell_type": "code",
   "execution_count": 3,
   "metadata": {
    "scrolled": true
   },
   "outputs": [
    {
     "data": {
      "text/plain": [
       "['Classific.py',\n",
       " 'graphs.pdf',\n",
       " 'growth_stages.csv',\n",
       " '16ms_32ms_growth_phase_spectra.csv',\n",
       " 'PC6allwavelengths.png',\n",
       " 'wavelengths.csv',\n",
       " '16_ms_lag_codes.csv',\n",
       " 'bacteria.csv']"
      ]
     },
     "execution_count": 3,
     "metadata": {},
     "output_type": "execute_result"
    }
   ],
   "source": [
    "os.listdir('data')"
   ]
  },
  {
   "cell_type": "code",
   "execution_count": 4,
   "metadata": {},
   "outputs": [
    {
     "name": "stdout",
     "output_type": "stream",
     "text": [
      "<class 'pandas.core.frame.DataFrame'>\n",
      "Int64Index: 1043 entries, 0 to 1042\n",
      "Columns: 135 entries, (lag, bc, 01) to (stat, se, 07)\n",
      "dtypes: float64(135)\n",
      "memory usage: 1.1 MB\n"
     ]
    }
   ],
   "source": [
    "df = pd.read_csv('data/bacteria.csv', header=[0, 1, 2], index_col=0)\n",
    "df.info()"
   ]
  },
  {
   "cell_type": "markdown",
   "metadata": {},
   "source": [
    "# Preprocessing"
   ]
  },
  {
   "cell_type": "code",
   "execution_count": 5,
   "metadata": {
    "scrolled": true
   },
   "outputs": [
    {
     "data": {
      "text/html": [
       "<div>\n",
       "<style scoped>\n",
       "    .dataframe tbody tr th:only-of-type {\n",
       "        vertical-align: middle;\n",
       "    }\n",
       "\n",
       "    .dataframe tbody tr th {\n",
       "        vertical-align: top;\n",
       "    }\n",
       "\n",
       "    .dataframe thead th {\n",
       "        text-align: right;\n",
       "    }\n",
       "</style>\n",
       "<table border=\"1\" class=\"dataframe\">\n",
       "  <thead>\n",
       "    <tr style=\"text-align: right;\">\n",
       "      <th></th>\n",
       "      <th></th>\n",
       "      <th>lag_0</th>\n",
       "      <th>lag_1</th>\n",
       "      <th>lag_2</th>\n",
       "      <th>lag_3</th>\n",
       "      <th>lag_4</th>\n",
       "      <th>lag_5</th>\n",
       "      <th>lag_6</th>\n",
       "      <th>lag_7</th>\n",
       "      <th>lag_8</th>\n",
       "      <th>lag_9</th>\n",
       "      <th>...</th>\n",
       "      <th>lag_1033</th>\n",
       "      <th>lag_1034</th>\n",
       "      <th>lag_1035</th>\n",
       "      <th>lag_1036</th>\n",
       "      <th>lag_1037</th>\n",
       "      <th>lag_1038</th>\n",
       "      <th>lag_1039</th>\n",
       "      <th>lag_1040</th>\n",
       "      <th>lag_1041</th>\n",
       "      <th>lag_1042</th>\n",
       "    </tr>\n",
       "    <tr>\n",
       "      <th>species</th>\n",
       "      <th>replicate</th>\n",
       "      <th></th>\n",
       "      <th></th>\n",
       "      <th></th>\n",
       "      <th></th>\n",
       "      <th></th>\n",
       "      <th></th>\n",
       "      <th></th>\n",
       "      <th></th>\n",
       "      <th></th>\n",
       "      <th></th>\n",
       "      <th></th>\n",
       "      <th></th>\n",
       "      <th></th>\n",
       "      <th></th>\n",
       "      <th></th>\n",
       "      <th></th>\n",
       "      <th></th>\n",
       "      <th></th>\n",
       "      <th></th>\n",
       "      <th></th>\n",
       "      <th></th>\n",
       "    </tr>\n",
       "  </thead>\n",
       "  <tbody>\n",
       "    <tr>\n",
       "      <th rowspan=\"5\" valign=\"top\">bc</th>\n",
       "      <th>01</th>\n",
       "      <td>0.000000</td>\n",
       "      <td>1.560060</td>\n",
       "      <td>0.715025</td>\n",
       "      <td>-0.520060</td>\n",
       "      <td>0.130014</td>\n",
       "      <td>-2.080180</td>\n",
       "      <td>0.000000e+00</td>\n",
       "      <td>1.040112</td>\n",
       "      <td>1.235136</td>\n",
       "      <td>-0.195020</td>\n",
       "      <td>...</td>\n",
       "      <td>1.170374</td>\n",
       "      <td>2.730861</td>\n",
       "      <td>3.835922</td>\n",
       "      <td>1.755222</td>\n",
       "      <td>1.235332</td>\n",
       "      <td>4.355984</td>\n",
       "      <td>0.520024</td>\n",
       "      <td>0.715032</td>\n",
       "      <td>-0.325010</td>\n",
       "      <td>-0.520030</td>\n",
       "    </tr>\n",
       "    <tr>\n",
       "      <th>02</th>\n",
       "      <td>0.622353</td>\n",
       "      <td>-2.115990</td>\n",
       "      <td>0.062234</td>\n",
       "      <td>2.178335</td>\n",
       "      <td>1.867163</td>\n",
       "      <td>1.120305</td>\n",
       "      <td>8.713430e-01</td>\n",
       "      <td>-1.369260</td>\n",
       "      <td>-1.929420</td>\n",
       "      <td>0.684622</td>\n",
       "      <td>...</td>\n",
       "      <td>-0.373450</td>\n",
       "      <td>-0.187040</td>\n",
       "      <td>-2.302970</td>\n",
       "      <td>0.124451</td>\n",
       "      <td>0.809098</td>\n",
       "      <td>1.058059</td>\n",
       "      <td>2.676111</td>\n",
       "      <td>0.622357</td>\n",
       "      <td>0.560118</td>\n",
       "      <td>-0.435650</td>\n",
       "    </tr>\n",
       "    <tr>\n",
       "      <th>03</th>\n",
       "      <td>0.064528</td>\n",
       "      <td>0.645279</td>\n",
       "      <td>-1.032450</td>\n",
       "      <td>-2.064991</td>\n",
       "      <td>-1.419711</td>\n",
       "      <td>1.032515</td>\n",
       "      <td>-2.000491e+00</td>\n",
       "      <td>-0.903453</td>\n",
       "      <td>2.968462</td>\n",
       "      <td>1.032499</td>\n",
       "      <td>...</td>\n",
       "      <td>3.097847</td>\n",
       "      <td>4.775991</td>\n",
       "      <td>4.775919</td>\n",
       "      <td>4.259427</td>\n",
       "      <td>2.129823</td>\n",
       "      <td>0.064477</td>\n",
       "      <td>-2.516599</td>\n",
       "      <td>0.516229</td>\n",
       "      <td>-0.903391</td>\n",
       "      <td>1.096991</td>\n",
       "    </tr>\n",
       "    <tr>\n",
       "      <th>04</th>\n",
       "      <td>-1.094650</td>\n",
       "      <td>-2.554170</td>\n",
       "      <td>-0.912210</td>\n",
       "      <td>0.851433</td>\n",
       "      <td>3.709871</td>\n",
       "      <td>1.520432</td>\n",
       "      <td>8.514440e-01</td>\n",
       "      <td>-2.067810</td>\n",
       "      <td>-1.581270</td>\n",
       "      <td>0.304085</td>\n",
       "      <td>...</td>\n",
       "      <td>4.257782</td>\n",
       "      <td>3.284733</td>\n",
       "      <td>0.851676</td>\n",
       "      <td>2.493739</td>\n",
       "      <td>3.467134</td>\n",
       "      <td>5.900169</td>\n",
       "      <td>1.520354</td>\n",
       "      <td>2.067671</td>\n",
       "      <td>0.121629</td>\n",
       "      <td>1.094670</td>\n",
       "    </tr>\n",
       "    <tr>\n",
       "      <th>05</th>\n",
       "      <td>-1.492810</td>\n",
       "      <td>-0.559800</td>\n",
       "      <td>2.923387</td>\n",
       "      <td>3.047967</td>\n",
       "      <td>2.985793</td>\n",
       "      <td>2.985763</td>\n",
       "      <td>-3.590000e-07</td>\n",
       "      <td>-0.995270</td>\n",
       "      <td>-0.933060</td>\n",
       "      <td>-1.990480</td>\n",
       "      <td>...</td>\n",
       "      <td>4.479034</td>\n",
       "      <td>2.488391</td>\n",
       "      <td>3.546049</td>\n",
       "      <td>1.057399</td>\n",
       "      <td>3.981489</td>\n",
       "      <td>6.469838</td>\n",
       "      <td>-0.933000</td>\n",
       "      <td>0.062199</td>\n",
       "      <td>-0.435400</td>\n",
       "      <td>1.430629</td>\n",
       "    </tr>\n",
       "  </tbody>\n",
       "</table>\n",
       "<p>5 rows × 1043 columns</p>\n",
       "</div>"
      ],
      "text/plain": [
       "                      lag_0     lag_1     lag_2     lag_3     lag_4     lag_5  \\\n",
       "species replicate                                                               \n",
       "bc      01         0.000000  1.560060  0.715025 -0.520060  0.130014 -2.080180   \n",
       "        02         0.622353 -2.115990  0.062234  2.178335  1.867163  1.120305   \n",
       "        03         0.064528  0.645279 -1.032450 -2.064991 -1.419711  1.032515   \n",
       "        04        -1.094650 -2.554170 -0.912210  0.851433  3.709871  1.520432   \n",
       "        05        -1.492810 -0.559800  2.923387  3.047967  2.985793  2.985763   \n",
       "\n",
       "                          lag_6     lag_7     lag_8     lag_9    ...     \\\n",
       "species replicate                                                ...      \n",
       "bc      01         0.000000e+00  1.040112  1.235136 -0.195020    ...      \n",
       "        02         8.713430e-01 -1.369260 -1.929420  0.684622    ...      \n",
       "        03        -2.000491e+00 -0.903453  2.968462  1.032499    ...      \n",
       "        04         8.514440e-01 -2.067810 -1.581270  0.304085    ...      \n",
       "        05        -3.590000e-07 -0.995270 -0.933060 -1.990480    ...      \n",
       "\n",
       "                   lag_1033  lag_1034  lag_1035  lag_1036  lag_1037  lag_1038  \\\n",
       "species replicate                                                               \n",
       "bc      01         1.170374  2.730861  3.835922  1.755222  1.235332  4.355984   \n",
       "        02        -0.373450 -0.187040 -2.302970  0.124451  0.809098  1.058059   \n",
       "        03         3.097847  4.775991  4.775919  4.259427  2.129823  0.064477   \n",
       "        04         4.257782  3.284733  0.851676  2.493739  3.467134  5.900169   \n",
       "        05         4.479034  2.488391  3.546049  1.057399  3.981489  6.469838   \n",
       "\n",
       "                   lag_1039  lag_1040  lag_1041  lag_1042  \n",
       "species replicate                                          \n",
       "bc      01         0.520024  0.715032 -0.325010 -0.520030  \n",
       "        02         2.676111  0.622357  0.560118 -0.435650  \n",
       "        03        -2.516599  0.516229 -0.903391  1.096991  \n",
       "        04         1.520354  2.067671  0.121629  1.094670  \n",
       "        05        -0.933000  0.062199 -0.435400  1.430629  \n",
       "\n",
       "[5 rows x 1043 columns]"
      ]
     },
     "execution_count": 5,
     "metadata": {},
     "output_type": "execute_result"
    }
   ],
   "source": [
    "lag = df['lag'].T\n",
    "lag = lag.add_prefix('lag_')\n",
    "lag.head()"
   ]
  },
  {
   "cell_type": "code",
   "execution_count": 6,
   "metadata": {},
   "outputs": [
    {
     "name": "stdout",
     "output_type": "stream",
     "text": [
      "0.0 1.0 0.10412849167759197 0.1759401930906604\n"
     ]
    }
   ],
   "source": [
    "X = lag.values\n",
    "X = (X - X.min()) / (X.max() - X.min())\n",
    "\n",
    "print(X.min(), X.max(), X.mean(), X.std())"
   ]
  },
  {
   "cell_type": "code",
   "execution_count": 7,
   "metadata": {},
   "outputs": [
    {
     "name": "stdout",
     "output_type": "stream",
     "text": [
      "['bc' 'bc' 'bc' 'bc' 'bc']\n"
     ]
    }
   ],
   "source": [
    "y = lag.reset_index()['species']\n",
    "y = y.values\n",
    "print(y[0:5])"
   ]
  },
  {
   "cell_type": "code",
   "execution_count": 8,
   "metadata": {},
   "outputs": [
    {
     "name": "stdout",
     "output_type": "stream",
     "text": [
      "[[0.00439115 0.00453494 0.00462343 ... 0.00454601 0.00439115 0.00462343]\n",
      " [0.00433107 0.00457004 0.00429693 ... 0.00431969 0.00450176 0.004479  ]\n",
      " [0.00432043 0.00449043 0.00459243 ... 0.00460376 0.00458109 0.00486442]\n",
      " [0.00444556 0.00443432 0.00426571 ... 0.00462541 0.00424323 0.004513  ]\n",
      " [0.0045279  0.00441028 0.00489382 ... 0.00468473 0.00450176 0.004737  ]]\n",
      "['ec' 'sa' 'bc' 'sa' 'sa']\n"
     ]
    }
   ],
   "source": [
    "from sklearn.utils import shuffle\n",
    "\n",
    "X, y = shuffle(X, y)\n",
    "\n",
    "print(X[:5])\n",
    "print(y[:5])"
   ]
  },
  {
   "cell_type": "code",
   "execution_count": 9,
   "metadata": {},
   "outputs": [
    {
     "data": {
      "image/png": "[encoded data removed]",
      "text/plain": [
       "<Figure size 432x288 with 1 Axes>"
      ]
     },
     "metadata": {
      "needs_background": "light"
     },
     "output_type": "display_data"
    }
   ],
   "source": [
    "%matplotlib inline\n",
    "\n",
    "ax = pd.Series(y).value_counts().sort_index().plot(kind='bar')\n",
    "ax.set(xlabel='Label',\n",
    "      ylabel='Count',\n",
    "      title='Distribution of Labels in Original Dataset');"
   ]
  },
  {
   "cell_type": "code",
   "execution_count": 10,
   "metadata": {},
   "outputs": [
    {
     "name": "stdout",
     "output_type": "stream",
     "text": [
      "(42, 1043) (42,)\n"
     ]
    },
    {
     "data": {
      "image/png": "[encoded data removed]",
      "text/plain": [
       "<Figure size 432x288 with 1 Axes>"
      ]
     },
     "metadata": {
      "needs_background": "light"
     },
     "output_type": "display_data"
    }
   ],
   "source": [
    "from sklearn.model_selection import train_test_split\n",
    "from imblearn.over_sampling import SMOTE\n",
    "\n",
    "RANDOM_STATE = 42\n",
    "\n",
    "X_train, X_test, y_train, y_test = train_test_split(X, y, stratify=y, test_size=0.4, random_state=RANDOM_STATE)\n",
    "\n",
    "smote = SMOTE(sampling_strategy='auto', random_state=RANDOM_STATE, k_neighbors=2)\n",
    "X_train, y_train = smote.fit_resample(X_train, y_train)\n",
    "\n",
    "print(X_train.shape, y_train.shape)\n",
    "\n",
    "ax = pd.Series(y_train).value_counts().sort_index().plot(kind='bar')\n",
    "ax.set(xlabel='Label',\n",
    "      ylabel='Count',\n",
    "      title='Distribution of Labels in Resampled Training Set');"
   ]
  },
  {
   "cell_type": "code",
   "execution_count": 11,
   "metadata": {},
   "outputs": [
    {
     "data": {
      "image/png": "[encoded data removed]",
      "text/plain": [
       "<Figure size 432x288 with 1 Axes>"
      ]
     },
     "metadata": {
      "needs_background": "light"
     },
     "output_type": "display_data"
    }
   ],
   "source": [
    "ax = pd.Series(y_test).value_counts().sort_index().plot(kind='bar')\n",
    "ax.set(xlabel='Label',\n",
    "      ylabel='Count',\n",
    "      title='Distribution of Labels in Test Set');"
   ]
  },
  {
   "cell_type": "markdown",
   "metadata": {},
   "source": [
    "# PCA + SVM"
   ]
  },
  {
   "cell_type": "code",
   "execution_count": 12,
   "metadata": {},
   "outputs": [
    {
     "name": "stdout",
     "output_type": "stream",
     "text": [
      "(42, 2)\n"
     ]
    }
   ],
   "source": [
    "from sklearn.decomposition import PCA\n",
    "\n",
    "pca = PCA(n_components=0.99, svd_solver='full')\n",
    "pca.fit(X_train)\n",
    "\n",
    "X_pca = pca.transform(X_train)\n",
    "\n",
    "print(X_pca.shape)"
   ]
  },
  {
   "cell_type": "code",
   "execution_count": 13,
   "metadata": {},
   "outputs": [
    {
     "name": "stdout",
     "output_type": "stream",
     "text": [
      "Fitting 3 folds for each of 220 candidates, totalling 660 fits\n"
     ]
    },
    {
     "name": "stderr",
     "output_type": "stream",
     "text": [
      "[Parallel(n_jobs=4)]: Using backend LokyBackend with 4 concurrent workers.\n",
      "[Parallel(n_jobs=4)]: Done   5 tasks      | elapsed:    0.7s\n",
      "[Parallel(n_jobs=4)]: Done  10 tasks      | elapsed:    0.8s\n",
      "[Parallel(n_jobs=4)]: Batch computation too fast (0.1854s.) Setting batch_size=2.\n",
      "[Parallel(n_jobs=4)]: Done  18 tasks      | elapsed:    0.8s\n",
      "[Parallel(n_jobs=4)]: Batch computation too fast (0.0231s.) Setting batch_size=34.\n",
      "[Parallel(n_jobs=4)]: Done  30 tasks      | elapsed:    0.9s\n",
      "[Parallel(n_jobs=4)]: Batch computation too fast (0.1066s.) Setting batch_size=126.\n"
     ]
    },
    {
     "name": "stdout",
     "output_type": "stream",
     "text": [
      "0.5952380952380952\n",
      "{'C': 10, 'gamma': 1, 'kernel': 'rbf'}\n"
     ]
    },
    {
     "name": "stderr",
     "output_type": "stream",
     "text": [
      "[Parallel(n_jobs=4)]: Done 660 out of 660 | elapsed:    1.3s finished\n",
      "/home/anthony/miniconda3/lib/python3.7/site-packages/sklearn/model_selection/_search.py:841: DeprecationWarning: The default of the `iid` parameter will change from True to False in version 0.22 and will be removed in 0.24. This will change numeric results when test-set sizes are unequal.\n",
      "  DeprecationWarning)\n"
     ]
    }
   ],
   "source": [
    "from sklearn.svm import SVC\n",
    "from sklearn.model_selection import RepeatedStratifiedKFold, StratifiedKFold, cross_val_score, GridSearchCV\n",
    "\n",
    "param_grid = {\n",
    "    'kernel': ['linear', 'rbf'],\n",
    "    'gamma': [10 ** -n for n in range(10)],\n",
    "    'C': [10 ** n for n in range(-9, 2)]\n",
    "}\n",
    "\n",
    "cv = StratifiedKFold(n_splits=3)\n",
    "clf = SVC()\n",
    "\n",
    "grid_search = GridSearchCV(clf, param_grid, cv=cv, verbose=10, n_jobs=4)\n",
    "grid_search.fit(X_pca, y_train)\n",
    "\n",
    "print(grid_search.best_score_)\n",
    "print(grid_search.best_params_)"
   ]
  },
  {
   "cell_type": "code",
   "execution_count": 14,
   "metadata": {},
   "outputs": [
    {
     "name": "stdout",
     "output_type": "stream",
     "text": [
      "Accuracy: 0.51 (+/- 0.19)\n",
      "CPU times: user 114 ms, sys: 3.95 ms, total: 118 ms\n",
      "Wall time: 118 ms\n"
     ]
    }
   ],
   "source": [
    "%%time\n",
    "\n",
    "cv = RepeatedStratifiedKFold(n_splits=3, n_repeats=20)\n",
    "scores = cross_val_score(grid_search.best_estimator_, X_pca, y_train, cv=cv)\n",
    "print(\"Accuracy: %0.2f (+/- %0.2f)\" % (scores.mean(), scores.std() * 2))"
   ]
  },
  {
   "cell_type": "code",
   "execution_count": 15,
   "metadata": {},
   "outputs": [
    {
     "name": "stdout",
     "output_type": "stream",
     "text": [
      "Accuracy: 0.55 (+/- 0.26)\n",
      "CPU times: user 261 ms, sys: 429 µs, total: 261 ms\n",
      "Wall time: 261 ms\n"
     ]
    }
   ],
   "source": [
    "%%time\n",
    "\n",
    "cv = RepeatedStratifiedKFold(n_splits=3, n_repeats=20)\n",
    "scores = cross_val_score(grid_search.best_estimator_, X_train, y_train, cv=cv)\n",
    "print(\"Accuracy: %0.2f (+/- %0.2f)\" % (scores.mean(), scores.std() * 2))"
   ]
  },
  {
   "cell_type": "markdown",
   "metadata": {},
   "source": [
    "# Random Forest with Decision Stumps"
   ]
  },
  {
   "cell_type": "code",
   "execution_count": 16,
   "metadata": {},
   "outputs": [
    {
     "name": "stdout",
     "output_type": "stream",
     "text": [
      "Accuracy: 0.47 (+/- 0.19)\n",
      "CPU times: user 46.9 s, sys: 55.4 ms, total: 47 s\n",
      "Wall time: 47 s\n"
     ]
    }
   ],
   "source": [
    "%%time\n",
    "\n",
    "from sklearn.ensemble import RandomForestClassifier\n",
    "\n",
    "clf = RandomForestClassifier(n_estimators=1024, max_depth=1, random_state=RANDOM_STATE)\n",
    "cv = RepeatedStratifiedKFold(n_splits=3, n_repeats=20)\n",
    "scores = cross_val_score(clf, X_pca, y_train, cv=cv)\n",
    "print(\"Accuracy: %0.2f (+/- %0.2f)\" % (scores.mean(), scores.std() * 2))"
   ]
  },
  {
   "cell_type": "code",
   "execution_count": 17,
   "metadata": {},
   "outputs": [
    {
     "name": "stdout",
     "output_type": "stream",
     "text": [
      "Accuracy: 0.66 (+/- 0.26)\n",
      "CPU times: user 50.6 s, sys: 32.1 ms, total: 50.6 s\n",
      "Wall time: 50.6 s\n"
     ]
    }
   ],
   "source": [
    "%%time\n",
    "\n",
    "clf = RandomForestClassifier(n_estimators=1024, max_depth=1, random_state=RANDOM_STATE)\n",
    "cv = RepeatedStratifiedKFold(n_splits=3, n_repeats=20)\n",
    "scores = cross_val_score(clf, X_train, y_train, cv=cv)\n",
    "print(\"Accuracy: %0.2f (+/- %0.2f)\" % (scores.mean(), scores.std() * 2))"
   ]
  },
  {
   "cell_type": "markdown",
   "metadata": {},
   "source": [
    "# AdaBoost"
   ]
  },
  {
   "cell_type": "code",
   "execution_count": 18,
   "metadata": {},
   "outputs": [
    {
     "name": "stdout",
     "output_type": "stream",
     "text": [
      "Accuracy: 0.33 (+/- 0.17)\n",
      "CPU times: user 1min 5s, sys: 88 ms, total: 1min 5s\n",
      "Wall time: 1min 5s\n"
     ]
    }
   ],
   "source": [
    "%%time\n",
    "\n",
    "from sklearn.tree import DecisionTreeClassifier\n",
    "from sklearn.ensemble import AdaBoostClassifier\n",
    "\n",
    "clf = AdaBoostClassifier(DecisionTreeClassifier(max_depth=1),\n",
    "                        n_estimators=1024)\n",
    "cv = RepeatedStratifiedKFold(n_splits=3, n_repeats=20)\n",
    "scores = cross_val_score(clf, X_pca, y_train, cv=cv)\n",
    "print(\"Accuracy: %0.2f (+/- %0.2f)\" % (scores.mean(), scores.std() * 2))"
   ]
  },
  {
   "cell_type": "code",
   "execution_count": 19,
   "metadata": {},
   "outputs": [
    {
     "name": "stdout",
     "output_type": "stream",
     "text": [
      "Accuracy: 0.38 (+/- 0.20)\n",
      "CPU times: user 3min 24s, sys: 172 ms, total: 3min 25s\n",
      "Wall time: 3min 25s\n"
     ]
    }
   ],
   "source": [
    "%%time\n",
    "\n",
    "clf = AdaBoostClassifier(DecisionTreeClassifier(max_depth=1),\n",
    "                        n_estimators=1024)\n",
    "cv = RepeatedStratifiedKFold(n_splits=3, n_repeats=20)\n",
    "scores = cross_val_score(clf, X_train, y_train, cv=cv)\n",
    "print(\"Accuracy: %0.2f (+/- %0.2f)\" % (scores.mean(), scores.std() * 2))"
   ]
  },
  {
   "cell_type": "markdown",
   "metadata": {},
   "source": [
    "# Validation"
   ]
  },
  {
   "cell_type": "code",
   "execution_count": 20,
   "metadata": {},
   "outputs": [
    {
     "name": "stdout",
     "output_type": "stream",
     "text": [
      "              precision    recall  f1-score   support\n",
      "\n",
      "          bc       0.67      0.40      0.50         5\n",
      "          ec       0.00      0.00      0.00         3\n",
      "          lm       0.50      1.00      0.67         2\n",
      "          pa       0.00      0.00      0.00         2\n",
      "          sa       1.00      0.80      0.89         5\n",
      "          se       0.00      0.00      0.00         2\n",
      "\n",
      "   micro avg       0.42      0.42      0.42        19\n",
      "   macro avg       0.36      0.37      0.34        19\n",
      "weighted avg       0.49      0.42      0.44        19\n",
      "\n"
     ]
    },
    {
     "name": "stderr",
     "output_type": "stream",
     "text": [
      "/home/anthony/miniconda3/lib/python3.7/site-packages/sklearn/metrics/classification.py:1143: UndefinedMetricWarning: Precision and F-score are ill-defined and being set to 0.0 in labels with no predicted samples.\n",
      "  'precision', 'predicted', average, warn_for)\n",
      "/home/anthony/miniconda3/lib/python3.7/site-packages/sklearn/metrics/classification.py:1143: UndefinedMetricWarning: Precision and F-score are ill-defined and being set to 0.0 in labels with no predicted samples.\n",
      "  'precision', 'predicted', average, warn_for)\n",
      "/home/anthony/miniconda3/lib/python3.7/site-packages/sklearn/metrics/classification.py:1143: UndefinedMetricWarning: Precision and F-score are ill-defined and being set to 0.0 in labels with no predicted samples.\n",
      "  'precision', 'predicted', average, warn_for)\n"
     ]
    },
    {
     "data": {
      "image/png": "[encoded data removed]",
      "text/plain": [
       "<Figure size 432x288 with 2 Axes>"
      ]
     },
     "metadata": {
      "needs_background": "light"
     },
     "output_type": "display_data"
    }
   ],
   "source": [
    "from sklearn.metrics import confusion_matrix, classification_report\n",
    "import seaborn as sns\n",
    "\n",
    "y_pred = grid_search.best_estimator_.predict(pca.transform(X_test))\n",
    "\n",
    "print(classification_report(y_test, y_pred))\n",
    "\n",
    "labels = lag.index.levels[0]\n",
    "cm = confusion_matrix(y_test, y_pred, labels)    \n",
    "\n",
    "ax = sns.heatmap(cm, annot=True, cmap='Blues_r')\n",
    "ax.set(xlabel='Predicted labels', \n",
    "       ylabel='True labels',\n",
    "       title='Confusion Matrix')\n",
    "ax.xaxis.set_ticklabels(labels)\n",
    "ax.xaxis.tick_top()\n",
    "ax.xaxis.set_label_position('top') \n",
    "ax.yaxis.set_ticklabels(labels);"
   ]
  }
 ],
 "metadata": {
  "kernelspec": {
   "display_name": "Python 3",
   "language": "python",
   "name": "python3"
  },
  "language_info": {
   "codemirror_mode": {
    "name": "ipython",
    "version": 3
   },
   "file_extension": ".py",
   "mimetype": "text/x-python",
   "name": "python",
   "nbconvert_exporter": "python",
   "pygments_lexer": "ipython3",
   "version": "3.7.2"
  }
 },
 "nbformat": 4,
 "nbformat_minor": 2
}
