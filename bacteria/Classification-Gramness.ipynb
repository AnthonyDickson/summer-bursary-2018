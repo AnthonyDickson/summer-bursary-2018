{
 "cells": [
  {
   "cell_type": "code",
   "execution_count": 1,
   "metadata": {},
   "outputs": [],
   "source": [
    "from experiment import GramnessExperiment"
   ]
  },
  {
   "cell_type": "code",
   "execution_count": 2,
   "metadata": {
    "scrolled": false
   },
   "outputs": [
    {
     "name": "stdout",
     "output_type": "stream",
     "text": [
      "################################################################################\n",
      "Running tests for 16ms integration time.\n",
      "################################################################################\n",
      "**************************\n",
      "Running Naive Bayes tests.\n",
      "**************************\n",
      "Accuracy: 0.69 (+/- 0.20)\n",
      "PCA Accuracy: 0.66 (+/- 0.21)\n",
      "Elapsed time: 0.58s.\n",
      "******************\n",
      "Running SVM tests.\n",
      "******************\n",
      "Fitting 60 folds for each of 220 candidates, totalling 13200 fits\n"
     ]
    },
    {
     "name": "stderr",
     "output_type": "stream",
     "text": [
      "[Parallel(n_jobs=-1)]: Using backend LokyBackend with 4 concurrent workers.\n",
      "[Parallel(n_jobs=-1)]: Done 1204 tasks      | elapsed:    2.2s\n",
      "[Parallel(n_jobs=-1)]: Done 13200 out of 13200 | elapsed:   11.7s finished\n"
     ]
    },
    {
     "name": "stdout",
     "output_type": "stream",
     "text": [
      "Best grid search score was 0.90 with the following settings: {'C': 0.1, 'gamma': 1, 'kernel': 'linear'}\n",
      "Accuracy: 0.90 (+/- 0.14)\n",
      "PCA Accuracy: 0.90 (+/- 0.13)\n",
      "Elapsed time: 12.29s.\n",
      "**************************************************************************\n",
      "Running RandomForest tests using 512 Decision Trees with a max depth of 1.\n",
      "**************************************************************************\n",
      "Accuracy: 0.77 (+/- 0.21)\n",
      "PCA Accuracy: 0.74 (+/- 0.16)\n",
      "Elapsed time: 50.38s.\n",
      "**************************************************************************\n",
      "Running RandomForest tests using 512 Decision Trees with a max depth of 3.\n",
      "**************************************************************************\n",
      "Accuracy: 0.76 (+/- 0.21)\n",
      "PCA Accuracy: 0.74 (+/- 0.19)\n",
      "Elapsed time: 53.45s.\n",
      "**********************************************************************\n",
      "Running AdaBoost tests using 256 Decision Trees with a max depth of 1.\n",
      "**********************************************************************\n",
      "Accuracy: 0.67 (+/- 0.18)\n",
      "PCA Accuracy: 0.68 (+/- 0.19)\n",
      "Elapsed time: 141.65s.\n",
      "**********************************************************************\n",
      "Running AdaBoost tests using 526 Decision Trees with a max depth of 3.\n",
      "**********************************************************************\n",
      "Accuracy: 0.68 (+/- 0.25)\n",
      "PCA Accuracy: 0.66 (+/- 0.23)\n",
      "Elapsed time: 1.91s.\n",
      "################################################################################\n",
      "Running tests for 32ms integration time.\n",
      "################################################################################\n",
      "**************************\n",
      "Running Naive Bayes tests.\n",
      "**************************\n",
      "Accuracy: 0.69 (+/- 0.18)\n",
      "PCA Accuracy: 0.67 (+/- 0.21)\n",
      "Elapsed time: 0.52s.\n",
      "******************\n",
      "Running SVM tests.\n",
      "******************\n",
      "Fitting 60 folds for each of 220 candidates, totalling 13200 fits\n"
     ]
    },
    {
     "name": "stderr",
     "output_type": "stream",
     "text": [
      "[Parallel(n_jobs=-1)]: Using backend LokyBackend with 4 concurrent workers.\n",
      "[Parallel(n_jobs=-1)]: Done 2008 tasks      | elapsed:    1.7s\n",
      "[Parallel(n_jobs=-1)]: Done 13200 out of 13200 | elapsed:   10.3s finished\n"
     ]
    },
    {
     "name": "stdout",
     "output_type": "stream",
     "text": [
      "Best grid search score was 0.91 with the following settings: {'C': 0.1, 'gamma': 1, 'kernel': 'linear'}\n",
      "Accuracy: 0.91 (+/- 0.13)\n",
      "PCA Accuracy: 0.92 (+/- 0.13)\n",
      "Elapsed time: 10.88s.\n",
      "**************************************************************************\n",
      "Running RandomForest tests using 512 Decision Trees with a max depth of 1.\n",
      "**************************************************************************\n",
      "Accuracy: 0.75 (+/- 0.19)\n",
      "PCA Accuracy: 0.69 (+/- 0.15)\n",
      "Elapsed time: 50.94s.\n",
      "**************************************************************************\n",
      "Running RandomForest tests using 512 Decision Trees with a max depth of 3.\n",
      "**************************************************************************\n",
      "Accuracy: 0.76 (+/- 0.18)\n",
      "PCA Accuracy: 0.71 (+/- 0.17)\n",
      "Elapsed time: 52.66s.\n",
      "**********************************************************************\n",
      "Running AdaBoost tests using 256 Decision Trees with a max depth of 1.\n",
      "**********************************************************************\n",
      "Accuracy: 0.71 (+/- 0.21)\n",
      "PCA Accuracy: 0.72 (+/- 0.20)\n",
      "Elapsed time: 142.48s.\n",
      "**********************************************************************\n",
      "Running AdaBoost tests using 526 Decision Trees with a max depth of 3.\n",
      "**********************************************************************\n",
      "Accuracy: 0.66 (+/- 0.19)\n",
      "PCA Accuracy: 0.66 (+/- 0.21)\n",
      "Elapsed time: 3.01s.\n",
      "All tests done.\n",
      "Elapsed time: 520.74s.\n"
     ]
    }
   ],
   "source": [
    "experiment_lag = GramnessExperiment('lag')\n",
    "experiment_lag.run()"
   ]
  },
  {
   "cell_type": "code",
   "execution_count": 3,
   "metadata": {
    "scrolled": false
   },
   "outputs": [
    {
     "name": "stdout",
     "output_type": "stream",
     "text": [
      "################################################################################\n",
      "Running tests for 16ms integration time.\n",
      "################################################################################\n",
      "**************************\n",
      "Running Naive Bayes tests.\n",
      "**************************\n",
      "Accuracy: 0.97 (+/- 0.07)\n",
      "PCA Accuracy: 0.77 (+/- 0.21)\n",
      "Elapsed time: 0.57s.\n",
      "******************\n",
      "Running SVM tests.\n",
      "******************\n",
      "Fitting 60 folds for each of 220 candidates, totalling 13200 fits\n"
     ]
    },
    {
     "name": "stderr",
     "output_type": "stream",
     "text": [
      "[Parallel(n_jobs=-1)]: Using backend LokyBackend with 4 concurrent workers.\n",
      "[Parallel(n_jobs=-1)]: Done 2816 tasks      | elapsed:    2.4s\n",
      "[Parallel(n_jobs=-1)]: Done 13200 out of 13200 | elapsed:   10.3s finished\n"
     ]
    },
    {
     "name": "stdout",
     "output_type": "stream",
     "text": [
      "Best grid search score was 0.98 with the following settings: {'C': 0.001, 'gamma': 1, 'kernel': 'linear'}\n",
      "Accuracy: 0.98 (+/- 0.07)\n",
      "PCA Accuracy: 0.98 (+/- 0.07)\n",
      "Elapsed time: 10.83s.\n",
      "**************************************************************************\n",
      "Running RandomForest tests using 512 Decision Trees with a max depth of 1.\n",
      "**************************************************************************\n",
      "Accuracy: 0.98 (+/- 0.07)\n",
      "PCA Accuracy: 0.90 (+/- 0.15)\n",
      "Elapsed time: 50.61s.\n",
      "**************************************************************************\n",
      "Running RandomForest tests using 512 Decision Trees with a max depth of 3.\n",
      "**************************************************************************\n",
      "Accuracy: 0.98 (+/- 0.07)\n",
      "PCA Accuracy: 0.94 (+/- 0.11)\n",
      "Elapsed time: 50.98s.\n",
      "**********************************************************************\n",
      "Running AdaBoost tests using 256 Decision Trees with a max depth of 1.\n",
      "**********************************************************************\n",
      "Accuracy: 0.96 (+/- 0.09)\n",
      "PCA Accuracy: 0.97 (+/- 0.07)\n",
      "Elapsed time: 84.27s.\n",
      "**********************************************************************\n",
      "Running AdaBoost tests using 526 Decision Trees with a max depth of 3.\n",
      "**********************************************************************\n",
      "Accuracy: 0.95 (+/- 0.08)\n",
      "PCA Accuracy: 0.96 (+/- 0.07)\n",
      "Elapsed time: 1.01s.\n",
      "################################################################################\n",
      "Running tests for 32ms integration time.\n",
      "################################################################################\n",
      "**************************\n",
      "Running Naive Bayes tests.\n",
      "**************************\n",
      "Accuracy: 0.96 (+/- 0.07)\n",
      "PCA Accuracy: 0.75 (+/- 0.25)\n",
      "Elapsed time: 0.56s.\n",
      "******************\n",
      "Running SVM tests.\n",
      "******************\n",
      "Fitting 60 folds for each of 220 candidates, totalling 13200 fits\n"
     ]
    },
    {
     "name": "stderr",
     "output_type": "stream",
     "text": [
      "[Parallel(n_jobs=-1)]: Using backend LokyBackend with 4 concurrent workers.\n",
      "[Parallel(n_jobs=-1)]: Done 1912 tasks      | elapsed:    1.8s\n",
      "[Parallel(n_jobs=-1)]: Done 10312 tasks      | elapsed:    8.9s\n",
      "[Parallel(n_jobs=-1)]: Done 13200 out of 13200 | elapsed:   11.1s finished\n"
     ]
    },
    {
     "name": "stdout",
     "output_type": "stream",
     "text": [
      "Best grid search score was 0.98 with the following settings: {'C': 0.001, 'gamma': 1, 'kernel': 'linear'}\n",
      "Accuracy: 0.98 (+/- 0.07)\n",
      "PCA Accuracy: 0.98 (+/- 0.07)\n",
      "Elapsed time: 11.61s.\n",
      "**************************************************************************\n",
      "Running RandomForest tests using 512 Decision Trees with a max depth of 1.\n",
      "**************************************************************************\n",
      "Accuracy: 0.98 (+/- 0.07)\n",
      "PCA Accuracy: 0.88 (+/- 0.17)\n",
      "Elapsed time: 50.16s.\n",
      "**************************************************************************\n",
      "Running RandomForest tests using 512 Decision Trees with a max depth of 3.\n",
      "**************************************************************************\n",
      "Accuracy: 0.98 (+/- 0.07)\n",
      "PCA Accuracy: 0.93 (+/- 0.13)\n",
      "Elapsed time: 50.43s.\n",
      "**********************************************************************\n",
      "Running AdaBoost tests using 256 Decision Trees with a max depth of 1.\n",
      "**********************************************************************\n",
      "Accuracy: 0.98 (+/- 0.07)\n",
      "PCA Accuracy: 0.96 (+/- 0.09)\n",
      "Elapsed time: 84.88s.\n",
      "**********************************************************************\n",
      "Running AdaBoost tests using 526 Decision Trees with a max depth of 3.\n",
      "**********************************************************************\n",
      "Accuracy: 0.95 (+/- 0.13)\n",
      "PCA Accuracy: 0.95 (+/- 0.11)\n",
      "Elapsed time: 0.91s.\n",
      "All tests done.\n",
      "Elapsed time: 396.82s.\n"
     ]
    }
   ],
   "source": [
    "experiment_log = GramnessExperiment('log')\n",
    "experiment_log.run()"
   ]
  },
  {
   "cell_type": "code",
   "execution_count": 4,
   "metadata": {
    "scrolled": false
   },
   "outputs": [
    {
     "name": "stdout",
     "output_type": "stream",
     "text": [
      "################################################################################\n",
      "Running tests for 16ms integration time.\n",
      "################################################################################\n",
      "**************************\n",
      "Running Naive Bayes tests.\n",
      "**************************\n",
      "Accuracy: 0.91 (+/- 0.13)\n",
      "PCA Accuracy: 0.74 (+/- 0.24)\n",
      "Elapsed time: 0.61s.\n",
      "******************\n",
      "Running SVM tests.\n",
      "******************\n",
      "Fitting 60 folds for each of 220 candidates, totalling 13200 fits\n"
     ]
    },
    {
     "name": "stderr",
     "output_type": "stream",
     "text": [
      "[Parallel(n_jobs=-1)]: Using backend LokyBackend with 4 concurrent workers.\n",
      "[Parallel(n_jobs=-1)]: Done 3392 tasks      | elapsed:    3.3s\n",
      "[Parallel(n_jobs=-1)]: Done 13200 out of 13200 | elapsed:   12.1s finished\n"
     ]
    },
    {
     "name": "stdout",
     "output_type": "stream",
     "text": [
      "Best grid search score was 0.92 with the following settings: {'C': 0.001, 'gamma': 1, 'kernel': 'linear'}\n",
      "Accuracy: 0.92 (+/- 0.12)\n",
      "PCA Accuracy: 0.92 (+/- 0.13)\n",
      "Elapsed time: 12.73s.\n",
      "**************************************************************************\n",
      "Running RandomForest tests using 512 Decision Trees with a max depth of 1.\n",
      "**************************************************************************\n",
      "Accuracy: 0.92 (+/- 0.12)\n",
      "PCA Accuracy: 0.81 (+/- 0.16)\n",
      "Elapsed time: 51.79s.\n",
      "**************************************************************************\n",
      "Running RandomForest tests using 512 Decision Trees with a max depth of 3.\n",
      "**************************************************************************\n",
      "Accuracy: 0.92 (+/- 0.12)\n",
      "PCA Accuracy: 0.85 (+/- 0.15)\n",
      "Elapsed time: 52.21s.\n",
      "**********************************************************************\n",
      "Running AdaBoost tests using 256 Decision Trees with a max depth of 1.\n",
      "**********************************************************************\n",
      "Accuracy: 0.88 (+/- 0.12)\n",
      "PCA Accuracy: 0.84 (+/- 0.13)\n",
      "Elapsed time: 84.48s.\n",
      "**********************************************************************\n",
      "Running AdaBoost tests using 526 Decision Trees with a max depth of 3.\n",
      "**********************************************************************\n",
      "Accuracy: 0.87 (+/- 0.15)\n",
      "PCA Accuracy: 0.85 (+/- 0.15)\n",
      "Elapsed time: 1.00s.\n",
      "################################################################################\n",
      "Running tests for 32ms integration time.\n",
      "################################################################################\n",
      "**************************\n",
      "Running Naive Bayes tests.\n",
      "**************************\n",
      "Accuracy: 0.92 (+/- 0.12)\n",
      "PCA Accuracy: 0.79 (+/- 0.16)\n",
      "Elapsed time: 0.55s.\n",
      "******************\n",
      "Running SVM tests.\n",
      "******************\n",
      "Fitting 60 folds for each of 220 candidates, totalling 13200 fits\n"
     ]
    },
    {
     "name": "stderr",
     "output_type": "stream",
     "text": [
      "[Parallel(n_jobs=-1)]: Using backend LokyBackend with 4 concurrent workers.\n",
      "[Parallel(n_jobs=-1)]: Done 3264 tasks      | elapsed:    3.1s\n",
      "[Parallel(n_jobs=-1)]: Done 13200 out of 13200 | elapsed:   11.2s finished\n"
     ]
    },
    {
     "name": "stdout",
     "output_type": "stream",
     "text": [
      "Best grid search score was 0.93 with the following settings: {'C': 0.001, 'gamma': 1, 'kernel': 'linear'}\n",
      "Accuracy: 0.93 (+/- 0.12)\n",
      "PCA Accuracy: 0.93 (+/- 0.12)\n",
      "Elapsed time: 11.80s.\n",
      "**************************************************************************\n",
      "Running RandomForest tests using 512 Decision Trees with a max depth of 1.\n",
      "**************************************************************************\n",
      "Accuracy: 0.91 (+/- 0.12)\n",
      "PCA Accuracy: 0.87 (+/- 0.15)\n",
      "Elapsed time: 50.84s.\n",
      "**************************************************************************\n",
      "Running RandomForest tests using 512 Decision Trees with a max depth of 3.\n",
      "**************************************************************************\n",
      "Accuracy: 0.92 (+/- 0.11)\n",
      "PCA Accuracy: 0.89 (+/- 0.13)\n",
      "Elapsed time: 52.66s.\n",
      "**********************************************************************\n",
      "Running AdaBoost tests using 256 Decision Trees with a max depth of 1.\n",
      "**********************************************************************\n",
      "Accuracy: 0.87 (+/- 0.14)\n",
      "PCA Accuracy: 0.85 (+/- 0.13)\n",
      "Elapsed time: 69.07s.\n",
      "**********************************************************************\n",
      "Running AdaBoost tests using 526 Decision Trees with a max depth of 3.\n",
      "**********************************************************************\n",
      "Accuracy: 0.86 (+/- 0.12)\n",
      "PCA Accuracy: 0.84 (+/- 0.13)\n",
      "Elapsed time: 0.97s.\n",
      "All tests done.\n",
      "Elapsed time: 388.71s.\n"
     ]
    }
   ],
   "source": [
    "experiment_stat = GramnessExperiment('stat')\n",
    "experiment_stat.run()"
   ]
  },
  {
   "cell_type": "code",
   "execution_count": 5,
   "metadata": {
    "scrolled": false
   },
   "outputs": [
    {
     "name": "stdout",
     "output_type": "stream",
     "text": [
      "################################################################################\n",
      "Running tests for 16ms integration time.\n",
      "################################################################################\n",
      "**************************\n",
      "Running Naive Bayes tests.\n",
      "**************************\n",
      "Accuracy: 0.83 (+/- 0.10)\n",
      "PCA Accuracy: 0.65 (+/- 0.21)\n",
      "Elapsed time: 2.51s.\n",
      "******************\n",
      "Running SVM tests.\n",
      "******************\n",
      "Fitting 60 folds for each of 220 candidates, totalling 13200 fits\n"
     ]
    },
    {
     "name": "stderr",
     "output_type": "stream",
     "text": [
      "[Parallel(n_jobs=-1)]: Using backend LokyBackend with 4 concurrent workers.\n",
      "[Parallel(n_jobs=-1)]: Done 1572 tasks      | elapsed:    2.4s\n",
      "[Parallel(n_jobs=-1)]: Done 8472 tasks      | elapsed:   11.9s\n",
      "[Parallel(n_jobs=-1)]: Done 13200 out of 13200 | elapsed:   20.3s finished\n"
     ]
    },
    {
     "name": "stdout",
     "output_type": "stream",
     "text": [
      "Best grid search score was 0.88 with the following settings: {'C': 10, 'gamma': 0.1, 'kernel': 'rbf'}\n",
      "Accuracy: 0.87 (+/- 0.10)\n",
      "PCA Accuracy: 0.88 (+/- 0.10)\n",
      "Elapsed time: 23.33s.\n",
      "**************************************************************************\n",
      "Running RandomForest tests using 512 Decision Trees with a max depth of 1.\n",
      "**************************************************************************\n",
      "Accuracy: 0.84 (+/- 0.10)\n",
      "PCA Accuracy: 0.77 (+/- 0.10)\n",
      "Elapsed time: 57.15s.\n",
      "**************************************************************************\n",
      "Running RandomForest tests using 512 Decision Trees with a max depth of 3.\n",
      "**************************************************************************\n",
      "Accuracy: 0.84 (+/- 0.10)\n",
      "PCA Accuracy: 0.81 (+/- 0.12)\n",
      "Elapsed time: 69.45s.\n",
      "**********************************************************************\n",
      "Running AdaBoost tests using 256 Decision Trees with a max depth of 1.\n",
      "**********************************************************************\n",
      "Accuracy: 0.81 (+/- 0.10)\n",
      "PCA Accuracy: 0.80 (+/- 0.11)\n",
      "Elapsed time: 395.53s.\n",
      "**********************************************************************\n",
      "Running AdaBoost tests using 526 Decision Trees with a max depth of 3.\n",
      "**********************************************************************\n",
      "Accuracy: 0.82 (+/- 0.10)\n",
      "PCA Accuracy: 0.83 (+/- 0.10)\n",
      "Elapsed time: 1241.35s.\n",
      "################################################################################\n",
      "Running tests for 32ms integration time.\n",
      "################################################################################\n",
      "**************************\n",
      "Running Naive Bayes tests.\n",
      "**************************\n",
      "Accuracy: 0.83 (+/- 0.09)\n",
      "PCA Accuracy: 0.67 (+/- 0.22)\n",
      "Elapsed time: 2.22s.\n",
      "******************\n",
      "Running SVM tests.\n",
      "******************\n",
      "Fitting 60 folds for each of 220 candidates, totalling 13200 fits\n"
     ]
    },
    {
     "name": "stderr",
     "output_type": "stream",
     "text": [
      "[Parallel(n_jobs=-1)]: Using backend LokyBackend with 4 concurrent workers.\n",
      "[Parallel(n_jobs=-1)]: Done 1001 tasks      | elapsed:    2.8s\n",
      "[Parallel(n_jobs=-1)]: Done 12101 tasks      | elapsed:   18.2s\n",
      "[Parallel(n_jobs=-1)]: Done 13200 out of 13200 | elapsed:   20.4s finished\n"
     ]
    },
    {
     "name": "stdout",
     "output_type": "stream",
     "text": [
      "Best grid search score was 0.89 with the following settings: {'C': 10, 'gamma': 0.1, 'kernel': 'rbf'}\n",
      "Accuracy: 0.88 (+/- 0.10)\n",
      "PCA Accuracy: 0.89 (+/- 0.09)\n",
      "Elapsed time: 23.26s.\n",
      "**************************************************************************\n",
      "Running RandomForest tests using 512 Decision Trees with a max depth of 1.\n",
      "**************************************************************************\n",
      "Accuracy: 0.82 (+/- 0.10)\n",
      "PCA Accuracy: 0.79 (+/- 0.10)\n",
      "Elapsed time: 58.20s.\n",
      "**************************************************************************\n",
      "Running RandomForest tests using 512 Decision Trees with a max depth of 3.\n",
      "**************************************************************************\n",
      "Accuracy: 0.83 (+/- 0.10)\n",
      "PCA Accuracy: 0.82 (+/- 0.09)\n",
      "Elapsed time: 70.77s.\n",
      "**********************************************************************\n",
      "Running AdaBoost tests using 256 Decision Trees with a max depth of 1.\n",
      "**********************************************************************\n",
      "Accuracy: 0.82 (+/- 0.11)\n",
      "PCA Accuracy: 0.80 (+/- 0.12)\n",
      "Elapsed time: 404.62s.\n",
      "**********************************************************************\n",
      "Running AdaBoost tests using 526 Decision Trees with a max depth of 3.\n",
      "**********************************************************************\n",
      "Accuracy: 0.83 (+/- 0.10)\n",
      "PCA Accuracy: 0.82 (+/- 0.09)\n",
      "Elapsed time: 1006.65s.\n",
      "All tests done.\n",
      "Elapsed time: 3355.04s.\n"
     ]
    }
   ],
   "source": [
    "experiment_all = GramnessExperiment('all')\n",
    "experiment_all.run()"
   ]
  }
 ],
 "metadata": {
  "kernelspec": {
   "display_name": "Python 3",
   "language": "python",
   "name": "python3"
  },
  "language_info": {
   "codemirror_mode": {
    "name": "ipython",
    "version": 3
   },
   "file_extension": ".py",
   "mimetype": "text/x-python",
   "name": "python",
   "nbconvert_exporter": "python",
   "pygments_lexer": "ipython3",
   "version": "3.7.2"
  }
 },
 "nbformat": 4,
 "nbformat_minor": 2
}
