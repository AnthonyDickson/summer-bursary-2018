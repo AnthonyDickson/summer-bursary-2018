{
 "cells": [
  {
   "cell_type": "code",
   "execution_count": 1,
   "metadata": {},
   "outputs": [],
   "source": [
    "import os\n",
    "\n",
    "import numpy as np\n",
    "import pandas as pd"
   ]
  },
  {
   "cell_type": "code",
   "execution_count": 2,
   "metadata": {},
   "outputs": [
    {
     "data": {
      "text/plain": [
       "'/home/anthony/summer-bursary-2018/bacteria'"
      ]
     },
     "execution_count": 2,
     "metadata": {},
     "output_type": "execute_result"
    }
   ],
   "source": [
    "os.getcwd()"
   ]
  },
  {
   "cell_type": "code",
   "execution_count": 3,
   "metadata": {},
   "outputs": [
    {
     "data": {
      "text/plain": [
       "['Classific.py',\n",
       " 'graphs.pdf',\n",
       " 'growth_stages.csv',\n",
       " '16ms_32ms_growth_phase_spectra.csv',\n",
       " 'PC6allwavelengths.png',\n",
       " 'wavelengths.csv',\n",
       " '16_ms_lag_codes.csv',\n",
       " 'bacteria.csv']"
      ]
     },
     "execution_count": 3,
     "metadata": {},
     "output_type": "execute_result"
    }
   ],
   "source": [
    "os.listdir('data')"
   ]
  },
  {
   "cell_type": "code",
   "execution_count": 4,
   "metadata": {},
   "outputs": [
    {
     "name": "stdout",
     "output_type": "stream",
     "text": [
      "<class 'pandas.core.frame.DataFrame'>\n",
      "Int64Index: 1043 entries, 0 to 1042\n",
      "Columns: 135 entries, (lag, bc, 01) to (stat, se, 07)\n",
      "dtypes: float64(135)\n",
      "memory usage: 1.1 MB\n"
     ]
    }
   ],
   "source": [
    "df = pd.read_csv('data/bacteria.csv', header=[0, 1, 2], index_col=0)\n",
    "df.info()"
   ]
  },
  {
   "cell_type": "markdown",
   "metadata": {},
   "source": [
    "# Preprocessing"
   ]
  },
  {
   "cell_type": "code",
   "execution_count": 5,
   "metadata": {},
   "outputs": [
    {
     "data": {
      "text/html": [
       "<div>\n",
       "<style scoped>\n",
       "    .dataframe tbody tr th:only-of-type {\n",
       "        vertical-align: middle;\n",
       "    }\n",
       "\n",
       "    .dataframe tbody tr th {\n",
       "        vertical-align: top;\n",
       "    }\n",
       "\n",
       "    .dataframe thead th {\n",
       "        text-align: right;\n",
       "    }\n",
       "</style>\n",
       "<table border=\"1\" class=\"dataframe\">\n",
       "  <thead>\n",
       "    <tr style=\"text-align: right;\">\n",
       "      <th></th>\n",
       "      <th></th>\n",
       "      <th></th>\n",
       "      <th>0</th>\n",
       "      <th>1</th>\n",
       "      <th>2</th>\n",
       "      <th>3</th>\n",
       "      <th>4</th>\n",
       "      <th>5</th>\n",
       "      <th>6</th>\n",
       "      <th>7</th>\n",
       "      <th>8</th>\n",
       "      <th>9</th>\n",
       "      <th>...</th>\n",
       "      <th>1033</th>\n",
       "      <th>1034</th>\n",
       "      <th>1035</th>\n",
       "      <th>1036</th>\n",
       "      <th>1037</th>\n",
       "      <th>1038</th>\n",
       "      <th>1039</th>\n",
       "      <th>1040</th>\n",
       "      <th>1041</th>\n",
       "      <th>1042</th>\n",
       "    </tr>\n",
       "    <tr>\n",
       "      <th>species</th>\n",
       "      <th>growth_phase</th>\n",
       "      <th>replicate</th>\n",
       "      <th></th>\n",
       "      <th></th>\n",
       "      <th></th>\n",
       "      <th></th>\n",
       "      <th></th>\n",
       "      <th></th>\n",
       "      <th></th>\n",
       "      <th></th>\n",
       "      <th></th>\n",
       "      <th></th>\n",
       "      <th></th>\n",
       "      <th></th>\n",
       "      <th></th>\n",
       "      <th></th>\n",
       "      <th></th>\n",
       "      <th></th>\n",
       "      <th></th>\n",
       "      <th></th>\n",
       "      <th></th>\n",
       "      <th></th>\n",
       "      <th></th>\n",
       "    </tr>\n",
       "  </thead>\n",
       "  <tbody>\n",
       "    <tr>\n",
       "      <th rowspan=\"5\" valign=\"top\">bc</th>\n",
       "      <th rowspan=\"5\" valign=\"top\">lag</th>\n",
       "      <th>01</th>\n",
       "      <td>0.000000</td>\n",
       "      <td>1.560060</td>\n",
       "      <td>0.715025</td>\n",
       "      <td>-0.520060</td>\n",
       "      <td>0.130014</td>\n",
       "      <td>-2.080180</td>\n",
       "      <td>0.000000e+00</td>\n",
       "      <td>1.040112</td>\n",
       "      <td>1.235136</td>\n",
       "      <td>-0.195020</td>\n",
       "      <td>...</td>\n",
       "      <td>1.170374</td>\n",
       "      <td>2.730861</td>\n",
       "      <td>3.835922</td>\n",
       "      <td>1.755222</td>\n",
       "      <td>1.235332</td>\n",
       "      <td>4.355984</td>\n",
       "      <td>0.520024</td>\n",
       "      <td>0.715032</td>\n",
       "      <td>-0.325010</td>\n",
       "      <td>-0.520030</td>\n",
       "    </tr>\n",
       "    <tr>\n",
       "      <th>02</th>\n",
       "      <td>0.622353</td>\n",
       "      <td>-2.115990</td>\n",
       "      <td>0.062234</td>\n",
       "      <td>2.178335</td>\n",
       "      <td>1.867163</td>\n",
       "      <td>1.120305</td>\n",
       "      <td>8.713430e-01</td>\n",
       "      <td>-1.369260</td>\n",
       "      <td>-1.929420</td>\n",
       "      <td>0.684622</td>\n",
       "      <td>...</td>\n",
       "      <td>-0.373450</td>\n",
       "      <td>-0.187040</td>\n",
       "      <td>-2.302970</td>\n",
       "      <td>0.124451</td>\n",
       "      <td>0.809098</td>\n",
       "      <td>1.058059</td>\n",
       "      <td>2.676111</td>\n",
       "      <td>0.622357</td>\n",
       "      <td>0.560118</td>\n",
       "      <td>-0.435650</td>\n",
       "    </tr>\n",
       "    <tr>\n",
       "      <th>03</th>\n",
       "      <td>0.064528</td>\n",
       "      <td>0.645279</td>\n",
       "      <td>-1.032450</td>\n",
       "      <td>-2.064991</td>\n",
       "      <td>-1.419711</td>\n",
       "      <td>1.032515</td>\n",
       "      <td>-2.000491e+00</td>\n",
       "      <td>-0.903453</td>\n",
       "      <td>2.968462</td>\n",
       "      <td>1.032499</td>\n",
       "      <td>...</td>\n",
       "      <td>3.097847</td>\n",
       "      <td>4.775991</td>\n",
       "      <td>4.775919</td>\n",
       "      <td>4.259427</td>\n",
       "      <td>2.129823</td>\n",
       "      <td>0.064477</td>\n",
       "      <td>-2.516599</td>\n",
       "      <td>0.516229</td>\n",
       "      <td>-0.903391</td>\n",
       "      <td>1.096991</td>\n",
       "    </tr>\n",
       "    <tr>\n",
       "      <th>04</th>\n",
       "      <td>-1.094650</td>\n",
       "      <td>-2.554170</td>\n",
       "      <td>-0.912210</td>\n",
       "      <td>0.851433</td>\n",
       "      <td>3.709871</td>\n",
       "      <td>1.520432</td>\n",
       "      <td>8.514440e-01</td>\n",
       "      <td>-2.067810</td>\n",
       "      <td>-1.581270</td>\n",
       "      <td>0.304085</td>\n",
       "      <td>...</td>\n",
       "      <td>4.257782</td>\n",
       "      <td>3.284733</td>\n",
       "      <td>0.851676</td>\n",
       "      <td>2.493739</td>\n",
       "      <td>3.467134</td>\n",
       "      <td>5.900169</td>\n",
       "      <td>1.520354</td>\n",
       "      <td>2.067671</td>\n",
       "      <td>0.121629</td>\n",
       "      <td>1.094670</td>\n",
       "    </tr>\n",
       "    <tr>\n",
       "      <th>05</th>\n",
       "      <td>-1.492810</td>\n",
       "      <td>-0.559800</td>\n",
       "      <td>2.923387</td>\n",
       "      <td>3.047967</td>\n",
       "      <td>2.985793</td>\n",
       "      <td>2.985763</td>\n",
       "      <td>-3.590000e-07</td>\n",
       "      <td>-0.995270</td>\n",
       "      <td>-0.933060</td>\n",
       "      <td>-1.990480</td>\n",
       "      <td>...</td>\n",
       "      <td>4.479034</td>\n",
       "      <td>2.488391</td>\n",
       "      <td>3.546049</td>\n",
       "      <td>1.057399</td>\n",
       "      <td>3.981489</td>\n",
       "      <td>6.469838</td>\n",
       "      <td>-0.933000</td>\n",
       "      <td>0.062199</td>\n",
       "      <td>-0.435400</td>\n",
       "      <td>1.430629</td>\n",
       "    </tr>\n",
       "  </tbody>\n",
       "</table>\n",
       "<p>5 rows × 1043 columns</p>\n",
       "</div>"
      ],
      "text/plain": [
       "                                    0         1         2         3     \\\n",
       "species growth_phase replicate                                           \n",
       "bc      lag          01         0.000000  1.560060  0.715025 -0.520060   \n",
       "                     02         0.622353 -2.115990  0.062234  2.178335   \n",
       "                     03         0.064528  0.645279 -1.032450 -2.064991   \n",
       "                     04        -1.094650 -2.554170 -0.912210  0.851433   \n",
       "                     05        -1.492810 -0.559800  2.923387  3.047967   \n",
       "\n",
       "                                    4         5             6         7     \\\n",
       "species growth_phase replicate                                               \n",
       "bc      lag          01         0.130014 -2.080180  0.000000e+00  1.040112   \n",
       "                     02         1.867163  1.120305  8.713430e-01 -1.369260   \n",
       "                     03        -1.419711  1.032515 -2.000491e+00 -0.903453   \n",
       "                     04         3.709871  1.520432  8.514440e-01 -2.067810   \n",
       "                     05         2.985793  2.985763 -3.590000e-07 -0.995270   \n",
       "\n",
       "                                    8         9       ...         1033  \\\n",
       "species growth_phase replicate                        ...                \n",
       "bc      lag          01         1.235136 -0.195020    ...     1.170374   \n",
       "                     02        -1.929420  0.684622    ...    -0.373450   \n",
       "                     03         2.968462  1.032499    ...     3.097847   \n",
       "                     04        -1.581270  0.304085    ...     4.257782   \n",
       "                     05        -0.933060 -1.990480    ...     4.479034   \n",
       "\n",
       "                                    1034      1035      1036      1037  \\\n",
       "species growth_phase replicate                                           \n",
       "bc      lag          01         2.730861  3.835922  1.755222  1.235332   \n",
       "                     02        -0.187040 -2.302970  0.124451  0.809098   \n",
       "                     03         4.775991  4.775919  4.259427  2.129823   \n",
       "                     04         3.284733  0.851676  2.493739  3.467134   \n",
       "                     05         2.488391  3.546049  1.057399  3.981489   \n",
       "\n",
       "                                    1038      1039      1040      1041  \\\n",
       "species growth_phase replicate                                           \n",
       "bc      lag          01         4.355984  0.520024  0.715032 -0.325010   \n",
       "                     02         1.058059  2.676111  0.622357  0.560118   \n",
       "                     03         0.064477 -2.516599  0.516229 -0.903391   \n",
       "                     04         5.900169  1.520354  2.067671  0.121629   \n",
       "                     05         6.469838 -0.933000  0.062199 -0.435400   \n",
       "\n",
       "                                    1042  \n",
       "species growth_phase replicate            \n",
       "bc      lag          01        -0.520030  \n",
       "                     02        -0.435650  \n",
       "                     03         1.096991  \n",
       "                     04         1.094670  \n",
       "                     05         1.430629  \n",
       "\n",
       "[5 rows x 1043 columns]"
      ]
     },
     "execution_count": 5,
     "metadata": {},
     "output_type": "execute_result"
    }
   ],
   "source": [
    "X = df.reorder_levels([1, 0, 2], axis=1).sort_index(axis=1).T\n",
    "X.head()"
   ]
  },
  {
   "cell_type": "code",
   "execution_count": 6,
   "metadata": {},
   "outputs": [
    {
     "name": "stdout",
     "output_type": "stream",
     "text": [
      "[['lag']\n",
      " ['lag']\n",
      " ['lag']\n",
      " ['lag']\n",
      " ['lag']]\n",
      "[[1. 0. 0.]\n",
      " [1. 0. 0.]\n",
      " [1. 0. 0.]\n",
      " [1. 0. 0.]\n",
      " [1. 0. 0.]]\n"
     ]
    }
   ],
   "source": [
    "from sklearn.preprocessing import OneHotEncoder\n",
    "\n",
    "ohe = OneHotEncoder(sparse=False)\n",
    "growth_phases = X.reset_index()['growth_phase']\n",
    "growth_phases = growth_phases.values  # get the numpy array\n",
    "growth_phases = growth_phases.reshape(-1, 1)\n",
    "\n",
    "print(growth_phases[:5])\n",
    "\n",
    "ohe.fit(growth_phases)\n",
    "growth_phases = ohe.transform(growth_phases)\n",
    "\n",
    "print(growth_phases[:5])"
   ]
  },
  {
   "cell_type": "code",
   "execution_count": 7,
   "metadata": {},
   "outputs": [
    {
     "data": {
      "text/html": [
       "<div>\n",
       "<style scoped>\n",
       "    .dataframe tbody tr th:only-of-type {\n",
       "        vertical-align: middle;\n",
       "    }\n",
       "\n",
       "    .dataframe tbody tr th {\n",
       "        vertical-align: top;\n",
       "    }\n",
       "\n",
       "    .dataframe thead th {\n",
       "        text-align: right;\n",
       "    }\n",
       "</style>\n",
       "<table border=\"1\" class=\"dataframe\">\n",
       "  <thead>\n",
       "    <tr style=\"text-align: right;\">\n",
       "      <th></th>\n",
       "      <th></th>\n",
       "      <th></th>\n",
       "      <th>0</th>\n",
       "      <th>1</th>\n",
       "      <th>2</th>\n",
       "      <th>3</th>\n",
       "      <th>4</th>\n",
       "      <th>5</th>\n",
       "      <th>6</th>\n",
       "      <th>7</th>\n",
       "      <th>8</th>\n",
       "      <th>9</th>\n",
       "      <th>...</th>\n",
       "      <th>1036</th>\n",
       "      <th>1037</th>\n",
       "      <th>1038</th>\n",
       "      <th>1039</th>\n",
       "      <th>1040</th>\n",
       "      <th>1041</th>\n",
       "      <th>1042</th>\n",
       "      <th>lag</th>\n",
       "      <th>log</th>\n",
       "      <th>stat</th>\n",
       "    </tr>\n",
       "    <tr>\n",
       "      <th>species</th>\n",
       "      <th>growth_phase</th>\n",
       "      <th>replicate</th>\n",
       "      <th></th>\n",
       "      <th></th>\n",
       "      <th></th>\n",
       "      <th></th>\n",
       "      <th></th>\n",
       "      <th></th>\n",
       "      <th></th>\n",
       "      <th></th>\n",
       "      <th></th>\n",
       "      <th></th>\n",
       "      <th></th>\n",
       "      <th></th>\n",
       "      <th></th>\n",
       "      <th></th>\n",
       "      <th></th>\n",
       "      <th></th>\n",
       "      <th></th>\n",
       "      <th></th>\n",
       "      <th></th>\n",
       "      <th></th>\n",
       "      <th></th>\n",
       "    </tr>\n",
       "  </thead>\n",
       "  <tbody>\n",
       "    <tr>\n",
       "      <th rowspan=\"5\" valign=\"top\">bc</th>\n",
       "      <th rowspan=\"5\" valign=\"top\">lag</th>\n",
       "      <th>01</th>\n",
       "      <td>0.000000</td>\n",
       "      <td>1.560060</td>\n",
       "      <td>0.715025</td>\n",
       "      <td>-0.520060</td>\n",
       "      <td>0.130014</td>\n",
       "      <td>-2.080180</td>\n",
       "      <td>0.000000e+00</td>\n",
       "      <td>1.040112</td>\n",
       "      <td>1.235136</td>\n",
       "      <td>-0.195020</td>\n",
       "      <td>...</td>\n",
       "      <td>1.755222</td>\n",
       "      <td>1.235332</td>\n",
       "      <td>4.355984</td>\n",
       "      <td>0.520024</td>\n",
       "      <td>0.715032</td>\n",
       "      <td>-0.325010</td>\n",
       "      <td>-0.520030</td>\n",
       "      <td>1.0</td>\n",
       "      <td>0.0</td>\n",
       "      <td>0.0</td>\n",
       "    </tr>\n",
       "    <tr>\n",
       "      <th>02</th>\n",
       "      <td>0.622353</td>\n",
       "      <td>-2.115990</td>\n",
       "      <td>0.062234</td>\n",
       "      <td>2.178335</td>\n",
       "      <td>1.867163</td>\n",
       "      <td>1.120305</td>\n",
       "      <td>8.713430e-01</td>\n",
       "      <td>-1.369260</td>\n",
       "      <td>-1.929420</td>\n",
       "      <td>0.684622</td>\n",
       "      <td>...</td>\n",
       "      <td>0.124451</td>\n",
       "      <td>0.809098</td>\n",
       "      <td>1.058059</td>\n",
       "      <td>2.676111</td>\n",
       "      <td>0.622357</td>\n",
       "      <td>0.560118</td>\n",
       "      <td>-0.435650</td>\n",
       "      <td>1.0</td>\n",
       "      <td>0.0</td>\n",
       "      <td>0.0</td>\n",
       "    </tr>\n",
       "    <tr>\n",
       "      <th>03</th>\n",
       "      <td>0.064528</td>\n",
       "      <td>0.645279</td>\n",
       "      <td>-1.032450</td>\n",
       "      <td>-2.064991</td>\n",
       "      <td>-1.419711</td>\n",
       "      <td>1.032515</td>\n",
       "      <td>-2.000491e+00</td>\n",
       "      <td>-0.903453</td>\n",
       "      <td>2.968462</td>\n",
       "      <td>1.032499</td>\n",
       "      <td>...</td>\n",
       "      <td>4.259427</td>\n",
       "      <td>2.129823</td>\n",
       "      <td>0.064477</td>\n",
       "      <td>-2.516599</td>\n",
       "      <td>0.516229</td>\n",
       "      <td>-0.903391</td>\n",
       "      <td>1.096991</td>\n",
       "      <td>1.0</td>\n",
       "      <td>0.0</td>\n",
       "      <td>0.0</td>\n",
       "    </tr>\n",
       "    <tr>\n",
       "      <th>04</th>\n",
       "      <td>-1.094650</td>\n",
       "      <td>-2.554170</td>\n",
       "      <td>-0.912210</td>\n",
       "      <td>0.851433</td>\n",
       "      <td>3.709871</td>\n",
       "      <td>1.520432</td>\n",
       "      <td>8.514440e-01</td>\n",
       "      <td>-2.067810</td>\n",
       "      <td>-1.581270</td>\n",
       "      <td>0.304085</td>\n",
       "      <td>...</td>\n",
       "      <td>2.493739</td>\n",
       "      <td>3.467134</td>\n",
       "      <td>5.900169</td>\n",
       "      <td>1.520354</td>\n",
       "      <td>2.067671</td>\n",
       "      <td>0.121629</td>\n",
       "      <td>1.094670</td>\n",
       "      <td>1.0</td>\n",
       "      <td>0.0</td>\n",
       "      <td>0.0</td>\n",
       "    </tr>\n",
       "    <tr>\n",
       "      <th>05</th>\n",
       "      <td>-1.492810</td>\n",
       "      <td>-0.559800</td>\n",
       "      <td>2.923387</td>\n",
       "      <td>3.047967</td>\n",
       "      <td>2.985793</td>\n",
       "      <td>2.985763</td>\n",
       "      <td>-3.590000e-07</td>\n",
       "      <td>-0.995270</td>\n",
       "      <td>-0.933060</td>\n",
       "      <td>-1.990480</td>\n",
       "      <td>...</td>\n",
       "      <td>1.057399</td>\n",
       "      <td>3.981489</td>\n",
       "      <td>6.469838</td>\n",
       "      <td>-0.933000</td>\n",
       "      <td>0.062199</td>\n",
       "      <td>-0.435400</td>\n",
       "      <td>1.430629</td>\n",
       "      <td>1.0</td>\n",
       "      <td>0.0</td>\n",
       "      <td>0.0</td>\n",
       "    </tr>\n",
       "  </tbody>\n",
       "</table>\n",
       "<p>5 rows × 1046 columns</p>\n",
       "</div>"
      ],
      "text/plain": [
       "                                       0         1         2         3  \\\n",
       "species growth_phase replicate                                           \n",
       "bc      lag          01         0.000000  1.560060  0.715025 -0.520060   \n",
       "                     02         0.622353 -2.115990  0.062234  2.178335   \n",
       "                     03         0.064528  0.645279 -1.032450 -2.064991   \n",
       "                     04        -1.094650 -2.554170 -0.912210  0.851433   \n",
       "                     05        -1.492810 -0.559800  2.923387  3.047967   \n",
       "\n",
       "                                       4         5             6         7  \\\n",
       "species growth_phase replicate                                               \n",
       "bc      lag          01         0.130014 -2.080180  0.000000e+00  1.040112   \n",
       "                     02         1.867163  1.120305  8.713430e-01 -1.369260   \n",
       "                     03        -1.419711  1.032515 -2.000491e+00 -0.903453   \n",
       "                     04         3.709871  1.520432  8.514440e-01 -2.067810   \n",
       "                     05         2.985793  2.985763 -3.590000e-07 -0.995270   \n",
       "\n",
       "                                       8         9  ...       1036      1037  \\\n",
       "species growth_phase replicate                      ...                        \n",
       "bc      lag          01         1.235136 -0.195020  ...   1.755222  1.235332   \n",
       "                     02        -1.929420  0.684622  ...   0.124451  0.809098   \n",
       "                     03         2.968462  1.032499  ...   4.259427  2.129823   \n",
       "                     04        -1.581270  0.304085  ...   2.493739  3.467134   \n",
       "                     05        -0.933060 -1.990480  ...   1.057399  3.981489   \n",
       "\n",
       "                                    1038      1039      1040      1041  \\\n",
       "species growth_phase replicate                                           \n",
       "bc      lag          01         4.355984  0.520024  0.715032 -0.325010   \n",
       "                     02         1.058059  2.676111  0.622357  0.560118   \n",
       "                     03         0.064477 -2.516599  0.516229 -0.903391   \n",
       "                     04         5.900169  1.520354  2.067671  0.121629   \n",
       "                     05         6.469838 -0.933000  0.062199 -0.435400   \n",
       "\n",
       "                                    1042  lag  log  stat  \n",
       "species growth_phase replicate                            \n",
       "bc      lag          01        -0.520030  1.0  0.0   0.0  \n",
       "                     02        -0.435650  1.0  0.0   0.0  \n",
       "                     03         1.096991  1.0  0.0   0.0  \n",
       "                     04         1.094670  1.0  0.0   0.0  \n",
       "                     05         1.430629  1.0  0.0   0.0  \n",
       "\n",
       "[5 rows x 1046 columns]"
      ]
     },
     "execution_count": 7,
     "metadata": {},
     "output_type": "execute_result"
    }
   ],
   "source": [
    "X['lag'] = growth_phases[:, 0]\n",
    "X['log'] = growth_phases[:, 1]\n",
    "X['stat'] = growth_phases[:, 2]\n",
    "\n",
    "X.head()"
   ]
  },
  {
   "cell_type": "code",
   "execution_count": 8,
   "metadata": {},
   "outputs": [
    {
     "data": {
      "text/plain": [
       "0    bc\n",
       "1    bc\n",
       "2    bc\n",
       "3    bc\n",
       "4    bc\n",
       "Name: species, dtype: object"
      ]
     },
     "execution_count": 8,
     "metadata": {},
     "output_type": "execute_result"
    }
   ],
   "source": [
    "y = X.reset_index()['species']\n",
    "y.head()"
   ]
  },
  {
   "cell_type": "code",
   "execution_count": 9,
   "metadata": {},
   "outputs": [
    {
     "data": {
      "text/plain": [
       "count     135\n",
       "unique      6\n",
       "top        bc\n",
       "freq       36\n",
       "Name: species, dtype: object"
      ]
     },
     "execution_count": 9,
     "metadata": {},
     "output_type": "execute_result"
    }
   ],
   "source": [
    "y.describe()"
   ]
  },
  {
   "cell_type": "code",
   "execution_count": 10,
   "metadata": {
    "scrolled": true
   },
   "outputs": [
    {
     "name": "stdout",
     "output_type": "stream",
     "text": [
      "0      bc\n",
      "1      bc\n",
      "2      bc\n",
      "3      bc\n",
      "4      bc\n",
      "5      bc\n",
      "6      bc\n",
      "7      bc\n",
      "8      bc\n",
      "9      bc\n",
      "10     bc\n",
      "11     bc\n",
      "12     bc\n",
      "13     bc\n",
      "14     bc\n",
      "15     bc\n",
      "16     bc\n",
      "17     bc\n",
      "18     bc\n",
      "19     bc\n",
      "20     bc\n",
      "21     bc\n",
      "22     bc\n",
      "23     bc\n",
      "24     bc\n",
      "25     bc\n",
      "26     bc\n",
      "27     bc\n",
      "28     bc\n",
      "29     bc\n",
      "       ..\n",
      "105    sa\n",
      "106    sa\n",
      "107    sa\n",
      "108    sa\n",
      "109    sa\n",
      "110    sa\n",
      "111    sa\n",
      "112    sa\n",
      "113    sa\n",
      "114    sa\n",
      "115    sa\n",
      "116    sa\n",
      "117    sa\n",
      "118    se\n",
      "119    se\n",
      "120    se\n",
      "121    se\n",
      "122    se\n",
      "123    se\n",
      "124    se\n",
      "125    se\n",
      "126    se\n",
      "127    se\n",
      "128    se\n",
      "129    se\n",
      "130    se\n",
      "131    se\n",
      "132    se\n",
      "133    se\n",
      "134    se\n",
      "Name: species, Length: 135, dtype: object\n"
     ]
    }
   ],
   "source": [
    "print(y)"
   ]
  },
  {
   "cell_type": "code",
   "execution_count": 11,
   "metadata": {},
   "outputs": [
    {
     "name": "stdout",
     "output_type": "stream",
     "text": [
      "2.6417033940517855e-19 1.0\n",
      "(135, 1046)\n",
      "                                       0         1         2         3  \\\n",
      "species growth_phase replicate                                           \n",
      "bc      lag          01         0.000000  1.560060  0.715025 -0.520060   \n",
      "                     02         0.622353 -2.115990  0.062234  2.178335   \n",
      "                     03         0.064528  0.645279 -1.032450 -2.064991   \n",
      "                     04        -1.094650 -2.554170 -0.912210  0.851433   \n",
      "                     05        -1.492810 -0.559800  2.923387  3.047967   \n",
      "\n",
      "                                       4         5             6         7  \\\n",
      "species growth_phase replicate                                               \n",
      "bc      lag          01         0.130014 -2.080180  0.000000e+00  1.040112   \n",
      "                     02         1.867163  1.120305  8.713430e-01 -1.369260   \n",
      "                     03        -1.419711  1.032515 -2.000491e+00 -0.903453   \n",
      "                     04         3.709871  1.520432  8.514440e-01 -2.067810   \n",
      "                     05         2.985793  2.985763 -3.590000e-07 -0.995270   \n",
      "\n",
      "                                       8         9  ...       1036      1037  \\\n",
      "species growth_phase replicate                      ...                        \n",
      "bc      lag          01         1.235136 -0.195020  ...   1.755222  1.235332   \n",
      "                     02        -1.929420  0.684622  ...   0.124451  0.809098   \n",
      "                     03         2.968462  1.032499  ...   4.259427  2.129823   \n",
      "                     04        -1.581270  0.304085  ...   2.493739  3.467134   \n",
      "                     05        -0.933060 -1.990480  ...   1.057399  3.981489   \n",
      "\n",
      "                                    1038      1039      1040      1041  \\\n",
      "species growth_phase replicate                                           \n",
      "bc      lag          01         4.355984  0.520024  0.715032 -0.325010   \n",
      "                     02         1.058059  2.676111  0.622357  0.560118   \n",
      "                     03         0.064477 -2.516599  0.516229 -0.903391   \n",
      "                     04         5.900169  1.520354  2.067671  0.121629   \n",
      "                     05         6.469838 -0.933000  0.062199 -0.435400   \n",
      "\n",
      "                                    1042  lag  log  stat  \n",
      "species growth_phase replicate                            \n",
      "bc      lag          01        -0.520030  1.0  0.0   0.0  \n",
      "                     02        -0.435650  1.0  0.0   0.0  \n",
      "                     03         1.096991  1.0  0.0   0.0  \n",
      "                     04         1.094670  1.0  0.0   0.0  \n",
      "                     05         1.430629  1.0  0.0   0.0  \n",
      "\n",
      "[5 rows x 1046 columns]\n"
     ]
    }
   ],
   "source": [
    "from sklearn.preprocessing import StandardScaler, OneHotEncoder\n",
    "\n",
    "scaler = StandardScaler()\n",
    "X_scaled = scaler.fit_transform(X)\n",
    "\n",
    "print(X_scaled.mean(), X_scaled.std())\n",
    "print(X_scaled.shape)\n",
    "print(X[:5])"
   ]
  },
  {
   "cell_type": "code",
   "execution_count": 12,
   "metadata": {},
   "outputs": [
    {
     "name": "stdout",
     "output_type": "stream",
     "text": [
      "                                       0         1         2         3  \\\n",
      "species growth_phase replicate                                           \n",
      "bc      stat         03        -0.279776  0.419667 -0.419668  0.279793   \n",
      "                     06         0.361383 -0.542070 -0.782990  0.361400   \n",
      "ec      lag          02         0.786579 -1.114310  0.721023  1.638780   \n",
      "se      stat         02         1.283523  0.192528  1.219347 -3.337340   \n",
      "        log          05         0.787276  0.242244  0.242238  1.756314   \n",
      "\n",
      "                                       4         5         6         7  \\\n",
      "species growth_phase replicate                                           \n",
      "bc      stat         03         2.378291  1.049258  0.489651  6.155592   \n",
      "                     06         1.325136  1.264897 -0.180700  1.867256   \n",
      "ec      lag          02         1.507702  0.262210  0.524415 -0.983280   \n",
      "se      stat         02         1.604498 -1.732870  0.898522  0.834347   \n",
      "        log          05        -0.181680  0.363376  2.180277  0.302818   \n",
      "\n",
      "                                       8         9  ...       1036       1037  \\\n",
      "species growth_phase replicate                      ...                         \n",
      "bc      stat         03         3.567415  0.839389  ...   8.535311  13.572317   \n",
      "                     06         1.385384 -1.264910  ...   6.626633   5.662667   \n",
      "ec      lag          02        -2.359880  1.114375  ...   2.294473   1.900842   \n",
      "se      stat         02         1.283612 -0.962690  ...   1.091055   4.364707   \n",
      "        log          05         1.756351  0.302808  ...   7.995322   8.540576   \n",
      "\n",
      "                                     1038      1039      1040      1041  \\\n",
      "species growth_phase replicate                                            \n",
      "bc      stat         03         12.732630  1.538781 -0.139889  0.419673   \n",
      "                     06          7.409666 -0.542070  0.180692 -1.023910   \n",
      "ec      lag          02          0.786573  1.900893 -1.245420 -0.327740   \n",
      "se      stat         02         -2.310500 -2.823750  1.861123  0.705936   \n",
      "        log          05          9.994334 -0.726720 -0.666150  1.271742   \n",
      "\n",
      "                                    1042  lag  log  stat  \n",
      "species growth_phase replicate                            \n",
      "bc      stat         03        -0.139893  0.0  0.0   1.0  \n",
      "                     06         0.662543  0.0  0.0   1.0  \n",
      "ec      lag          02        -0.262200  1.0  0.0   0.0  \n",
      "se      stat         02        -0.641770  0.0  0.0   1.0  \n",
      "        log          05        -0.666160  0.0  1.0   0.0  \n",
      "\n",
      "[5 rows x 1046 columns]\n",
      "26     bc\n",
      "29     bc\n",
      "37     ec\n",
      "129    se\n",
      "127    se\n",
      "Name: species, dtype: object\n"
     ]
    }
   ],
   "source": [
    "from sklearn.utils import shuffle\n",
    "\n",
    "X, y = shuffle(X, y)\n",
    "\n",
    "print(X[:5])\n",
    "print(y[:5])"
   ]
  },
  {
   "cell_type": "markdown",
   "metadata": {},
   "source": [
    "# PCA + SVM"
   ]
  },
  {
   "cell_type": "code",
   "execution_count": 21,
   "metadata": {},
   "outputs": [
    {
     "name": "stdout",
     "output_type": "stream",
     "text": [
      "(135, 75)\n"
     ]
    }
   ],
   "source": [
    "from sklearn.decomposition import PCA\n",
    "\n",
    "pca = PCA(n_components=0.99, svd_solver='full')\n",
    "pca.fit(X_scaled)\n",
    "\n",
    "X_pca = pca.transform(X_scaled)\n",
    "print(X_pca.shape)"
   ]
  },
  {
   "cell_type": "code",
   "execution_count": 14,
   "metadata": {},
   "outputs": [
    {
     "name": "stdout",
     "output_type": "stream",
     "text": [
      "Fitting 60 folds for each of 264 candidates, totalling 15840 fits\n"
     ]
    },
    {
     "name": "stderr",
     "output_type": "stream",
     "text": [
      "[Parallel(n_jobs=-1)]: Using backend LokyBackend with 4 concurrent workers.\n",
      "[Parallel(n_jobs=-1)]: Done  90 tasks      | elapsed:    2.2s\n",
      "[Parallel(n_jobs=-1)]: Done 990 tasks      | elapsed:   10.6s\n",
      "[Parallel(n_jobs=-1)]: Done 2490 tasks      | elapsed:   25.2s\n",
      "[Parallel(n_jobs=-1)]: Done 4590 tasks      | elapsed:   45.6s\n",
      "[Parallel(n_jobs=-1)]: Done 6917 tasks      | elapsed:  1.8min\n",
      "[Parallel(n_jobs=-1)]: Done 8083 tasks      | elapsed:  4.0min\n",
      "[Parallel(n_jobs=-1)]: Done 8845 tasks      | elapsed:  7.3min\n",
      "[Parallel(n_jobs=-1)]: Done 9689 tasks      | elapsed: 10.8min\n",
      "[Parallel(n_jobs=-1)]: Done 10635 tasks      | elapsed: 15.0min\n",
      "[Parallel(n_jobs=-1)]: Done 11712 tasks      | elapsed: 19.6min\n",
      "[Parallel(n_jobs=-1)]: Done 12844 tasks      | elapsed: 24.2min\n",
      "[Parallel(n_jobs=-1)]: Done 14087 tasks      | elapsed: 29.6min\n",
      "[Parallel(n_jobs=-1)]: Done 15594 tasks      | elapsed: 35.7min\n",
      "[Parallel(n_jobs=-1)]: Done 15833 out of 15840 | elapsed: 36.6min remaining:    1.0s\n",
      "[Parallel(n_jobs=-1)]: Done 15840 out of 15840 | elapsed: 36.6min finished\n",
      "/home/anthony/miniconda3/lib/python3.7/site-packages/sklearn/model_selection/_search.py:841: DeprecationWarning: The default of the `iid` parameter will change from True to False in version 0.22 and will be removed in 0.24. This will change numeric results when test-set sizes are unequal.\n",
      "  DeprecationWarning)\n"
     ]
    },
    {
     "name": "stdout",
     "output_type": "stream",
     "text": [
      "0.5603703703703704\n",
      "{'C': 0.0001, 'gamma': 1, 'kernel': 'linear'}\n"
     ]
    }
   ],
   "source": [
    "from sklearn.svm import SVC\n",
    "from sklearn.model_selection import RepeatedStratifiedKFold, cross_val_score, GridSearchCV\n",
    "\n",
    "param_grid = {\n",
    "    'kernel': ['linear', 'rbf'],\n",
    "    'gamma': [10 ** -n for n in range(10)],\n",
    "    'C': [10 ** n for n in range(-9, 2)]\n",
    "}\n",
    "\n",
    "cv = RepeatedStratifiedKFold(n_splits=3, n_repeats=20)\n",
    "clf = SVC()\n",
    "\n",
    "grid_search = GridSearchCV(clf, param_grid, cv=cv, verbose=1, n_jobs=-1)\n",
    "grid_search.fit(X, y)\n",
    "\n",
    "print(grid_search.best_score_)\n",
    "print(grid_search.best_params_)"
   ]
  },
  {
   "cell_type": "code",
   "execution_count": 15,
   "metadata": {},
   "outputs": [
    {
     "name": "stdout",
     "output_type": "stream",
     "text": [
      "Accuracy: 0.27 (+/- 0.02)\n",
      "CPU times: user 1.05 s, sys: 0 ns, total: 1.05 s\n",
      "Wall time: 1.05 s\n"
     ]
    }
   ],
   "source": [
    "%%time\n",
    "\n",
    "cv = RepeatedStratifiedKFold(n_splits=3, n_repeats=20)\n",
    "scores = cross_val_score(grid_search.best_estimator_, X_pca, y, cv=cv)\n",
    "print(\"Accuracy: %0.2f (+/- %0.2f)\" % (scores.mean(), scores.std() * 2))"
   ]
  },
  {
   "cell_type": "code",
   "execution_count": 16,
   "metadata": {},
   "outputs": [
    {
     "name": "stdout",
     "output_type": "stream",
     "text": [
      "Accuracy: 0.57 (+/- 0.13)\n",
      "CPU times: user 8min 31s, sys: 168 ms, total: 8min 31s\n",
      "Wall time: 8min 31s\n"
     ]
    }
   ],
   "source": [
    "%%time\n",
    "\n",
    "cv = RepeatedStratifiedKFold(n_splits=3, n_repeats=20)\n",
    "scores = cross_val_score(grid_search.best_estimator_, X, y, cv=cv)\n",
    "print(\"Accuracy: %0.2f (+/- %0.2f)\" % (scores.mean(), scores.std() * 2))"
   ]
  },
  {
   "cell_type": "markdown",
   "metadata": {},
   "source": [
    "# Random Forest with Decision Stumps"
   ]
  },
  {
   "cell_type": "code",
   "execution_count": 18,
   "metadata": {},
   "outputs": [
    {
     "name": "stdout",
     "output_type": "stream",
     "text": [
      "Accuracy: 0.27 (+/- 0.02)\n",
      "CPU times: user 47.6 s, sys: 52 ms, total: 47.7 s\n",
      "Wall time: 47.6 s\n"
     ]
    }
   ],
   "source": [
    "%%time\n",
    "\n",
    "from sklearn.ensemble import RandomForestClassifier\n",
    "\n",
    "clf = RandomForestClassifier(n_estimators=1024, max_depth=1)\n",
    "cv = RepeatedStratifiedKFold(n_splits=3, n_repeats=20)\n",
    "scores = cross_val_score(clf, X_pca, y, cv=cv)\n",
    "print(\"Accuracy: %0.2f (+/- %0.2f)\" % (scores.mean(), scores.std() * 2))"
   ]
  },
  {
   "cell_type": "code",
   "execution_count": 17,
   "metadata": {},
   "outputs": [
    {
     "name": "stdout",
     "output_type": "stream",
     "text": [
      "Accuracy: 0.39 (+/- 0.10)\n",
      "CPU times: user 55.7 s, sys: 16 ms, total: 55.8 s\n",
      "Wall time: 55.8 s\n"
     ]
    }
   ],
   "source": [
    "%%time\n",
    "\n",
    "clf = RandomForestClassifier(n_estimators=1024, max_depth=1)\n",
    "cv = RepeatedStratifiedKFold(n_splits=3, n_repeats=20)\n",
    "scores = cross_val_score(clf, X, y, cv=cv)\n",
    "print(\"Accuracy: %0.2f (+/- %0.2f)\" % (scores.mean(), scores.std() * 2))"
   ]
  },
  {
   "cell_type": "markdown",
   "metadata": {},
   "source": [
    "# AdaBoost"
   ]
  },
  {
   "cell_type": "code",
   "execution_count": 22,
   "metadata": {},
   "outputs": [
    {
     "name": "stdout",
     "output_type": "stream",
     "text": [
      "Accuracy: 0.21 (+/- 0.09)\n",
      "CPU times: user 1min 47s, sys: 70.6 ms, total: 1min 47s\n",
      "Wall time: 1min 47s\n"
     ]
    }
   ],
   "source": [
    "%%time\n",
    "\n",
    "from sklearn.tree import DecisionTreeClassifier\n",
    "from sklearn.ensemble import AdaBoostClassifier\n",
    "\n",
    "clf = AdaBoostClassifier(DecisionTreeClassifier(max_depth=1),\n",
    "                        n_estimators=1024)\n",
    "cv = RepeatedStratifiedKFold(n_splits=3, n_repeats=20)\n",
    "scores = cross_val_score(clf, X_pca, y, cv=cv)\n",
    "print(\"Accuracy: %0.2f (+/- %0.2f)\" % (scores.mean(), scores.std() * 2))"
   ]
  },
  {
   "cell_type": "code",
   "execution_count": 23,
   "metadata": {},
   "outputs": [
    {
     "name": "stdout",
     "output_type": "stream",
     "text": [
      "Accuracy: 0.28 (+/- 0.12)\n",
      "CPU times: user 9min 12s, sys: 568 ms, total: 9min 12s\n",
      "Wall time: 9min 12s\n"
     ]
    }
   ],
   "source": [
    "%%time\n",
    "\n",
    "clf = AdaBoostClassifier(DecisionTreeClassifier(max_depth=1),\n",
    "                        n_estimators=1024)\n",
    "cv = RepeatedStratifiedKFold(n_splits=3, n_repeats=20)\n",
    "scores = cross_val_score(clf, X, y, cv=cv)\n",
    "print(\"Accuracy: %0.2f (+/- %0.2f)\" % (scores.mean(), scores.std() * 2))"
   ]
  }
 ],
 "metadata": {
  "kernelspec": {
   "display_name": "Python 3",
   "language": "python",
   "name": "python3"
  },
  "language_info": {
   "codemirror_mode": {
    "name": "ipython",
    "version": 3
   },
   "file_extension": ".py",
   "mimetype": "text/x-python",
   "name": "python",
   "nbconvert_exporter": "python",
   "pygments_lexer": "ipython3",
   "version": "3.7.2"
  }
 },
 "nbformat": 4,
 "nbformat_minor": 2
}
