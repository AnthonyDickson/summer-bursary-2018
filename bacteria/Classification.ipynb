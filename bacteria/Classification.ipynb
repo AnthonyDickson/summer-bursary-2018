{
 "cells": [
  {
   "cell_type": "code",
   "execution_count": 1,
   "metadata": {},
   "outputs": [],
   "source": [
    "from experiment import Experiment"
   ]
  },
  {
   "cell_type": "code",
   "execution_count": 2,
   "metadata": {
    "scrolled": false
   },
   "outputs": [
    {
     "name": "stdout",
     "output_type": "stream",
     "text": [
      "################################################################################\n",
      "Running tests for 16ms integration time.\n",
      "################################################################################\n",
      "**************************\n",
      "Running Naive Bayes tests.\n",
      "**************************\n",
      "Accuracy: 0.41 (+/- 0.18)\n",
      "PCA Accuracy: 0.29 (+/- 0.17)\n",
      "Elapsed time: 0.97s.\n",
      "******************\n",
      "Running SVM tests.\n",
      "******************\n",
      "Fitting 60 folds for each of 220 candidates, totalling 13200 fits\n"
     ]
    },
    {
     "name": "stderr",
     "output_type": "stream",
     "text": [
      "[Parallel(n_jobs=-1)]: Using backend LokyBackend with 4 concurrent workers.\n",
      "[Parallel(n_jobs=-1)]: Done 536 tasks      | elapsed:    2.5s\n",
      "[Parallel(n_jobs=-1)]: Done 8936 tasks      | elapsed:   12.9s\n",
      "[Parallel(n_jobs=-1)]: Done 13200 out of 13200 | elapsed:   18.0s finished\n"
     ]
    },
    {
     "name": "stdout",
     "output_type": "stream",
     "text": [
      "Best grid search score was 0.49 with the following settings: {'C': 0.1, 'gamma': 1, 'kernel': 'linear'}\n",
      "Accuracy: 0.51 (+/- 0.20)\n",
      "PCA Accuracy: 0.49 (+/- 0.18)\n",
      "Elapsed time: 18.83s.\n",
      "**************************************************************************\n",
      "Running RandomForest tests using 512 Decision Trees with a max depth of 1.\n",
      "**************************************************************************\n",
      "Accuracy: 0.47 (+/- 0.10)\n",
      "PCA Accuracy: 0.46 (+/- 0.09)\n",
      "Elapsed time: 50.46s.\n",
      "**************************************************************************\n",
      "Running RandomForest tests using 512 Decision Trees with a max depth of 3.\n",
      "**************************************************************************\n",
      "Accuracy: 0.42 (+/- 0.16)\n",
      "PCA Accuracy: 0.45 (+/- 0.16)\n",
      "Elapsed time: 55.87s.\n",
      "**********************************************************************\n",
      "Running AdaBoost tests using 256 Decision Trees with a max depth of 1.\n",
      "**********************************************************************\n",
      "Accuracy: 0.39 (+/- 0.15)\n",
      "PCA Accuracy: 0.34 (+/- 0.22)\n",
      "Elapsed time: 156.35s.\n",
      "**********************************************************************\n",
      "Running AdaBoost tests using 256 Decision Trees with a max depth of 3.\n",
      "**********************************************************************\n",
      "Accuracy: 0.38 (+/- 0.16)\n",
      "PCA Accuracy: 0.38 (+/- 0.21)\n",
      "Elapsed time: 334.69s.\n",
      "################################################################################\n",
      "Running tests for 32ms integration time.\n",
      "################################################################################\n",
      "**************************\n",
      "Running Naive Bayes tests.\n",
      "**************************\n",
      "Accuracy: 0.43 (+/- 0.14)\n",
      "PCA Accuracy: 0.29 (+/- 0.17)\n",
      "Elapsed time: 0.76s.\n",
      "******************\n",
      "Running SVM tests.\n",
      "******************\n",
      "Fitting 60 folds for each of 220 candidates, totalling 13200 fits\n"
     ]
    },
    {
     "name": "stderr",
     "output_type": "stream",
     "text": [
      "[Parallel(n_jobs=-1)]: Using backend LokyBackend with 4 concurrent workers.\n",
      "[Parallel(n_jobs=-1)]: Done 741 tasks      | elapsed:    2.3s\n",
      "[Parallel(n_jobs=-1)]: Done 13200 out of 13200 | elapsed:   12.0s finished\n"
     ]
    },
    {
     "name": "stdout",
     "output_type": "stream",
     "text": [
      "Best grid search score was 0.54 with the following settings: {'C': 10, 'gamma': 1, 'kernel': 'linear'}\n",
      "Accuracy: 0.54 (+/- 0.19)\n",
      "PCA Accuracy: 0.54 (+/- 0.20)\n",
      "Elapsed time: 12.77s.\n",
      "**************************************************************************\n",
      "Running RandomForest tests using 512 Decision Trees with a max depth of 1.\n",
      "**************************************************************************\n",
      "Accuracy: 0.49 (+/- 0.08)\n",
      "PCA Accuracy: 0.45 (+/- 0.12)\n",
      "Elapsed time: 50.02s.\n",
      "**************************************************************************\n",
      "Running RandomForest tests using 512 Decision Trees with a max depth of 3.\n",
      "**************************************************************************\n",
      "Accuracy: 0.45 (+/- 0.13)\n",
      "PCA Accuracy: 0.44 (+/- 0.14)\n",
      "Elapsed time: 55.69s.\n",
      "**********************************************************************\n",
      "Running AdaBoost tests using 256 Decision Trees with a max depth of 1.\n",
      "**********************************************************************\n",
      "Accuracy: 0.39 (+/- 0.22)\n",
      "PCA Accuracy: 0.38 (+/- 0.20)\n",
      "Elapsed time: 155.10s.\n",
      "**********************************************************************\n",
      "Running AdaBoost tests using 256 Decision Trees with a max depth of 3.\n",
      "**********************************************************************\n",
      "Accuracy: 0.43 (+/- 0.22)\n",
      "PCA Accuracy: 0.39 (+/- 0.21)\n",
      "Elapsed time: 336.64s.\n",
      "All tests done.\n",
      "Elapsed time: 1228.15s.\n"
     ]
    }
   ],
   "source": [
    "experiment_lag = Experiment('lag')\n",
    "experiment_lag.run()"
   ]
  },
  {
   "cell_type": "code",
   "execution_count": 3,
   "metadata": {},
   "outputs": [
    {
     "name": "stdout",
     "output_type": "stream",
     "text": [
      "################################################################################\n",
      "Running tests for 16ms integration time.\n",
      "################################################################################\n",
      "**************************\n",
      "Running Naive Bayes tests.\n",
      "**************************\n",
      "Accuracy: 0.40 (+/- 0.18)\n",
      "PCA Accuracy: 0.39 (+/- 0.18)\n",
      "Elapsed time: 0.78s.\n",
      "******************\n",
      "Running SVM tests.\n",
      "******************\n",
      "Fitting 60 folds for each of 220 candidates, totalling 13200 fits\n"
     ]
    },
    {
     "name": "stderr",
     "output_type": "stream",
     "text": [
      "[Parallel(n_jobs=-1)]: Using backend LokyBackend with 4 concurrent workers.\n",
      "[Parallel(n_jobs=-1)]: Done 1001 tasks      | elapsed:    1.9s\n",
      "[Parallel(n_jobs=-1)]: Done 11201 tasks      | elapsed:   10.2s\n",
      "[Parallel(n_jobs=-1)]: Done 13200 out of 13200 | elapsed:   11.8s finished\n"
     ]
    },
    {
     "name": "stdout",
     "output_type": "stream",
     "text": [
      "Best grid search score was 0.50 with the following settings: {'C': 1, 'gamma': 1, 'kernel': 'linear'}\n",
      "Accuracy: 0.48 (+/- 0.21)\n",
      "PCA Accuracy: 0.50 (+/- 0.21)\n",
      "Elapsed time: 12.50s.\n",
      "**************************************************************************\n",
      "Running RandomForest tests using 512 Decision Trees with a max depth of 1.\n",
      "**************************************************************************\n",
      "Accuracy: 0.48 (+/- 0.12)\n",
      "PCA Accuracy: 0.39 (+/- 0.18)\n",
      "Elapsed time: 50.75s.\n",
      "**************************************************************************\n",
      "Running RandomForest tests using 512 Decision Trees with a max depth of 3.\n",
      "**************************************************************************\n",
      "Accuracy: 0.49 (+/- 0.19)\n",
      "PCA Accuracy: 0.50 (+/- 0.17)\n",
      "Elapsed time: 55.68s.\n",
      "**********************************************************************\n",
      "Running AdaBoost tests using 256 Decision Trees with a max depth of 1.\n",
      "**********************************************************************\n",
      "Accuracy: 0.35 (+/- 0.23)\n",
      "PCA Accuracy: 0.46 (+/- 0.19)\n",
      "Elapsed time: 138.78s.\n",
      "**********************************************************************\n",
      "Running AdaBoost tests using 256 Decision Trees with a max depth of 3.\n",
      "**********************************************************************\n",
      "Accuracy: 0.45 (+/- 0.23)\n",
      "PCA Accuracy: 0.48 (+/- 0.23)\n",
      "Elapsed time: 226.45s.\n",
      "################################################################################\n",
      "Running tests for 32ms integration time.\n",
      "################################################################################\n",
      "**************************\n",
      "Running Naive Bayes tests.\n",
      "**************************\n",
      "Accuracy: 0.37 (+/- 0.18)\n",
      "PCA Accuracy: 0.38 (+/- 0.20)\n",
      "Elapsed time: 0.71s.\n",
      "******************\n",
      "Running SVM tests.\n",
      "******************\n",
      "Fitting 60 folds for each of 220 candidates, totalling 13200 fits\n"
     ]
    },
    {
     "name": "stderr",
     "output_type": "stream",
     "text": [
      "[Parallel(n_jobs=-1)]: Using backend LokyBackend with 4 concurrent workers.\n",
      "[Parallel(n_jobs=-1)]: Done 990 tasks      | elapsed:    1.8s\n",
      "[Parallel(n_jobs=-1)]: Done 13200 out of 13200 | elapsed:   12.0s finished\n"
     ]
    },
    {
     "name": "stdout",
     "output_type": "stream",
     "text": [
      "Best grid search score was 0.50 with the following settings: {'C': 10, 'gamma': 1, 'kernel': 'linear'}\n",
      "Accuracy: 0.48 (+/- 0.23)\n",
      "PCA Accuracy: 0.50 (+/- 0.25)\n",
      "Elapsed time: 12.75s.\n",
      "**************************************************************************\n",
      "Running RandomForest tests using 512 Decision Trees with a max depth of 1.\n",
      "**************************************************************************\n",
      "Accuracy: 0.47 (+/- 0.12)\n",
      "PCA Accuracy: 0.36 (+/- 0.16)\n",
      "Elapsed time: 50.65s.\n",
      "**************************************************************************\n",
      "Running RandomForest tests using 512 Decision Trees with a max depth of 3.\n",
      "**************************************************************************\n",
      "Accuracy: 0.45 (+/- 0.20)\n",
      "PCA Accuracy: 0.39 (+/- 0.23)\n",
      "Elapsed time: 54.31s.\n",
      "**********************************************************************\n",
      "Running AdaBoost tests using 256 Decision Trees with a max depth of 1.\n",
      "**********************************************************************\n",
      "Accuracy: 0.35 (+/- 0.28)\n",
      "PCA Accuracy: 0.43 (+/- 0.23)\n",
      "Elapsed time: 135.95s.\n",
      "**********************************************************************\n",
      "Running AdaBoost tests using 256 Decision Trees with a max depth of 3.\n",
      "**********************************************************************\n",
      "Accuracy: 0.43 (+/- 0.23)\n",
      "PCA Accuracy: 0.39 (+/- 0.22)\n",
      "Elapsed time: 265.40s.\n",
      "All tests done.\n",
      "Elapsed time: 1004.72s.\n"
     ]
    }
   ],
   "source": [
    "experiment_log = Experiment('log')\n",
    "experiment_log.run()"
   ]
  },
  {
   "cell_type": "code",
   "execution_count": 4,
   "metadata": {},
   "outputs": [
    {
     "name": "stdout",
     "output_type": "stream",
     "text": [
      "################################################################################\n",
      "Running tests for 16ms integration time.\n",
      "################################################################################\n",
      "**************************\n",
      "Running Naive Bayes tests.\n",
      "**************************\n",
      "Accuracy: 0.41 (+/- 0.18)\n",
      "PCA Accuracy: 0.33 (+/- 0.18)\n",
      "Elapsed time: 0.86s.\n",
      "******************\n",
      "Running SVM tests.\n",
      "******************\n",
      "Fitting 60 folds for each of 220 candidates, totalling 13200 fits\n"
     ]
    },
    {
     "name": "stderr",
     "output_type": "stream",
     "text": [
      "[Parallel(n_jobs=-1)]: Using backend LokyBackend with 4 concurrent workers.\n",
      "[Parallel(n_jobs=-1)]: Done 931 tasks      | elapsed:    1.9s\n",
      "[Parallel(n_jobs=-1)]: Done 11131 tasks      | elapsed:   10.4s\n",
      "[Parallel(n_jobs=-1)]: Done 13200 out of 13200 | elapsed:   12.0s finished\n"
     ]
    },
    {
     "name": "stdout",
     "output_type": "stream",
     "text": [
      "Best grid search score was 0.50 with the following settings: {'C': 0.1, 'gamma': 1, 'kernel': 'linear'}\n",
      "Accuracy: 0.51 (+/- 0.19)\n",
      "PCA Accuracy: 0.50 (+/- 0.17)\n",
      "Elapsed time: 12.74s.\n",
      "**************************************************************************\n",
      "Running RandomForest tests using 512 Decision Trees with a max depth of 1.\n",
      "**************************************************************************\n",
      "Accuracy: 0.49 (+/- 0.17)\n",
      "PCA Accuracy: 0.34 (+/- 0.13)\n",
      "Elapsed time: 50.82s.\n",
      "**************************************************************************\n",
      "Running RandomForest tests using 512 Decision Trees with a max depth of 3.\n",
      "**************************************************************************\n",
      "Accuracy: 0.52 (+/- 0.18)\n",
      "PCA Accuracy: 0.47 (+/- 0.21)\n",
      "Elapsed time: 56.50s.\n",
      "**********************************************************************\n",
      "Running AdaBoost tests using 256 Decision Trees with a max depth of 1.\n",
      "**********************************************************************\n",
      "Accuracy: 0.38 (+/- 0.17)\n",
      "PCA Accuracy: 0.35 (+/- 0.14)\n",
      "Elapsed time: 155.79s.\n",
      "**********************************************************************\n",
      "Running AdaBoost tests using 256 Decision Trees with a max depth of 3.\n",
      "**********************************************************************\n",
      "Accuracy: 0.44 (+/- 0.21)\n",
      "PCA Accuracy: 0.43 (+/- 0.19)\n",
      "Elapsed time: 318.40s.\n",
      "################################################################################\n",
      "Running tests for 32ms integration time.\n",
      "################################################################################\n",
      "**************************\n",
      "Running Naive Bayes tests.\n",
      "**************************\n",
      "Accuracy: 0.42 (+/- 0.20)\n",
      "PCA Accuracy: 0.35 (+/- 0.21)\n",
      "Elapsed time: 0.77s.\n",
      "******************\n",
      "Running SVM tests.\n",
      "******************\n",
      "Fitting 60 folds for each of 220 candidates, totalling 13200 fits\n"
     ]
    },
    {
     "name": "stderr",
     "output_type": "stream",
     "text": [
      "[Parallel(n_jobs=-1)]: Using backend LokyBackend with 4 concurrent workers.\n",
      "[Parallel(n_jobs=-1)]: Done 1245 tasks      | elapsed:    2.2s\n",
      "[Parallel(n_jobs=-1)]: Done 13200 out of 13200 | elapsed:   11.7s finished\n"
     ]
    },
    {
     "name": "stdout",
     "output_type": "stream",
     "text": [
      "Best grid search score was 0.56 with the following settings: {'C': 0.1, 'gamma': 1, 'kernel': 'linear'}\n",
      "Accuracy: 0.57 (+/- 0.18)\n",
      "PCA Accuracy: 0.57 (+/- 0.18)\n",
      "Elapsed time: 12.43s.\n",
      "**************************************************************************\n",
      "Running RandomForest tests using 512 Decision Trees with a max depth of 1.\n",
      "**************************************************************************\n",
      "Accuracy: 0.50 (+/- 0.16)\n",
      "PCA Accuracy: 0.42 (+/- 0.15)\n",
      "Elapsed time: 51.23s.\n",
      "**************************************************************************\n",
      "Running RandomForest tests using 512 Decision Trees with a max depth of 3.\n",
      "**************************************************************************\n",
      "Accuracy: 0.52 (+/- 0.17)\n",
      "PCA Accuracy: 0.44 (+/- 0.19)\n",
      "Elapsed time: 55.87s.\n",
      "**********************************************************************\n",
      "Running AdaBoost tests using 256 Decision Trees with a max depth of 1.\n",
      "**********************************************************************\n",
      "Accuracy: 0.40 (+/- 0.20)\n",
      "PCA Accuracy: 0.37 (+/- 0.15)\n",
      "Elapsed time: 159.66s.\n",
      "**********************************************************************\n",
      "Running AdaBoost tests using 256 Decision Trees with a max depth of 3.\n",
      "**********************************************************************\n",
      "Accuracy: 0.46 (+/- 0.19)\n",
      "PCA Accuracy: 0.41 (+/- 0.20)\n",
      "Elapsed time: 323.85s.\n",
      "All tests done.\n",
      "Elapsed time: 1198.94s.\n"
     ]
    }
   ],
   "source": [
    "experiment_stat = Experiment('stat')\n",
    "experiment_stat.run()"
   ]
  },
  {
   "cell_type": "code",
   "execution_count": 5,
   "metadata": {},
   "outputs": [
    {
     "name": "stdout",
     "output_type": "stream",
     "text": [
      "################################################################################\n",
      "Running tests for 16ms integration time.\n",
      "################################################################################\n",
      "**************************\n",
      "Running Naive Bayes tests.\n",
      "**************************\n",
      "Accuracy: 0.28 (+/- 0.11)\n",
      "PCA Accuracy: 0.32 (+/- 0.10)\n",
      "Elapsed time: 4.56s.\n",
      "******************\n",
      "Running SVM tests.\n",
      "******************\n",
      "Fitting 60 folds for each of 220 candidates, totalling 13200 fits\n"
     ]
    },
    {
     "name": "stderr",
     "output_type": "stream",
     "text": [
      "[Parallel(n_jobs=-1)]: Using backend LokyBackend with 4 concurrent workers.\n",
      "[Parallel(n_jobs=-1)]: Done 665 tasks      | elapsed:    2.1s\n",
      "[Parallel(n_jobs=-1)]: Done 7565 tasks      | elapsed:   13.6s\n",
      "[Parallel(n_jobs=-1)]: Done 13200 out of 13200 | elapsed:   24.1s finished\n"
     ]
    },
    {
     "name": "stdout",
     "output_type": "stream",
     "text": [
      "Best grid search score was 0.47 with the following settings: {'C': 10, 'gamma': 0.01, 'kernel': 'rbf'}\n",
      "Accuracy: 0.48 (+/- 0.12)\n",
      "PCA Accuracy: 0.47 (+/- 0.11)\n",
      "Elapsed time: 27.61s.\n",
      "**************************************************************************\n",
      "Running RandomForest tests using 512 Decision Trees with a max depth of 1.\n",
      "**************************************************************************\n",
      "Accuracy: 0.39 (+/- 0.12)\n",
      "PCA Accuracy: 0.32 (+/- 0.06)\n",
      "Elapsed time: 59.14s.\n",
      "**************************************************************************\n",
      "Running RandomForest tests using 512 Decision Trees with a max depth of 3.\n",
      "**************************************************************************\n",
      "Accuracy: 0.44 (+/- 0.11)\n",
      "PCA Accuracy: 0.38 (+/- 0.11)\n",
      "Elapsed time: 77.78s.\n",
      "**********************************************************************\n",
      "Running AdaBoost tests using 256 Decision Trees with a max depth of 1.\n",
      "**********************************************************************\n",
      "Accuracy: 0.31 (+/- 0.13)\n",
      "PCA Accuracy: 0.32 (+/- 0.12)\n",
      "Elapsed time: 423.59s.\n",
      "**********************************************************************\n",
      "Running AdaBoost tests using 256 Decision Trees with a max depth of 3.\n",
      "**********************************************************************\n",
      "Accuracy: 0.40 (+/- 0.12)\n",
      "PCA Accuracy: 0.37 (+/- 0.11)\n",
      "Elapsed time: 1079.65s.\n",
      "################################################################################\n",
      "Running tests for 32ms integration time.\n",
      "################################################################################\n",
      "**************************\n",
      "Running Naive Bayes tests.\n",
      "**************************\n",
      "Accuracy: 0.30 (+/- 0.10)\n",
      "PCA Accuracy: 0.31 (+/- 0.11)\n",
      "Elapsed time: 1.28s.\n",
      "******************\n",
      "Running SVM tests.\n",
      "******************\n",
      "Fitting 60 folds for each of 220 candidates, totalling 13200 fits\n"
     ]
    },
    {
     "name": "stderr",
     "output_type": "stream",
     "text": [
      "[Parallel(n_jobs=-1)]: Using backend LokyBackend with 4 concurrent workers.\n",
      "[Parallel(n_jobs=-1)]: Done 489 tasks      | elapsed:    1.6s\n",
      "[Parallel(n_jobs=-1)]: Done 10989 tasks      | elapsed:   14.4s\n",
      "[Parallel(n_jobs=-1)]: Done 13200 out of 13200 | elapsed:   17.7s finished\n"
     ]
    },
    {
     "name": "stdout",
     "output_type": "stream",
     "text": [
      "Best grid search score was 0.47 with the following settings: {'C': 10, 'gamma': 0.01, 'kernel': 'rbf'}\n",
      "Accuracy: 0.47 (+/- 0.11)\n",
      "PCA Accuracy: 0.47 (+/- 0.11)\n",
      "Elapsed time: 21.18s.\n",
      "**************************************************************************\n",
      "Running RandomForest tests using 512 Decision Trees with a max depth of 1.\n",
      "**************************************************************************\n",
      "Accuracy: 0.35 (+/- 0.11)\n",
      "PCA Accuracy: 0.32 (+/- 0.06)\n",
      "Elapsed time: 57.79s.\n",
      "**************************************************************************\n",
      "Running RandomForest tests using 512 Decision Trees with a max depth of 3.\n",
      "**************************************************************************\n",
      "Accuracy: 0.43 (+/- 0.10)\n",
      "PCA Accuracy: 0.37 (+/- 0.11)\n",
      "Elapsed time: 75.45s.\n",
      "**********************************************************************\n",
      "Running AdaBoost tests using 256 Decision Trees with a max depth of 1.\n",
      "**********************************************************************\n",
      "Accuracy: 0.28 (+/- 0.13)\n",
      "PCA Accuracy: 0.34 (+/- 0.11)\n",
      "Elapsed time: 419.17s.\n",
      "**********************************************************************\n",
      "Running AdaBoost tests using 256 Decision Trees with a max depth of 3.\n",
      "**********************************************************************\n",
      "Accuracy: 0.37 (+/- 0.11)\n",
      "PCA Accuracy: 0.36 (+/- 0.11)\n",
      "Elapsed time: 1058.15s.\n",
      "All tests done.\n",
      "Elapsed time: 3305.36s.\n"
     ]
    }
   ],
   "source": [
    "experiment_all = Experiment('all')\n",
    "experiment_all.run()"
   ]
  }
 ],
 "metadata": {
  "kernelspec": {
   "display_name": "Python 3",
   "language": "python",
   "name": "python3"
  },
  "language_info": {
   "codemirror_mode": {
    "name": "ipython",
    "version": 3
   },
   "file_extension": ".py",
   "mimetype": "text/x-python",
   "name": "python",
   "nbconvert_exporter": "python",
   "pygments_lexer": "ipython3",
   "version": "3.7.2"
  }
 },
 "nbformat": 4,
 "nbformat_minor": 2
}
