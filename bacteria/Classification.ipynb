{
 "cells": [
  {
   "cell_type": "code",
   "execution_count": 1,
   "metadata": {},
   "outputs": [],
   "source": [
    "import os\n",
    "\n",
    "import numpy as np\n",
    "import pandas as pd"
   ]
  },
  {
   "cell_type": "code",
   "execution_count": 2,
   "metadata": {},
   "outputs": [
    {
     "data": {
      "text/plain": [
       "'/home/anthony/summer-bursary-2018/bacteria'"
      ]
     },
     "execution_count": 2,
     "metadata": {},
     "output_type": "execute_result"
    }
   ],
   "source": [
    "os.getcwd()"
   ]
  },
  {
   "cell_type": "code",
   "execution_count": 3,
   "metadata": {},
   "outputs": [
    {
     "data": {
      "text/plain": [
       "['Classific.py',\n",
       " 'graphs.pdf',\n",
       " 'growth_stages.csv',\n",
       " '16ms_32ms_growth_phase_spectra.csv',\n",
       " 'PC6allwavelengths.png',\n",
       " 'wavelengths.csv',\n",
       " '16_ms_lag_codes.csv']"
      ]
     },
     "execution_count": 3,
     "metadata": {},
     "output_type": "execute_result"
    }
   ],
   "source": [
    "os.listdir('data')"
   ]
  },
  {
   "cell_type": "code",
   "execution_count": 4,
   "metadata": {},
   "outputs": [
    {
     "name": "stdout",
     "output_type": "stream",
     "text": [
      "<class 'pandas.core.frame.DataFrame'>\n",
      "Int64Index: 1043 entries, 0 to 1042\n",
      "Columns: 135 entries, (lag, bc, 01) to (stat, se, 07)\n",
      "dtypes: float64(135)\n",
      "memory usage: 1.1 MB\n"
     ]
    }
   ],
   "source": [
    "df = pd.read_csv('data/growth_stages.csv', header=[0, 1, 2], index_col=0)\n",
    "df.info()"
   ]
  },
  {
   "cell_type": "markdown",
   "metadata": {},
   "source": [
    "# Preprocessing"
   ]
  },
  {
   "cell_type": "code",
   "execution_count": 5,
   "metadata": {},
   "outputs": [
    {
     "data": {
      "text/html": [
       "<div>\n",
       "<style scoped>\n",
       "    .dataframe tbody tr th:only-of-type {\n",
       "        vertical-align: middle;\n",
       "    }\n",
       "\n",
       "    .dataframe tbody tr th {\n",
       "        vertical-align: top;\n",
       "    }\n",
       "\n",
       "    .dataframe thead th {\n",
       "        text-align: right;\n",
       "    }\n",
       "</style>\n",
       "<table border=\"1\" class=\"dataframe\">\n",
       "  <thead>\n",
       "    <tr style=\"text-align: right;\">\n",
       "      <th></th>\n",
       "      <th></th>\n",
       "      <th></th>\n",
       "      <th>0</th>\n",
       "      <th>1</th>\n",
       "      <th>2</th>\n",
       "      <th>3</th>\n",
       "      <th>4</th>\n",
       "      <th>5</th>\n",
       "      <th>6</th>\n",
       "      <th>7</th>\n",
       "      <th>8</th>\n",
       "      <th>9</th>\n",
       "      <th>...</th>\n",
       "      <th>1033</th>\n",
       "      <th>1034</th>\n",
       "      <th>1035</th>\n",
       "      <th>1036</th>\n",
       "      <th>1037</th>\n",
       "      <th>1038</th>\n",
       "      <th>1039</th>\n",
       "      <th>1040</th>\n",
       "      <th>1041</th>\n",
       "      <th>1042</th>\n",
       "    </tr>\n",
       "    <tr>\n",
       "      <th>species</th>\n",
       "      <th>growth_stage</th>\n",
       "      <th>replicate</th>\n",
       "      <th></th>\n",
       "      <th></th>\n",
       "      <th></th>\n",
       "      <th></th>\n",
       "      <th></th>\n",
       "      <th></th>\n",
       "      <th></th>\n",
       "      <th></th>\n",
       "      <th></th>\n",
       "      <th></th>\n",
       "      <th></th>\n",
       "      <th></th>\n",
       "      <th></th>\n",
       "      <th></th>\n",
       "      <th></th>\n",
       "      <th></th>\n",
       "      <th></th>\n",
       "      <th></th>\n",
       "      <th></th>\n",
       "      <th></th>\n",
       "      <th></th>\n",
       "    </tr>\n",
       "  </thead>\n",
       "  <tbody>\n",
       "    <tr>\n",
       "      <th rowspan=\"5\" valign=\"top\">bc</th>\n",
       "      <th rowspan=\"5\" valign=\"top\">lag</th>\n",
       "      <th>01</th>\n",
       "      <td>0.000000</td>\n",
       "      <td>1.560060</td>\n",
       "      <td>0.715025</td>\n",
       "      <td>-0.520060</td>\n",
       "      <td>0.130014</td>\n",
       "      <td>-2.080180</td>\n",
       "      <td>0.000000e+00</td>\n",
       "      <td>1.040112</td>\n",
       "      <td>1.235136</td>\n",
       "      <td>-0.195020</td>\n",
       "      <td>...</td>\n",
       "      <td>1.170374</td>\n",
       "      <td>2.730861</td>\n",
       "      <td>3.835922</td>\n",
       "      <td>1.755222</td>\n",
       "      <td>1.235332</td>\n",
       "      <td>4.355984</td>\n",
       "      <td>0.520024</td>\n",
       "      <td>0.715032</td>\n",
       "      <td>-0.325010</td>\n",
       "      <td>-0.520030</td>\n",
       "    </tr>\n",
       "    <tr>\n",
       "      <th>02</th>\n",
       "      <td>0.622353</td>\n",
       "      <td>-2.115990</td>\n",
       "      <td>0.062234</td>\n",
       "      <td>2.178335</td>\n",
       "      <td>1.867163</td>\n",
       "      <td>1.120305</td>\n",
       "      <td>8.713430e-01</td>\n",
       "      <td>-1.369260</td>\n",
       "      <td>-1.929420</td>\n",
       "      <td>0.684622</td>\n",
       "      <td>...</td>\n",
       "      <td>-0.373450</td>\n",
       "      <td>-0.187040</td>\n",
       "      <td>-2.302970</td>\n",
       "      <td>0.124451</td>\n",
       "      <td>0.809098</td>\n",
       "      <td>1.058059</td>\n",
       "      <td>2.676111</td>\n",
       "      <td>0.622357</td>\n",
       "      <td>0.560118</td>\n",
       "      <td>-0.435650</td>\n",
       "    </tr>\n",
       "    <tr>\n",
       "      <th>03</th>\n",
       "      <td>0.064528</td>\n",
       "      <td>0.645279</td>\n",
       "      <td>-1.032450</td>\n",
       "      <td>-2.064991</td>\n",
       "      <td>-1.419711</td>\n",
       "      <td>1.032515</td>\n",
       "      <td>-2.000491e+00</td>\n",
       "      <td>-0.903453</td>\n",
       "      <td>2.968462</td>\n",
       "      <td>1.032499</td>\n",
       "      <td>...</td>\n",
       "      <td>3.097847</td>\n",
       "      <td>4.775991</td>\n",
       "      <td>4.775919</td>\n",
       "      <td>4.259427</td>\n",
       "      <td>2.129823</td>\n",
       "      <td>0.064477</td>\n",
       "      <td>-2.516599</td>\n",
       "      <td>0.516229</td>\n",
       "      <td>-0.903391</td>\n",
       "      <td>1.096991</td>\n",
       "    </tr>\n",
       "    <tr>\n",
       "      <th>04</th>\n",
       "      <td>-1.094650</td>\n",
       "      <td>-2.554170</td>\n",
       "      <td>-0.912210</td>\n",
       "      <td>0.851433</td>\n",
       "      <td>3.709871</td>\n",
       "      <td>1.520432</td>\n",
       "      <td>8.514440e-01</td>\n",
       "      <td>-2.067810</td>\n",
       "      <td>-1.581270</td>\n",
       "      <td>0.304085</td>\n",
       "      <td>...</td>\n",
       "      <td>4.257782</td>\n",
       "      <td>3.284733</td>\n",
       "      <td>0.851676</td>\n",
       "      <td>2.493739</td>\n",
       "      <td>3.467134</td>\n",
       "      <td>5.900169</td>\n",
       "      <td>1.520354</td>\n",
       "      <td>2.067671</td>\n",
       "      <td>0.121629</td>\n",
       "      <td>1.094670</td>\n",
       "    </tr>\n",
       "    <tr>\n",
       "      <th>05</th>\n",
       "      <td>-1.492810</td>\n",
       "      <td>-0.559800</td>\n",
       "      <td>2.923387</td>\n",
       "      <td>3.047967</td>\n",
       "      <td>2.985793</td>\n",
       "      <td>2.985763</td>\n",
       "      <td>-3.590000e-07</td>\n",
       "      <td>-0.995270</td>\n",
       "      <td>-0.933060</td>\n",
       "      <td>-1.990480</td>\n",
       "      <td>...</td>\n",
       "      <td>4.479034</td>\n",
       "      <td>2.488391</td>\n",
       "      <td>3.546049</td>\n",
       "      <td>1.057399</td>\n",
       "      <td>3.981489</td>\n",
       "      <td>6.469838</td>\n",
       "      <td>-0.933000</td>\n",
       "      <td>0.062199</td>\n",
       "      <td>-0.435400</td>\n",
       "      <td>1.430629</td>\n",
       "    </tr>\n",
       "  </tbody>\n",
       "</table>\n",
       "<p>5 rows × 1043 columns</p>\n",
       "</div>"
      ],
      "text/plain": [
       "                                    0         1         2         3     \\\n",
       "species growth_stage replicate                                           \n",
       "bc      lag          01         0.000000  1.560060  0.715025 -0.520060   \n",
       "                     02         0.622353 -2.115990  0.062234  2.178335   \n",
       "                     03         0.064528  0.645279 -1.032450 -2.064991   \n",
       "                     04        -1.094650 -2.554170 -0.912210  0.851433   \n",
       "                     05        -1.492810 -0.559800  2.923387  3.047967   \n",
       "\n",
       "                                    4         5             6         7     \\\n",
       "species growth_stage replicate                                               \n",
       "bc      lag          01         0.130014 -2.080180  0.000000e+00  1.040112   \n",
       "                     02         1.867163  1.120305  8.713430e-01 -1.369260   \n",
       "                     03        -1.419711  1.032515 -2.000491e+00 -0.903453   \n",
       "                     04         3.709871  1.520432  8.514440e-01 -2.067810   \n",
       "                     05         2.985793  2.985763 -3.590000e-07 -0.995270   \n",
       "\n",
       "                                    8         9       ...         1033  \\\n",
       "species growth_stage replicate                        ...                \n",
       "bc      lag          01         1.235136 -0.195020    ...     1.170374   \n",
       "                     02        -1.929420  0.684622    ...    -0.373450   \n",
       "                     03         2.968462  1.032499    ...     3.097847   \n",
       "                     04        -1.581270  0.304085    ...     4.257782   \n",
       "                     05        -0.933060 -1.990480    ...     4.479034   \n",
       "\n",
       "                                    1034      1035      1036      1037  \\\n",
       "species growth_stage replicate                                           \n",
       "bc      lag          01         2.730861  3.835922  1.755222  1.235332   \n",
       "                     02        -0.187040 -2.302970  0.124451  0.809098   \n",
       "                     03         4.775991  4.775919  4.259427  2.129823   \n",
       "                     04         3.284733  0.851676  2.493739  3.467134   \n",
       "                     05         2.488391  3.546049  1.057399  3.981489   \n",
       "\n",
       "                                    1038      1039      1040      1041  \\\n",
       "species growth_stage replicate                                           \n",
       "bc      lag          01         4.355984  0.520024  0.715032 -0.325010   \n",
       "                     02         1.058059  2.676111  0.622357  0.560118   \n",
       "                     03         0.064477 -2.516599  0.516229 -0.903391   \n",
       "                     04         5.900169  1.520354  2.067671  0.121629   \n",
       "                     05         6.469838 -0.933000  0.062199 -0.435400   \n",
       "\n",
       "                                    1042  \n",
       "species growth_stage replicate            \n",
       "bc      lag          01        -0.520030  \n",
       "                     02        -0.435650  \n",
       "                     03         1.096991  \n",
       "                     04         1.094670  \n",
       "                     05         1.430629  \n",
       "\n",
       "[5 rows x 1043 columns]"
      ]
     },
     "execution_count": 5,
     "metadata": {},
     "output_type": "execute_result"
    }
   ],
   "source": [
    "X = df.reorder_levels([1, 0, 2], axis=1).sort_index(axis=1).T\n",
    "X.head()"
   ]
  },
  {
   "cell_type": "code",
   "execution_count": 6,
   "metadata": {},
   "outputs": [
    {
     "data": {
      "text/plain": [
       "0    bc\n",
       "1    bc\n",
       "2    bc\n",
       "3    bc\n",
       "4    bc\n",
       "Name: species, dtype: object"
      ]
     },
     "execution_count": 6,
     "metadata": {},
     "output_type": "execute_result"
    }
   ],
   "source": [
    "y = X.reset_index()['species']\n",
    "y.head()"
   ]
  },
  {
   "cell_type": "code",
   "execution_count": 7,
   "metadata": {},
   "outputs": [
    {
     "data": {
      "text/plain": [
       "count     135\n",
       "unique      6\n",
       "top        bc\n",
       "freq       36\n",
       "Name: species, dtype: object"
      ]
     },
     "execution_count": 7,
     "metadata": {},
     "output_type": "execute_result"
    }
   ],
   "source": [
    "y.describe()"
   ]
  },
  {
   "cell_type": "code",
   "execution_count": 8,
   "metadata": {
    "scrolled": true
   },
   "outputs": [
    {
     "name": "stdout",
     "output_type": "stream",
     "text": [
      "0      bc\n",
      "1      bc\n",
      "2      bc\n",
      "3      bc\n",
      "4      bc\n",
      "5      bc\n",
      "6      bc\n",
      "7      bc\n",
      "8      bc\n",
      "9      bc\n",
      "10     bc\n",
      "11     bc\n",
      "12     bc\n",
      "13     bc\n",
      "14     bc\n",
      "15     bc\n",
      "16     bc\n",
      "17     bc\n",
      "18     bc\n",
      "19     bc\n",
      "20     bc\n",
      "21     bc\n",
      "22     bc\n",
      "23     bc\n",
      "24     bc\n",
      "25     bc\n",
      "26     bc\n",
      "27     bc\n",
      "28     bc\n",
      "29     bc\n",
      "       ..\n",
      "105    sa\n",
      "106    sa\n",
      "107    sa\n",
      "108    sa\n",
      "109    sa\n",
      "110    sa\n",
      "111    sa\n",
      "112    sa\n",
      "113    sa\n",
      "114    sa\n",
      "115    sa\n",
      "116    sa\n",
      "117    sa\n",
      "118    se\n",
      "119    se\n",
      "120    se\n",
      "121    se\n",
      "122    se\n",
      "123    se\n",
      "124    se\n",
      "125    se\n",
      "126    se\n",
      "127    se\n",
      "128    se\n",
      "129    se\n",
      "130    se\n",
      "131    se\n",
      "132    se\n",
      "133    se\n",
      "134    se\n",
      "Name: species, Length: 135, dtype: object\n"
     ]
    }
   ],
   "source": [
    "print(y)"
   ]
  },
  {
   "cell_type": "code",
   "execution_count": 9,
   "metadata": {},
   "outputs": [],
   "source": [
    "from sklearn.preprocessing import StandardScaler, OneHotEncoder"
   ]
  },
  {
   "cell_type": "code",
   "execution_count": 10,
   "metadata": {},
   "outputs": [
    {
     "name": "stdout",
     "output_type": "stream",
     "text": [
      "2.9066625176507776e-17 0.9999999999999999\n",
      "(135, 1043)\n"
     ]
    }
   ],
   "source": [
    "scaler = StandardScaler()\n",
    "X_scaled = scaler.fit_transform(X)\n",
    "\n",
    "print(X_scaled.mean(), X_scaled.std())\n",
    "print(X_scaled.shape)"
   ]
  },
  {
   "cell_type": "code",
   "execution_count": 11,
   "metadata": {},
   "outputs": [
    {
     "name": "stdout",
     "output_type": "stream",
     "text": [
      "(135, 6)\n",
      "[[1. 0. 0. 0. 0. 0.]\n",
      " [1. 0. 0. 0. 0. 0.]\n",
      " [1. 0. 0. 0. 0. 0.]\n",
      " [1. 0. 0. 0. 0. 0.]\n",
      " [1. 0. 0. 0. 0. 0.]]\n"
     ]
    }
   ],
   "source": [
    "ohe = OneHotEncoder(sparse=False)\n",
    "y_ohe = ohe.fit_transform(y.values.reshape(-1, 1))\n",
    "\n",
    "print(y_ohe.shape)\n",
    "print(y_ohe[:5])"
   ]
  },
  {
   "cell_type": "markdown",
   "metadata": {},
   "source": [
    "# PCA + SVM"
   ]
  },
  {
   "cell_type": "code",
   "execution_count": 12,
   "metadata": {},
   "outputs": [
    {
     "name": "stdout",
     "output_type": "stream",
     "text": [
      "(135, 74)\n"
     ]
    }
   ],
   "source": [
    "from sklearn.decomposition import PCA\n",
    "\n",
    "pca = PCA(n_components=0.99, svd_solver='full')\n",
    "pca.fit(X_scaled)\n",
    "\n",
    "X_pca = pca.transform(X_scaled)\n",
    "print(X_pca.shape)"
   ]
  },
  {
   "cell_type": "code",
   "execution_count": 13,
   "metadata": {},
   "outputs": [],
   "source": [
    "def gaussian_kernel(X, Y):\n",
    "    raise NotImplementedError"
   ]
  },
  {
   "cell_type": "code",
   "execution_count": 14,
   "metadata": {},
   "outputs": [
    {
     "name": "stdout",
     "output_type": "stream",
     "text": [
      "Fitting 60 folds for each of 132 candidates, totalling 7920 fits\n"
     ]
    },
    {
     "name": "stderr",
     "output_type": "stream",
     "text": [
      "[Parallel(n_jobs=-1)]: Using backend LokyBackend with 4 concurrent workers.\n",
      "[Parallel(n_jobs=-1)]: Done 105 tasks      | elapsed:    1.7s\n",
      "[Parallel(n_jobs=-1)]: Done 1005 tasks      | elapsed:   10.2s\n",
      "[Parallel(n_jobs=-1)]: Done 2505 tasks      | elapsed:   24.2s\n",
      "[Parallel(n_jobs=-1)]: Done 4605 tasks      | elapsed:   44.1s\n",
      "[Parallel(n_jobs=-1)]: Done 7305 tasks      | elapsed:  1.2min\n"
     ]
    },
    {
     "name": "stdout",
     "output_type": "stream",
     "text": [
      "0.43222222222222223\n",
      "{'C': 1, 'gamma': 1e-09}\n"
     ]
    },
    {
     "name": "stderr",
     "output_type": "stream",
     "text": [
      "[Parallel(n_jobs=-1)]: Done 7920 out of 7920 | elapsed:  1.3min finished\n",
      "/home/anthony/miniconda3/lib/python3.7/site-packages/sklearn/model_selection/_search.py:841: DeprecationWarning: The default of the `iid` parameter will change from True to False in version 0.22 and will be removed in 0.24. This will change numeric results when test-set sizes are unequal.\n",
      "  DeprecationWarning)\n"
     ]
    }
   ],
   "source": [
    "from sklearn.svm import SVC\n",
    "from sklearn.model_selection import RepeatedStratifiedKFold, cross_val_score, GridSearchCV\n",
    "\n",
    "param_grid = {\n",
    "    'gamma': [10 ** -n for n in range(11)],\n",
    "    'C': [10 ** n for n in range(-10, 2)]\n",
    "}\n",
    "\n",
    "cv = RepeatedStratifiedKFold(n_splits=3, n_repeats=20)\n",
    "clf = SVC()\n",
    "\n",
    "grid_search = GridSearchCV(clf, param_grid, cv=cv, verbose=1, n_jobs=-1)\n",
    "grid_search.fit(X, y)\n",
    "\n",
    "print(grid_search.best_score_)\n",
    "print(grid_search.best_params_)"
   ]
  },
  {
   "cell_type": "code",
   "execution_count": 15,
   "metadata": {},
   "outputs": [
    {
     "name": "stdout",
     "output_type": "stream",
     "text": [
      "Accuracy: 0.27 (+/- 0.02)\n",
      "CPU times: user 1.08 s, sys: 0 ns, total: 1.08 s\n",
      "Wall time: 1.08 s\n"
     ]
    }
   ],
   "source": [
    "%%time\n",
    "\n",
    "cv = RepeatedStratifiedKFold(n_splits=3, n_repeats=100)\n",
    "scores = cross_val_score(grid_search.best_estimator_, X_pca, y, cv=cv)\n",
    "print(\"Accuracy: %0.2f (+/- %0.2f)\" % (scores.mean(), scores.std() * 2))"
   ]
  },
  {
   "cell_type": "markdown",
   "metadata": {},
   "source": [
    "# Random Forest with Decision Stumps"
   ]
  },
  {
   "cell_type": "code",
   "execution_count": 16,
   "metadata": {},
   "outputs": [
    {
     "name": "stdout",
     "output_type": "stream",
     "text": [
      "Accuracy: 0.33 (+/- 0.06)\n",
      "CPU times: user 47.8 s, sys: 22 ms, total: 47.8 s\n",
      "Wall time: 47.8 s\n"
     ]
    }
   ],
   "source": [
    "%%time\n",
    "\n",
    "from sklearn.ensemble import RandomForestClassifier\n",
    "\n",
    "clf = RandomForestClassifier(n_estimators=1024, max_depth=1)\n",
    "cv = RepeatedStratifiedKFold(n_splits=3, n_repeats=20)\n",
    "scores = cross_val_score(clf, X_pca, y, cv=cv)\n",
    "print(\"Accuracy: %0.2f (+/- %0.2f)\" % (scores.mean(), scores.std() * 2))"
   ]
  },
  {
   "cell_type": "markdown",
   "metadata": {},
   "source": [
    "# AdaBoost"
   ]
  },
  {
   "cell_type": "code",
   "execution_count": 17,
   "metadata": {},
   "outputs": [
    {
     "name": "stdout",
     "output_type": "stream",
     "text": [
      "Accuracy: 0.37 (+/- 0.10)\n",
      "CPU times: user 4min 16s, sys: 188 ms, total: 4min 16s\n",
      "Wall time: 4min 16s\n"
     ]
    }
   ],
   "source": [
    "%%time\n",
    "\n",
    "from sklearn.ensemble import AdaBoostClassifier\n",
    "\n",
    "clf = AdaBoostClassifier(RandomForestClassifier(n_estimators=1024, max_depth=1),\n",
    "                        n_estimators=512)\n",
    "cv = RepeatedStratifiedKFold(n_splits=3, n_repeats=10)\n",
    "scores = cross_val_score(clf, X_pca, y, cv=cv)\n",
    "print(\"Accuracy: %0.2f (+/- %0.2f)\" % (scores.mean(), scores.std() * 2))"
   ]
  }
 ],
 "metadata": {
  "kernelspec": {
   "display_name": "Python 3",
   "language": "python",
   "name": "python3"
  },
  "language_info": {
   "codemirror_mode": {
    "name": "ipython",
    "version": 3
   },
   "file_extension": ".py",
   "mimetype": "text/x-python",
   "name": "python",
   "nbconvert_exporter": "python",
   "pygments_lexer": "ipython3",
   "version": "3.7.2"
  }
 },
 "nbformat": 4,
 "nbformat_minor": 2
}
